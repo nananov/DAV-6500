{
  "nbformat": 4,
  "nbformat_minor": 0,
  "metadata": {
    "colab": {
      "provenance": []
    },
    "kernelspec": {
      "name": "python3",
      "display_name": "Python 3"
    },
    "language_info": {
      "name": "python"
    }
  },
  "cells": [
    {
      "cell_type": "markdown",
      "source": [
        "# **DAV 6500 CAPSTONE**"
      ],
      "metadata": {
        "id": "B4vNXwKoWGh-"
      }
    },
    {
      "cell_type": "code",
      "execution_count": null,
      "metadata": {
        "colab": {
          "base_uri": "https://localhost:8080/",
          "height": 223
        },
        "id": "Y56-b8RsTbl3",
        "outputId": "ec7d8a04-9056-446f-a271-56e9a08435da"
      },
      "outputs": [
        {
          "output_type": "stream",
          "name": "stdout",
          "text": [
            "(43451, 9)\n"
          ]
        },
        {
          "output_type": "execute_result",
          "data": {
            "text/plain": [
              "         date home_team away_team  home_score  away_score tournament     city  \\\n",
              "0  1872-11-30  Scotland   England           0           0   Friendly  Glasgow   \n",
              "1  1873-03-08   England  Scotland           4           2   Friendly   London   \n",
              "2  1874-03-07  Scotland   England           2           1   Friendly  Glasgow   \n",
              "3  1875-03-06   England  Scotland           2           2   Friendly   London   \n",
              "4  1876-03-04  Scotland   England           3           0   Friendly  Glasgow   \n",
              "\n",
              "    country  neutral  \n",
              "0  Scotland    False  \n",
              "1   England    False  \n",
              "2  Scotland    False  \n",
              "3   England    False  \n",
              "4  Scotland    False  "
            ],
            "text/html": [
              "\n",
              "  <div id=\"df-60efc25d-ddd5-4b2e-86c4-b0df5f3a435e\">\n",
              "    <div class=\"colab-df-container\">\n",
              "      <div>\n",
              "<style scoped>\n",
              "    .dataframe tbody tr th:only-of-type {\n",
              "        vertical-align: middle;\n",
              "    }\n",
              "\n",
              "    .dataframe tbody tr th {\n",
              "        vertical-align: top;\n",
              "    }\n",
              "\n",
              "    .dataframe thead th {\n",
              "        text-align: right;\n",
              "    }\n",
              "</style>\n",
              "<table border=\"1\" class=\"dataframe\">\n",
              "  <thead>\n",
              "    <tr style=\"text-align: right;\">\n",
              "      <th></th>\n",
              "      <th>date</th>\n",
              "      <th>home_team</th>\n",
              "      <th>away_team</th>\n",
              "      <th>home_score</th>\n",
              "      <th>away_score</th>\n",
              "      <th>tournament</th>\n",
              "      <th>city</th>\n",
              "      <th>country</th>\n",
              "      <th>neutral</th>\n",
              "    </tr>\n",
              "  </thead>\n",
              "  <tbody>\n",
              "    <tr>\n",
              "      <th>0</th>\n",
              "      <td>1872-11-30</td>\n",
              "      <td>Scotland</td>\n",
              "      <td>England</td>\n",
              "      <td>0</td>\n",
              "      <td>0</td>\n",
              "      <td>Friendly</td>\n",
              "      <td>Glasgow</td>\n",
              "      <td>Scotland</td>\n",
              "      <td>False</td>\n",
              "    </tr>\n",
              "    <tr>\n",
              "      <th>1</th>\n",
              "      <td>1873-03-08</td>\n",
              "      <td>England</td>\n",
              "      <td>Scotland</td>\n",
              "      <td>4</td>\n",
              "      <td>2</td>\n",
              "      <td>Friendly</td>\n",
              "      <td>London</td>\n",
              "      <td>England</td>\n",
              "      <td>False</td>\n",
              "    </tr>\n",
              "    <tr>\n",
              "      <th>2</th>\n",
              "      <td>1874-03-07</td>\n",
              "      <td>Scotland</td>\n",
              "      <td>England</td>\n",
              "      <td>2</td>\n",
              "      <td>1</td>\n",
              "      <td>Friendly</td>\n",
              "      <td>Glasgow</td>\n",
              "      <td>Scotland</td>\n",
              "      <td>False</td>\n",
              "    </tr>\n",
              "    <tr>\n",
              "      <th>3</th>\n",
              "      <td>1875-03-06</td>\n",
              "      <td>England</td>\n",
              "      <td>Scotland</td>\n",
              "      <td>2</td>\n",
              "      <td>2</td>\n",
              "      <td>Friendly</td>\n",
              "      <td>London</td>\n",
              "      <td>England</td>\n",
              "      <td>False</td>\n",
              "    </tr>\n",
              "    <tr>\n",
              "      <th>4</th>\n",
              "      <td>1876-03-04</td>\n",
              "      <td>Scotland</td>\n",
              "      <td>England</td>\n",
              "      <td>3</td>\n",
              "      <td>0</td>\n",
              "      <td>Friendly</td>\n",
              "      <td>Glasgow</td>\n",
              "      <td>Scotland</td>\n",
              "      <td>False</td>\n",
              "    </tr>\n",
              "  </tbody>\n",
              "</table>\n",
              "</div>\n",
              "      <button class=\"colab-df-convert\" onclick=\"convertToInteractive('df-60efc25d-ddd5-4b2e-86c4-b0df5f3a435e')\"\n",
              "              title=\"Convert this dataframe to an interactive table.\"\n",
              "              style=\"display:none;\">\n",
              "        \n",
              "  <svg xmlns=\"http://www.w3.org/2000/svg\" height=\"24px\"viewBox=\"0 0 24 24\"\n",
              "       width=\"24px\">\n",
              "    <path d=\"M0 0h24v24H0V0z\" fill=\"none\"/>\n",
              "    <path d=\"M18.56 5.44l.94 2.06.94-2.06 2.06-.94-2.06-.94-.94-2.06-.94 2.06-2.06.94zm-11 1L8.5 8.5l.94-2.06 2.06-.94-2.06-.94L8.5 2.5l-.94 2.06-2.06.94zm10 10l.94 2.06.94-2.06 2.06-.94-2.06-.94-.94-2.06-.94 2.06-2.06.94z\"/><path d=\"M17.41 7.96l-1.37-1.37c-.4-.4-.92-.59-1.43-.59-.52 0-1.04.2-1.43.59L10.3 9.45l-7.72 7.72c-.78.78-.78 2.05 0 2.83L4 21.41c.39.39.9.59 1.41.59.51 0 1.02-.2 1.41-.59l7.78-7.78 2.81-2.81c.8-.78.8-2.07 0-2.86zM5.41 20L4 18.59l7.72-7.72 1.47 1.35L5.41 20z\"/>\n",
              "  </svg>\n",
              "      </button>\n",
              "      \n",
              "  <style>\n",
              "    .colab-df-container {\n",
              "      display:flex;\n",
              "      flex-wrap:wrap;\n",
              "      gap: 12px;\n",
              "    }\n",
              "\n",
              "    .colab-df-convert {\n",
              "      background-color: #E8F0FE;\n",
              "      border: none;\n",
              "      border-radius: 50%;\n",
              "      cursor: pointer;\n",
              "      display: none;\n",
              "      fill: #1967D2;\n",
              "      height: 32px;\n",
              "      padding: 0 0 0 0;\n",
              "      width: 32px;\n",
              "    }\n",
              "\n",
              "    .colab-df-convert:hover {\n",
              "      background-color: #E2EBFA;\n",
              "      box-shadow: 0px 1px 2px rgba(60, 64, 67, 0.3), 0px 1px 3px 1px rgba(60, 64, 67, 0.15);\n",
              "      fill: #174EA6;\n",
              "    }\n",
              "\n",
              "    [theme=dark] .colab-df-convert {\n",
              "      background-color: #3B4455;\n",
              "      fill: #D2E3FC;\n",
              "    }\n",
              "\n",
              "    [theme=dark] .colab-df-convert:hover {\n",
              "      background-color: #434B5C;\n",
              "      box-shadow: 0px 1px 3px 1px rgba(0, 0, 0, 0.15);\n",
              "      filter: drop-shadow(0px 1px 2px rgba(0, 0, 0, 0.3));\n",
              "      fill: #FFFFFF;\n",
              "    }\n",
              "  </style>\n",
              "\n",
              "      <script>\n",
              "        const buttonEl =\n",
              "          document.querySelector('#df-60efc25d-ddd5-4b2e-86c4-b0df5f3a435e button.colab-df-convert');\n",
              "        buttonEl.style.display =\n",
              "          google.colab.kernel.accessAllowed ? 'block' : 'none';\n",
              "\n",
              "        async function convertToInteractive(key) {\n",
              "          const element = document.querySelector('#df-60efc25d-ddd5-4b2e-86c4-b0df5f3a435e');\n",
              "          const dataTable =\n",
              "            await google.colab.kernel.invokeFunction('convertToInteractive',\n",
              "                                                     [key], {});\n",
              "          if (!dataTable) return;\n",
              "\n",
              "          const docLinkHtml = 'Like what you see? Visit the ' +\n",
              "            '<a target=\"_blank\" href=https://colab.research.google.com/notebooks/data_table.ipynb>data table notebook</a>'\n",
              "            + ' to learn more about interactive tables.';\n",
              "          element.innerHTML = '';\n",
              "          dataTable['output_type'] = 'display_data';\n",
              "          await google.colab.output.renderOutput(dataTable, element);\n",
              "          const docLink = document.createElement('div');\n",
              "          docLink.innerHTML = docLinkHtml;\n",
              "          element.appendChild(docLink);\n",
              "        }\n",
              "      </script>\n",
              "    </div>\n",
              "  </div>\n",
              "  "
            ]
          },
          "metadata": {},
          "execution_count": 1
        }
      ],
      "source": [
        "# import pandas and ignore warnings\n",
        "\n",
        "import pandas as pd \n",
        "pd.set_option('display.max_columns',None)\n",
        "import warnings\n",
        "warnings.filterwarnings(\"ignore\")\n",
        "\n",
        "# load results without shootouts\n",
        "results = pd.read_csv(\"https://raw.githubusercontent.com/nananov/DAV-6500/master/results.csv\")\n",
        "print(results.shape)\n",
        "results.head()"
      ]
    },
    {
      "cell_type": "code",
      "source": [
        "# load ratings\n",
        "ratings = pd.read_csv(\"https://raw.githubusercontent.com/nananov/DAV-6500/master/fifa_ranking-2021-05-27.csv\")\n",
        "print(ratings.shape)\n",
        "ratings.head()"
      ],
      "metadata": {
        "colab": {
          "base_uri": "https://localhost:8080/",
          "height": 223
        },
        "id": "iFHqAkmR1aN2",
        "outputId": "e6690ba9-87e6-4203-e342-e52c56e833ff"
      },
      "execution_count": null,
      "outputs": [
        {
          "output_type": "stream",
          "name": "stdout",
          "text": [
            "(63054, 9)\n"
          ]
        },
        {
          "output_type": "execute_result",
          "data": {
            "text/plain": [
              "        id  rank         country_full country_abrv  total_points  \\\n",
              "0    43818    82                 Iraq          IRQ            15   \n",
              "1    43873   107           Mozambique          MOZ             9   \n",
              "2    43816   108            Indonesia          IDN             9   \n",
              "3  1882218   109  Antigua and Barbuda          ATG             8   \n",
              "4    43820   110               Jordan          JOR             8   \n",
              "\n",
              "   previous_points  rank_change confederation   rank_date  \n",
              "0                0            0           AFC  1992-12-31  \n",
              "1                0            0           CAF  1992-12-31  \n",
              "2                0            0           AFC  1992-12-31  \n",
              "3                0            0      CONCACAF  1992-12-31  \n",
              "4                0            0           AFC  1992-12-31  "
            ],
            "text/html": [
              "\n",
              "  <div id=\"df-27c22c40-a962-4c51-98f4-b48ce1bdcc0f\">\n",
              "    <div class=\"colab-df-container\">\n",
              "      <div>\n",
              "<style scoped>\n",
              "    .dataframe tbody tr th:only-of-type {\n",
              "        vertical-align: middle;\n",
              "    }\n",
              "\n",
              "    .dataframe tbody tr th {\n",
              "        vertical-align: top;\n",
              "    }\n",
              "\n",
              "    .dataframe thead th {\n",
              "        text-align: right;\n",
              "    }\n",
              "</style>\n",
              "<table border=\"1\" class=\"dataframe\">\n",
              "  <thead>\n",
              "    <tr style=\"text-align: right;\">\n",
              "      <th></th>\n",
              "      <th>id</th>\n",
              "      <th>rank</th>\n",
              "      <th>country_full</th>\n",
              "      <th>country_abrv</th>\n",
              "      <th>total_points</th>\n",
              "      <th>previous_points</th>\n",
              "      <th>rank_change</th>\n",
              "      <th>confederation</th>\n",
              "      <th>rank_date</th>\n",
              "    </tr>\n",
              "  </thead>\n",
              "  <tbody>\n",
              "    <tr>\n",
              "      <th>0</th>\n",
              "      <td>43818</td>\n",
              "      <td>82</td>\n",
              "      <td>Iraq</td>\n",
              "      <td>IRQ</td>\n",
              "      <td>15</td>\n",
              "      <td>0</td>\n",
              "      <td>0</td>\n",
              "      <td>AFC</td>\n",
              "      <td>1992-12-31</td>\n",
              "    </tr>\n",
              "    <tr>\n",
              "      <th>1</th>\n",
              "      <td>43873</td>\n",
              "      <td>107</td>\n",
              "      <td>Mozambique</td>\n",
              "      <td>MOZ</td>\n",
              "      <td>9</td>\n",
              "      <td>0</td>\n",
              "      <td>0</td>\n",
              "      <td>CAF</td>\n",
              "      <td>1992-12-31</td>\n",
              "    </tr>\n",
              "    <tr>\n",
              "      <th>2</th>\n",
              "      <td>43816</td>\n",
              "      <td>108</td>\n",
              "      <td>Indonesia</td>\n",
              "      <td>IDN</td>\n",
              "      <td>9</td>\n",
              "      <td>0</td>\n",
              "      <td>0</td>\n",
              "      <td>AFC</td>\n",
              "      <td>1992-12-31</td>\n",
              "    </tr>\n",
              "    <tr>\n",
              "      <th>3</th>\n",
              "      <td>1882218</td>\n",
              "      <td>109</td>\n",
              "      <td>Antigua and Barbuda</td>\n",
              "      <td>ATG</td>\n",
              "      <td>8</td>\n",
              "      <td>0</td>\n",
              "      <td>0</td>\n",
              "      <td>CONCACAF</td>\n",
              "      <td>1992-12-31</td>\n",
              "    </tr>\n",
              "    <tr>\n",
              "      <th>4</th>\n",
              "      <td>43820</td>\n",
              "      <td>110</td>\n",
              "      <td>Jordan</td>\n",
              "      <td>JOR</td>\n",
              "      <td>8</td>\n",
              "      <td>0</td>\n",
              "      <td>0</td>\n",
              "      <td>AFC</td>\n",
              "      <td>1992-12-31</td>\n",
              "    </tr>\n",
              "  </tbody>\n",
              "</table>\n",
              "</div>\n",
              "      <button class=\"colab-df-convert\" onclick=\"convertToInteractive('df-27c22c40-a962-4c51-98f4-b48ce1bdcc0f')\"\n",
              "              title=\"Convert this dataframe to an interactive table.\"\n",
              "              style=\"display:none;\">\n",
              "        \n",
              "  <svg xmlns=\"http://www.w3.org/2000/svg\" height=\"24px\"viewBox=\"0 0 24 24\"\n",
              "       width=\"24px\">\n",
              "    <path d=\"M0 0h24v24H0V0z\" fill=\"none\"/>\n",
              "    <path d=\"M18.56 5.44l.94 2.06.94-2.06 2.06-.94-2.06-.94-.94-2.06-.94 2.06-2.06.94zm-11 1L8.5 8.5l.94-2.06 2.06-.94-2.06-.94L8.5 2.5l-.94 2.06-2.06.94zm10 10l.94 2.06.94-2.06 2.06-.94-2.06-.94-.94-2.06-.94 2.06-2.06.94z\"/><path d=\"M17.41 7.96l-1.37-1.37c-.4-.4-.92-.59-1.43-.59-.52 0-1.04.2-1.43.59L10.3 9.45l-7.72 7.72c-.78.78-.78 2.05 0 2.83L4 21.41c.39.39.9.59 1.41.59.51 0 1.02-.2 1.41-.59l7.78-7.78 2.81-2.81c.8-.78.8-2.07 0-2.86zM5.41 20L4 18.59l7.72-7.72 1.47 1.35L5.41 20z\"/>\n",
              "  </svg>\n",
              "      </button>\n",
              "      \n",
              "  <style>\n",
              "    .colab-df-container {\n",
              "      display:flex;\n",
              "      flex-wrap:wrap;\n",
              "      gap: 12px;\n",
              "    }\n",
              "\n",
              "    .colab-df-convert {\n",
              "      background-color: #E8F0FE;\n",
              "      border: none;\n",
              "      border-radius: 50%;\n",
              "      cursor: pointer;\n",
              "      display: none;\n",
              "      fill: #1967D2;\n",
              "      height: 32px;\n",
              "      padding: 0 0 0 0;\n",
              "      width: 32px;\n",
              "    }\n",
              "\n",
              "    .colab-df-convert:hover {\n",
              "      background-color: #E2EBFA;\n",
              "      box-shadow: 0px 1px 2px rgba(60, 64, 67, 0.3), 0px 1px 3px 1px rgba(60, 64, 67, 0.15);\n",
              "      fill: #174EA6;\n",
              "    }\n",
              "\n",
              "    [theme=dark] .colab-df-convert {\n",
              "      background-color: #3B4455;\n",
              "      fill: #D2E3FC;\n",
              "    }\n",
              "\n",
              "    [theme=dark] .colab-df-convert:hover {\n",
              "      background-color: #434B5C;\n",
              "      box-shadow: 0px 1px 3px 1px rgba(0, 0, 0, 0.15);\n",
              "      filter: drop-shadow(0px 1px 2px rgba(0, 0, 0, 0.3));\n",
              "      fill: #FFFFFF;\n",
              "    }\n",
              "  </style>\n",
              "\n",
              "      <script>\n",
              "        const buttonEl =\n",
              "          document.querySelector('#df-27c22c40-a962-4c51-98f4-b48ce1bdcc0f button.colab-df-convert');\n",
              "        buttonEl.style.display =\n",
              "          google.colab.kernel.accessAllowed ? 'block' : 'none';\n",
              "\n",
              "        async function convertToInteractive(key) {\n",
              "          const element = document.querySelector('#df-27c22c40-a962-4c51-98f4-b48ce1bdcc0f');\n",
              "          const dataTable =\n",
              "            await google.colab.kernel.invokeFunction('convertToInteractive',\n",
              "                                                     [key], {});\n",
              "          if (!dataTable) return;\n",
              "\n",
              "          const docLinkHtml = 'Like what you see? Visit the ' +\n",
              "            '<a target=\"_blank\" href=https://colab.research.google.com/notebooks/data_table.ipynb>data table notebook</a>'\n",
              "            + ' to learn more about interactive tables.';\n",
              "          element.innerHTML = '';\n",
              "          dataTable['output_type'] = 'display_data';\n",
              "          await google.colab.output.renderOutput(dataTable, element);\n",
              "          const docLink = document.createElement('div');\n",
              "          docLink.innerHTML = docLinkHtml;\n",
              "          element.appendChild(docLink);\n",
              "        }\n",
              "      </script>\n",
              "    </div>\n",
              "  </div>\n",
              "  "
            ]
          },
          "metadata": {},
          "execution_count": 2
        }
      ]
    },
    {
      "cell_type": "code",
      "source": [
        "# check the information of each column\n",
        "ratings.info()"
      ],
      "metadata": {
        "colab": {
          "base_uri": "https://localhost:8080/"
        },
        "id": "VSwja0SDP3px",
        "outputId": "3ac4702f-f0ae-47f4-e1a6-4a98c0f0487f"
      },
      "execution_count": null,
      "outputs": [
        {
          "output_type": "stream",
          "name": "stdout",
          "text": [
            "<class 'pandas.core.frame.DataFrame'>\n",
            "RangeIndex: 63054 entries, 0 to 63053\n",
            "Data columns (total 9 columns):\n",
            " #   Column           Non-Null Count  Dtype \n",
            "---  ------           --------------  ----- \n",
            " 0   id               63054 non-null  int64 \n",
            " 1   rank             63054 non-null  int64 \n",
            " 2   country_full     63054 non-null  object\n",
            " 3   country_abrv     63054 non-null  object\n",
            " 4   total_points     63054 non-null  int64 \n",
            " 5   previous_points  63054 non-null  int64 \n",
            " 6   rank_change      63054 non-null  int64 \n",
            " 7   confederation    63054 non-null  object\n",
            " 8   rank_date        63054 non-null  object\n",
            "dtypes: int64(5), object(4)\n",
            "memory usage: 4.3+ MB\n"
          ]
        }
      ]
    },
    {
      "cell_type": "code",
      "source": [
        "# select rows by condition\n",
        "ratings_1806 = ratings.loc[ratings['rank_date'] == '2018-06-07']\n",
        "ratings_1806.head()"
      ],
      "metadata": {
        "colab": {
          "base_uri": "https://localhost:8080/",
          "height": 206
        },
        "id": "Qsq33v8mJ6XF",
        "outputId": "85b416d4-0199-49bf-f1ac-c79bf0cd89a6"
      },
      "execution_count": null,
      "outputs": [
        {
          "output_type": "execute_result",
          "data": {
            "text/plain": [
              "          id  rank     country_full country_abrv  total_points  \\\n",
              "57583  43861    68           Guinea          GUI           463   \n",
              "57584  43854    68    Côte d'Ivoire          CIV           463   \n",
              "57585  43965    70           Russia          RUS           457   \n",
              "57586  44000    71  North Macedonia          MKD           451   \n",
              "57587  43891    76           Zambia          ZAM           420   \n",
              "\n",
              "       previous_points  rank_change confederation   rank_date  \n",
              "57583              450            2           CAF  2018-06-07  \n",
              "57584              458            1           CAF  2018-06-07  \n",
              "57585              493            4          UEFA  2018-06-07  \n",
              "57586              422            6          UEFA  2018-06-07  \n",
              "57587              412            2           CAF  2018-06-07  "
            ],
            "text/html": [
              "\n",
              "  <div id=\"df-f2238e37-a533-47de-93c7-574efbc6c672\">\n",
              "    <div class=\"colab-df-container\">\n",
              "      <div>\n",
              "<style scoped>\n",
              "    .dataframe tbody tr th:only-of-type {\n",
              "        vertical-align: middle;\n",
              "    }\n",
              "\n",
              "    .dataframe tbody tr th {\n",
              "        vertical-align: top;\n",
              "    }\n",
              "\n",
              "    .dataframe thead th {\n",
              "        text-align: right;\n",
              "    }\n",
              "</style>\n",
              "<table border=\"1\" class=\"dataframe\">\n",
              "  <thead>\n",
              "    <tr style=\"text-align: right;\">\n",
              "      <th></th>\n",
              "      <th>id</th>\n",
              "      <th>rank</th>\n",
              "      <th>country_full</th>\n",
              "      <th>country_abrv</th>\n",
              "      <th>total_points</th>\n",
              "      <th>previous_points</th>\n",
              "      <th>rank_change</th>\n",
              "      <th>confederation</th>\n",
              "      <th>rank_date</th>\n",
              "    </tr>\n",
              "  </thead>\n",
              "  <tbody>\n",
              "    <tr>\n",
              "      <th>57583</th>\n",
              "      <td>43861</td>\n",
              "      <td>68</td>\n",
              "      <td>Guinea</td>\n",
              "      <td>GUI</td>\n",
              "      <td>463</td>\n",
              "      <td>450</td>\n",
              "      <td>2</td>\n",
              "      <td>CAF</td>\n",
              "      <td>2018-06-07</td>\n",
              "    </tr>\n",
              "    <tr>\n",
              "      <th>57584</th>\n",
              "      <td>43854</td>\n",
              "      <td>68</td>\n",
              "      <td>Côte d'Ivoire</td>\n",
              "      <td>CIV</td>\n",
              "      <td>463</td>\n",
              "      <td>458</td>\n",
              "      <td>1</td>\n",
              "      <td>CAF</td>\n",
              "      <td>2018-06-07</td>\n",
              "    </tr>\n",
              "    <tr>\n",
              "      <th>57585</th>\n",
              "      <td>43965</td>\n",
              "      <td>70</td>\n",
              "      <td>Russia</td>\n",
              "      <td>RUS</td>\n",
              "      <td>457</td>\n",
              "      <td>493</td>\n",
              "      <td>4</td>\n",
              "      <td>UEFA</td>\n",
              "      <td>2018-06-07</td>\n",
              "    </tr>\n",
              "    <tr>\n",
              "      <th>57586</th>\n",
              "      <td>44000</td>\n",
              "      <td>71</td>\n",
              "      <td>North Macedonia</td>\n",
              "      <td>MKD</td>\n",
              "      <td>451</td>\n",
              "      <td>422</td>\n",
              "      <td>6</td>\n",
              "      <td>UEFA</td>\n",
              "      <td>2018-06-07</td>\n",
              "    </tr>\n",
              "    <tr>\n",
              "      <th>57587</th>\n",
              "      <td>43891</td>\n",
              "      <td>76</td>\n",
              "      <td>Zambia</td>\n",
              "      <td>ZAM</td>\n",
              "      <td>420</td>\n",
              "      <td>412</td>\n",
              "      <td>2</td>\n",
              "      <td>CAF</td>\n",
              "      <td>2018-06-07</td>\n",
              "    </tr>\n",
              "  </tbody>\n",
              "</table>\n",
              "</div>\n",
              "      <button class=\"colab-df-convert\" onclick=\"convertToInteractive('df-f2238e37-a533-47de-93c7-574efbc6c672')\"\n",
              "              title=\"Convert this dataframe to an interactive table.\"\n",
              "              style=\"display:none;\">\n",
              "        \n",
              "  <svg xmlns=\"http://www.w3.org/2000/svg\" height=\"24px\"viewBox=\"0 0 24 24\"\n",
              "       width=\"24px\">\n",
              "    <path d=\"M0 0h24v24H0V0z\" fill=\"none\"/>\n",
              "    <path d=\"M18.56 5.44l.94 2.06.94-2.06 2.06-.94-2.06-.94-.94-2.06-.94 2.06-2.06.94zm-11 1L8.5 8.5l.94-2.06 2.06-.94-2.06-.94L8.5 2.5l-.94 2.06-2.06.94zm10 10l.94 2.06.94-2.06 2.06-.94-2.06-.94-.94-2.06-.94 2.06-2.06.94z\"/><path d=\"M17.41 7.96l-1.37-1.37c-.4-.4-.92-.59-1.43-.59-.52 0-1.04.2-1.43.59L10.3 9.45l-7.72 7.72c-.78.78-.78 2.05 0 2.83L4 21.41c.39.39.9.59 1.41.59.51 0 1.02-.2 1.41-.59l7.78-7.78 2.81-2.81c.8-.78.8-2.07 0-2.86zM5.41 20L4 18.59l7.72-7.72 1.47 1.35L5.41 20z\"/>\n",
              "  </svg>\n",
              "      </button>\n",
              "      \n",
              "  <style>\n",
              "    .colab-df-container {\n",
              "      display:flex;\n",
              "      flex-wrap:wrap;\n",
              "      gap: 12px;\n",
              "    }\n",
              "\n",
              "    .colab-df-convert {\n",
              "      background-color: #E8F0FE;\n",
              "      border: none;\n",
              "      border-radius: 50%;\n",
              "      cursor: pointer;\n",
              "      display: none;\n",
              "      fill: #1967D2;\n",
              "      height: 32px;\n",
              "      padding: 0 0 0 0;\n",
              "      width: 32px;\n",
              "    }\n",
              "\n",
              "    .colab-df-convert:hover {\n",
              "      background-color: #E2EBFA;\n",
              "      box-shadow: 0px 1px 2px rgba(60, 64, 67, 0.3), 0px 1px 3px 1px rgba(60, 64, 67, 0.15);\n",
              "      fill: #174EA6;\n",
              "    }\n",
              "\n",
              "    [theme=dark] .colab-df-convert {\n",
              "      background-color: #3B4455;\n",
              "      fill: #D2E3FC;\n",
              "    }\n",
              "\n",
              "    [theme=dark] .colab-df-convert:hover {\n",
              "      background-color: #434B5C;\n",
              "      box-shadow: 0px 1px 3px 1px rgba(0, 0, 0, 0.15);\n",
              "      filter: drop-shadow(0px 1px 2px rgba(0, 0, 0, 0.3));\n",
              "      fill: #FFFFFF;\n",
              "    }\n",
              "  </style>\n",
              "\n",
              "      <script>\n",
              "        const buttonEl =\n",
              "          document.querySelector('#df-f2238e37-a533-47de-93c7-574efbc6c672 button.colab-df-convert');\n",
              "        buttonEl.style.display =\n",
              "          google.colab.kernel.accessAllowed ? 'block' : 'none';\n",
              "\n",
              "        async function convertToInteractive(key) {\n",
              "          const element = document.querySelector('#df-f2238e37-a533-47de-93c7-574efbc6c672');\n",
              "          const dataTable =\n",
              "            await google.colab.kernel.invokeFunction('convertToInteractive',\n",
              "                                                     [key], {});\n",
              "          if (!dataTable) return;\n",
              "\n",
              "          const docLinkHtml = 'Like what you see? Visit the ' +\n",
              "            '<a target=\"_blank\" href=https://colab.research.google.com/notebooks/data_table.ipynb>data table notebook</a>'\n",
              "            + ' to learn more about interactive tables.';\n",
              "          element.innerHTML = '';\n",
              "          dataTable['output_type'] = 'display_data';\n",
              "          await google.colab.output.renderOutput(dataTable, element);\n",
              "          const docLink = document.createElement('div');\n",
              "          docLink.innerHTML = docLinkHtml;\n",
              "          element.appendChild(docLink);\n",
              "        }\n",
              "      </script>\n",
              "    </div>\n",
              "  </div>\n",
              "  "
            ]
          },
          "metadata": {},
          "execution_count": 4
        }
      ]
    },
    {
      "cell_type": "code",
      "source": [
        "# use ratings directlyl to predict\n",
        "# select rows of teams who attended wc18\n",
        "ratings_18 = ratings_1806[ratings_1806['country_abrv'].isin(['RUS','KSA','EGY','URU','MAR','IRN','POR','ESP','FRA','AUS','PER','DEN','ARG',\n",
        "                                                             'ISL','CRO','NGA','CRC','SRB','BRA','SUI','GER','MEX','SWE','KOR','BEL','PAN',\n",
        "                                                             'TUN','ENG','COL','JPN','POL','SEN'])]\n",
        "print(ratings_18.shape)\n",
        "ratings_18"
      ],
      "metadata": {
        "colab": {
          "base_uri": "https://localhost:8080/",
          "height": 1000
        },
        "id": "v_jTe1i-6yxe",
        "outputId": "67b297c0-47bc-4b4c-ad08-decc6f7ab90b"
      },
      "execution_count": null,
      "outputs": [
        {
          "output_type": "stream",
          "name": "stdout",
          "text": [
            "(32, 9)\n"
          ]
        },
        {
          "output_type": "execute_result",
          "data": {
            "text/plain": [
              "            id  rank    country_full country_abrv  total_points  \\\n",
              "57585    43965    70          Russia          RUS           457   \n",
              "57591    43914    55          Panama          PAN           571   \n",
              "57593    43835    67    Saudi Arabia          KSA           465   \n",
              "57598    43819    61           Japan          JPN           521   \n",
              "57602    43822    57  Korea Republic          KOR           544   \n",
              "57636    43901    23      Costa Rica          CRC           884   \n",
              "57637    43951    22         Iceland          ISL           908   \n",
              "57638    43888    21         Tunisia          TUN           910   \n",
              "57639    43938    20         Croatia          CRO           945   \n",
              "57643    43926    16        Colombia          COL           986   \n",
              "57644    43911    15          Mexico          MEX           989   \n",
              "57645    43930    14         Uruguay          URU          1018   \n",
              "57646    43942    12         England          ENG          1051   \n",
              "57647    43941    12         Denmark          DEN          1051   \n",
              "57648    43929    11            Peru          PER          1125   \n",
              "57649    43969    10           Spain          ESP          1126   \n",
              "57651    43962     8          Poland          POL          1183   \n",
              "57652    43946     7          France          FRA          1198   \n",
              "57653    43971     6     Switzerland          SUI          1199   \n",
              "57654    43922     5       Argentina          ARG          1241   \n",
              "57655    43963     4        Portugal          POR          1274   \n",
              "57656    43935     3         Belgium          BEL          1298   \n",
              "57657    43924     2          Brazil          BRA          1431   \n",
              "57658    43948     1         Germany          GER          1558   \n",
              "57659    43970    24          Sweden          SWE           880   \n",
              "57662    43879    27         Senegal          SEN           838   \n",
              "57665    43876    48         Nigeria          NGA           618   \n",
              "57668    43855    45           Egypt          EGY           649   \n",
              "57672    43872    41         Morocco          MAR           686   \n",
              "57676    43817    37         IR Iran          IRN           708   \n",
              "57677    43976    36       Australia          AUS           718   \n",
              "57679  1902465    34          Serbia          SRB           751   \n",
              "\n",
              "       previous_points  rank_change confederation   rank_date  \n",
              "57585              493            4          UEFA  2018-06-07  \n",
              "57591              574            0      CONCACAF  2018-06-07  \n",
              "57593              462            0           AFC  2018-06-07  \n",
              "57598              528            1           AFC  2018-06-07  \n",
              "57602              520            4           AFC  2018-06-07  \n",
              "57636              858            2      CONCACAF  2018-06-07  \n",
              "57637              930            0          UEFA  2018-06-07  \n",
              "57638             1012            7           CAF  2018-06-07  \n",
              "57639              975            2          UEFA  2018-06-07  \n",
              "57643              989            0      CONMEBOL  2018-06-07  \n",
              "57644             1008            0      CONCACAF  2018-06-07  \n",
              "57645              976            3      CONMEBOL  2018-06-07  \n",
              "57646             1040            1          UEFA  2018-06-07  \n",
              "57647             1054            0          UEFA  2018-06-07  \n",
              "57648             1106            0      CONMEBOL  2018-06-07  \n",
              "57649             1162            2          UEFA  2018-06-07  \n",
              "57651             1128            2          UEFA  2018-06-07  \n",
              "57652             1166            0          UEFA  2018-06-07  \n",
              "57653             1179            0          UEFA  2018-06-07  \n",
              "57654             1254            0      CONMEBOL  2018-06-07  \n",
              "57655             1306            0          UEFA  2018-06-07  \n",
              "57656             1346            0          UEFA  2018-06-07  \n",
              "57657             1384            0      CONMEBOL  2018-06-07  \n",
              "57658             1544            0          UEFA  2018-06-07  \n",
              "57659              889            1          UEFA  2018-06-07  \n",
              "57662              825            1           CAF  2018-06-07  \n",
              "57665              635            1           CAF  2018-06-07  \n",
              "57668              636            1           CAF  2018-06-07  \n",
              "57672              681            1           CAF  2018-06-07  \n",
              "57676              727            1           AFC  2018-06-07  \n",
              "57677              700            4           AFC  2018-06-07  \n",
              "57679              732            1          UEFA  2018-06-07  "
            ],
            "text/html": [
              "\n",
              "  <div id=\"df-8f65d265-fe45-42f9-af3d-fcbf3ad9345b\">\n",
              "    <div class=\"colab-df-container\">\n",
              "      <div>\n",
              "<style scoped>\n",
              "    .dataframe tbody tr th:only-of-type {\n",
              "        vertical-align: middle;\n",
              "    }\n",
              "\n",
              "    .dataframe tbody tr th {\n",
              "        vertical-align: top;\n",
              "    }\n",
              "\n",
              "    .dataframe thead th {\n",
              "        text-align: right;\n",
              "    }\n",
              "</style>\n",
              "<table border=\"1\" class=\"dataframe\">\n",
              "  <thead>\n",
              "    <tr style=\"text-align: right;\">\n",
              "      <th></th>\n",
              "      <th>id</th>\n",
              "      <th>rank</th>\n",
              "      <th>country_full</th>\n",
              "      <th>country_abrv</th>\n",
              "      <th>total_points</th>\n",
              "      <th>previous_points</th>\n",
              "      <th>rank_change</th>\n",
              "      <th>confederation</th>\n",
              "      <th>rank_date</th>\n",
              "    </tr>\n",
              "  </thead>\n",
              "  <tbody>\n",
              "    <tr>\n",
              "      <th>57585</th>\n",
              "      <td>43965</td>\n",
              "      <td>70</td>\n",
              "      <td>Russia</td>\n",
              "      <td>RUS</td>\n",
              "      <td>457</td>\n",
              "      <td>493</td>\n",
              "      <td>4</td>\n",
              "      <td>UEFA</td>\n",
              "      <td>2018-06-07</td>\n",
              "    </tr>\n",
              "    <tr>\n",
              "      <th>57591</th>\n",
              "      <td>43914</td>\n",
              "      <td>55</td>\n",
              "      <td>Panama</td>\n",
              "      <td>PAN</td>\n",
              "      <td>571</td>\n",
              "      <td>574</td>\n",
              "      <td>0</td>\n",
              "      <td>CONCACAF</td>\n",
              "      <td>2018-06-07</td>\n",
              "    </tr>\n",
              "    <tr>\n",
              "      <th>57593</th>\n",
              "      <td>43835</td>\n",
              "      <td>67</td>\n",
              "      <td>Saudi Arabia</td>\n",
              "      <td>KSA</td>\n",
              "      <td>465</td>\n",
              "      <td>462</td>\n",
              "      <td>0</td>\n",
              "      <td>AFC</td>\n",
              "      <td>2018-06-07</td>\n",
              "    </tr>\n",
              "    <tr>\n",
              "      <th>57598</th>\n",
              "      <td>43819</td>\n",
              "      <td>61</td>\n",
              "      <td>Japan</td>\n",
              "      <td>JPN</td>\n",
              "      <td>521</td>\n",
              "      <td>528</td>\n",
              "      <td>1</td>\n",
              "      <td>AFC</td>\n",
              "      <td>2018-06-07</td>\n",
              "    </tr>\n",
              "    <tr>\n",
              "      <th>57602</th>\n",
              "      <td>43822</td>\n",
              "      <td>57</td>\n",
              "      <td>Korea Republic</td>\n",
              "      <td>KOR</td>\n",
              "      <td>544</td>\n",
              "      <td>520</td>\n",
              "      <td>4</td>\n",
              "      <td>AFC</td>\n",
              "      <td>2018-06-07</td>\n",
              "    </tr>\n",
              "    <tr>\n",
              "      <th>57636</th>\n",
              "      <td>43901</td>\n",
              "      <td>23</td>\n",
              "      <td>Costa Rica</td>\n",
              "      <td>CRC</td>\n",
              "      <td>884</td>\n",
              "      <td>858</td>\n",
              "      <td>2</td>\n",
              "      <td>CONCACAF</td>\n",
              "      <td>2018-06-07</td>\n",
              "    </tr>\n",
              "    <tr>\n",
              "      <th>57637</th>\n",
              "      <td>43951</td>\n",
              "      <td>22</td>\n",
              "      <td>Iceland</td>\n",
              "      <td>ISL</td>\n",
              "      <td>908</td>\n",
              "      <td>930</td>\n",
              "      <td>0</td>\n",
              "      <td>UEFA</td>\n",
              "      <td>2018-06-07</td>\n",
              "    </tr>\n",
              "    <tr>\n",
              "      <th>57638</th>\n",
              "      <td>43888</td>\n",
              "      <td>21</td>\n",
              "      <td>Tunisia</td>\n",
              "      <td>TUN</td>\n",
              "      <td>910</td>\n",
              "      <td>1012</td>\n",
              "      <td>7</td>\n",
              "      <td>CAF</td>\n",
              "      <td>2018-06-07</td>\n",
              "    </tr>\n",
              "    <tr>\n",
              "      <th>57639</th>\n",
              "      <td>43938</td>\n",
              "      <td>20</td>\n",
              "      <td>Croatia</td>\n",
              "      <td>CRO</td>\n",
              "      <td>945</td>\n",
              "      <td>975</td>\n",
              "      <td>2</td>\n",
              "      <td>UEFA</td>\n",
              "      <td>2018-06-07</td>\n",
              "    </tr>\n",
              "    <tr>\n",
              "      <th>57643</th>\n",
              "      <td>43926</td>\n",
              "      <td>16</td>\n",
              "      <td>Colombia</td>\n",
              "      <td>COL</td>\n",
              "      <td>986</td>\n",
              "      <td>989</td>\n",
              "      <td>0</td>\n",
              "      <td>CONMEBOL</td>\n",
              "      <td>2018-06-07</td>\n",
              "    </tr>\n",
              "    <tr>\n",
              "      <th>57644</th>\n",
              "      <td>43911</td>\n",
              "      <td>15</td>\n",
              "      <td>Mexico</td>\n",
              "      <td>MEX</td>\n",
              "      <td>989</td>\n",
              "      <td>1008</td>\n",
              "      <td>0</td>\n",
              "      <td>CONCACAF</td>\n",
              "      <td>2018-06-07</td>\n",
              "    </tr>\n",
              "    <tr>\n",
              "      <th>57645</th>\n",
              "      <td>43930</td>\n",
              "      <td>14</td>\n",
              "      <td>Uruguay</td>\n",
              "      <td>URU</td>\n",
              "      <td>1018</td>\n",
              "      <td>976</td>\n",
              "      <td>3</td>\n",
              "      <td>CONMEBOL</td>\n",
              "      <td>2018-06-07</td>\n",
              "    </tr>\n",
              "    <tr>\n",
              "      <th>57646</th>\n",
              "      <td>43942</td>\n",
              "      <td>12</td>\n",
              "      <td>England</td>\n",
              "      <td>ENG</td>\n",
              "      <td>1051</td>\n",
              "      <td>1040</td>\n",
              "      <td>1</td>\n",
              "      <td>UEFA</td>\n",
              "      <td>2018-06-07</td>\n",
              "    </tr>\n",
              "    <tr>\n",
              "      <th>57647</th>\n",
              "      <td>43941</td>\n",
              "      <td>12</td>\n",
              "      <td>Denmark</td>\n",
              "      <td>DEN</td>\n",
              "      <td>1051</td>\n",
              "      <td>1054</td>\n",
              "      <td>0</td>\n",
              "      <td>UEFA</td>\n",
              "      <td>2018-06-07</td>\n",
              "    </tr>\n",
              "    <tr>\n",
              "      <th>57648</th>\n",
              "      <td>43929</td>\n",
              "      <td>11</td>\n",
              "      <td>Peru</td>\n",
              "      <td>PER</td>\n",
              "      <td>1125</td>\n",
              "      <td>1106</td>\n",
              "      <td>0</td>\n",
              "      <td>CONMEBOL</td>\n",
              "      <td>2018-06-07</td>\n",
              "    </tr>\n",
              "    <tr>\n",
              "      <th>57649</th>\n",
              "      <td>43969</td>\n",
              "      <td>10</td>\n",
              "      <td>Spain</td>\n",
              "      <td>ESP</td>\n",
              "      <td>1126</td>\n",
              "      <td>1162</td>\n",
              "      <td>2</td>\n",
              "      <td>UEFA</td>\n",
              "      <td>2018-06-07</td>\n",
              "    </tr>\n",
              "    <tr>\n",
              "      <th>57651</th>\n",
              "      <td>43962</td>\n",
              "      <td>8</td>\n",
              "      <td>Poland</td>\n",
              "      <td>POL</td>\n",
              "      <td>1183</td>\n",
              "      <td>1128</td>\n",
              "      <td>2</td>\n",
              "      <td>UEFA</td>\n",
              "      <td>2018-06-07</td>\n",
              "    </tr>\n",
              "    <tr>\n",
              "      <th>57652</th>\n",
              "      <td>43946</td>\n",
              "      <td>7</td>\n",
              "      <td>France</td>\n",
              "      <td>FRA</td>\n",
              "      <td>1198</td>\n",
              "      <td>1166</td>\n",
              "      <td>0</td>\n",
              "      <td>UEFA</td>\n",
              "      <td>2018-06-07</td>\n",
              "    </tr>\n",
              "    <tr>\n",
              "      <th>57653</th>\n",
              "      <td>43971</td>\n",
              "      <td>6</td>\n",
              "      <td>Switzerland</td>\n",
              "      <td>SUI</td>\n",
              "      <td>1199</td>\n",
              "      <td>1179</td>\n",
              "      <td>0</td>\n",
              "      <td>UEFA</td>\n",
              "      <td>2018-06-07</td>\n",
              "    </tr>\n",
              "    <tr>\n",
              "      <th>57654</th>\n",
              "      <td>43922</td>\n",
              "      <td>5</td>\n",
              "      <td>Argentina</td>\n",
              "      <td>ARG</td>\n",
              "      <td>1241</td>\n",
              "      <td>1254</td>\n",
              "      <td>0</td>\n",
              "      <td>CONMEBOL</td>\n",
              "      <td>2018-06-07</td>\n",
              "    </tr>\n",
              "    <tr>\n",
              "      <th>57655</th>\n",
              "      <td>43963</td>\n",
              "      <td>4</td>\n",
              "      <td>Portugal</td>\n",
              "      <td>POR</td>\n",
              "      <td>1274</td>\n",
              "      <td>1306</td>\n",
              "      <td>0</td>\n",
              "      <td>UEFA</td>\n",
              "      <td>2018-06-07</td>\n",
              "    </tr>\n",
              "    <tr>\n",
              "      <th>57656</th>\n",
              "      <td>43935</td>\n",
              "      <td>3</td>\n",
              "      <td>Belgium</td>\n",
              "      <td>BEL</td>\n",
              "      <td>1298</td>\n",
              "      <td>1346</td>\n",
              "      <td>0</td>\n",
              "      <td>UEFA</td>\n",
              "      <td>2018-06-07</td>\n",
              "    </tr>\n",
              "    <tr>\n",
              "      <th>57657</th>\n",
              "      <td>43924</td>\n",
              "      <td>2</td>\n",
              "      <td>Brazil</td>\n",
              "      <td>BRA</td>\n",
              "      <td>1431</td>\n",
              "      <td>1384</td>\n",
              "      <td>0</td>\n",
              "      <td>CONMEBOL</td>\n",
              "      <td>2018-06-07</td>\n",
              "    </tr>\n",
              "    <tr>\n",
              "      <th>57658</th>\n",
              "      <td>43948</td>\n",
              "      <td>1</td>\n",
              "      <td>Germany</td>\n",
              "      <td>GER</td>\n",
              "      <td>1558</td>\n",
              "      <td>1544</td>\n",
              "      <td>0</td>\n",
              "      <td>UEFA</td>\n",
              "      <td>2018-06-07</td>\n",
              "    </tr>\n",
              "    <tr>\n",
              "      <th>57659</th>\n",
              "      <td>43970</td>\n",
              "      <td>24</td>\n",
              "      <td>Sweden</td>\n",
              "      <td>SWE</td>\n",
              "      <td>880</td>\n",
              "      <td>889</td>\n",
              "      <td>1</td>\n",
              "      <td>UEFA</td>\n",
              "      <td>2018-06-07</td>\n",
              "    </tr>\n",
              "    <tr>\n",
              "      <th>57662</th>\n",
              "      <td>43879</td>\n",
              "      <td>27</td>\n",
              "      <td>Senegal</td>\n",
              "      <td>SEN</td>\n",
              "      <td>838</td>\n",
              "      <td>825</td>\n",
              "      <td>1</td>\n",
              "      <td>CAF</td>\n",
              "      <td>2018-06-07</td>\n",
              "    </tr>\n",
              "    <tr>\n",
              "      <th>57665</th>\n",
              "      <td>43876</td>\n",
              "      <td>48</td>\n",
              "      <td>Nigeria</td>\n",
              "      <td>NGA</td>\n",
              "      <td>618</td>\n",
              "      <td>635</td>\n",
              "      <td>1</td>\n",
              "      <td>CAF</td>\n",
              "      <td>2018-06-07</td>\n",
              "    </tr>\n",
              "    <tr>\n",
              "      <th>57668</th>\n",
              "      <td>43855</td>\n",
              "      <td>45</td>\n",
              "      <td>Egypt</td>\n",
              "      <td>EGY</td>\n",
              "      <td>649</td>\n",
              "      <td>636</td>\n",
              "      <td>1</td>\n",
              "      <td>CAF</td>\n",
              "      <td>2018-06-07</td>\n",
              "    </tr>\n",
              "    <tr>\n",
              "      <th>57672</th>\n",
              "      <td>43872</td>\n",
              "      <td>41</td>\n",
              "      <td>Morocco</td>\n",
              "      <td>MAR</td>\n",
              "      <td>686</td>\n",
              "      <td>681</td>\n",
              "      <td>1</td>\n",
              "      <td>CAF</td>\n",
              "      <td>2018-06-07</td>\n",
              "    </tr>\n",
              "    <tr>\n",
              "      <th>57676</th>\n",
              "      <td>43817</td>\n",
              "      <td>37</td>\n",
              "      <td>IR Iran</td>\n",
              "      <td>IRN</td>\n",
              "      <td>708</td>\n",
              "      <td>727</td>\n",
              "      <td>1</td>\n",
              "      <td>AFC</td>\n",
              "      <td>2018-06-07</td>\n",
              "    </tr>\n",
              "    <tr>\n",
              "      <th>57677</th>\n",
              "      <td>43976</td>\n",
              "      <td>36</td>\n",
              "      <td>Australia</td>\n",
              "      <td>AUS</td>\n",
              "      <td>718</td>\n",
              "      <td>700</td>\n",
              "      <td>4</td>\n",
              "      <td>AFC</td>\n",
              "      <td>2018-06-07</td>\n",
              "    </tr>\n",
              "    <tr>\n",
              "      <th>57679</th>\n",
              "      <td>1902465</td>\n",
              "      <td>34</td>\n",
              "      <td>Serbia</td>\n",
              "      <td>SRB</td>\n",
              "      <td>751</td>\n",
              "      <td>732</td>\n",
              "      <td>1</td>\n",
              "      <td>UEFA</td>\n",
              "      <td>2018-06-07</td>\n",
              "    </tr>\n",
              "  </tbody>\n",
              "</table>\n",
              "</div>\n",
              "      <button class=\"colab-df-convert\" onclick=\"convertToInteractive('df-8f65d265-fe45-42f9-af3d-fcbf3ad9345b')\"\n",
              "              title=\"Convert this dataframe to an interactive table.\"\n",
              "              style=\"display:none;\">\n",
              "        \n",
              "  <svg xmlns=\"http://www.w3.org/2000/svg\" height=\"24px\"viewBox=\"0 0 24 24\"\n",
              "       width=\"24px\">\n",
              "    <path d=\"M0 0h24v24H0V0z\" fill=\"none\"/>\n",
              "    <path d=\"M18.56 5.44l.94 2.06.94-2.06 2.06-.94-2.06-.94-.94-2.06-.94 2.06-2.06.94zm-11 1L8.5 8.5l.94-2.06 2.06-.94-2.06-.94L8.5 2.5l-.94 2.06-2.06.94zm10 10l.94 2.06.94-2.06 2.06-.94-2.06-.94-.94-2.06-.94 2.06-2.06.94z\"/><path d=\"M17.41 7.96l-1.37-1.37c-.4-.4-.92-.59-1.43-.59-.52 0-1.04.2-1.43.59L10.3 9.45l-7.72 7.72c-.78.78-.78 2.05 0 2.83L4 21.41c.39.39.9.59 1.41.59.51 0 1.02-.2 1.41-.59l7.78-7.78 2.81-2.81c.8-.78.8-2.07 0-2.86zM5.41 20L4 18.59l7.72-7.72 1.47 1.35L5.41 20z\"/>\n",
              "  </svg>\n",
              "      </button>\n",
              "      \n",
              "  <style>\n",
              "    .colab-df-container {\n",
              "      display:flex;\n",
              "      flex-wrap:wrap;\n",
              "      gap: 12px;\n",
              "    }\n",
              "\n",
              "    .colab-df-convert {\n",
              "      background-color: #E8F0FE;\n",
              "      border: none;\n",
              "      border-radius: 50%;\n",
              "      cursor: pointer;\n",
              "      display: none;\n",
              "      fill: #1967D2;\n",
              "      height: 32px;\n",
              "      padding: 0 0 0 0;\n",
              "      width: 32px;\n",
              "    }\n",
              "\n",
              "    .colab-df-convert:hover {\n",
              "      background-color: #E2EBFA;\n",
              "      box-shadow: 0px 1px 2px rgba(60, 64, 67, 0.3), 0px 1px 3px 1px rgba(60, 64, 67, 0.15);\n",
              "      fill: #174EA6;\n",
              "    }\n",
              "\n",
              "    [theme=dark] .colab-df-convert {\n",
              "      background-color: #3B4455;\n",
              "      fill: #D2E3FC;\n",
              "    }\n",
              "\n",
              "    [theme=dark] .colab-df-convert:hover {\n",
              "      background-color: #434B5C;\n",
              "      box-shadow: 0px 1px 3px 1px rgba(0, 0, 0, 0.15);\n",
              "      filter: drop-shadow(0px 1px 2px rgba(0, 0, 0, 0.3));\n",
              "      fill: #FFFFFF;\n",
              "    }\n",
              "  </style>\n",
              "\n",
              "      <script>\n",
              "        const buttonEl =\n",
              "          document.querySelector('#df-8f65d265-fe45-42f9-af3d-fcbf3ad9345b button.colab-df-convert');\n",
              "        buttonEl.style.display =\n",
              "          google.colab.kernel.accessAllowed ? 'block' : 'none';\n",
              "\n",
              "        async function convertToInteractive(key) {\n",
              "          const element = document.querySelector('#df-8f65d265-fe45-42f9-af3d-fcbf3ad9345b');\n",
              "          const dataTable =\n",
              "            await google.colab.kernel.invokeFunction('convertToInteractive',\n",
              "                                                     [key], {});\n",
              "          if (!dataTable) return;\n",
              "\n",
              "          const docLinkHtml = 'Like what you see? Visit the ' +\n",
              "            '<a target=\"_blank\" href=https://colab.research.google.com/notebooks/data_table.ipynb>data table notebook</a>'\n",
              "            + ' to learn more about interactive tables.';\n",
              "          element.innerHTML = '';\n",
              "          dataTable['output_type'] = 'display_data';\n",
              "          await google.colab.output.renderOutput(dataTable, element);\n",
              "          const docLink = document.createElement('div');\n",
              "          docLink.innerHTML = docLinkHtml;\n",
              "          element.appendChild(docLink);\n",
              "        }\n",
              "      </script>\n",
              "    </div>\n",
              "  </div>\n",
              "  "
            ]
          },
          "metadata": {},
          "execution_count": 5
        }
      ]
    },
    {
      "cell_type": "code",
      "source": [
        "# keep only useful colomns\n",
        "ratings_18 = ratings_18[['country_full', 'rank', 'total_points', 'confederation']]\n",
        "ratings_18.head()"
      ],
      "metadata": {
        "colab": {
          "base_uri": "https://localhost:8080/",
          "height": 206
        },
        "id": "Ft5j_c_9LHok",
        "outputId": "627904a8-67ff-4254-fb3e-3491d865594f"
      },
      "execution_count": null,
      "outputs": [
        {
          "output_type": "execute_result",
          "data": {
            "text/plain": [
              "         country_full  rank  total_points confederation\n",
              "57585          Russia    70           457          UEFA\n",
              "57591          Panama    55           571      CONCACAF\n",
              "57593    Saudi Arabia    67           465           AFC\n",
              "57598           Japan    61           521           AFC\n",
              "57602  Korea Republic    57           544           AFC"
            ],
            "text/html": [
              "\n",
              "  <div id=\"df-ef1bfdd1-1dde-43a1-96d5-bfe43cc7527d\">\n",
              "    <div class=\"colab-df-container\">\n",
              "      <div>\n",
              "<style scoped>\n",
              "    .dataframe tbody tr th:only-of-type {\n",
              "        vertical-align: middle;\n",
              "    }\n",
              "\n",
              "    .dataframe tbody tr th {\n",
              "        vertical-align: top;\n",
              "    }\n",
              "\n",
              "    .dataframe thead th {\n",
              "        text-align: right;\n",
              "    }\n",
              "</style>\n",
              "<table border=\"1\" class=\"dataframe\">\n",
              "  <thead>\n",
              "    <tr style=\"text-align: right;\">\n",
              "      <th></th>\n",
              "      <th>country_full</th>\n",
              "      <th>rank</th>\n",
              "      <th>total_points</th>\n",
              "      <th>confederation</th>\n",
              "    </tr>\n",
              "  </thead>\n",
              "  <tbody>\n",
              "    <tr>\n",
              "      <th>57585</th>\n",
              "      <td>Russia</td>\n",
              "      <td>70</td>\n",
              "      <td>457</td>\n",
              "      <td>UEFA</td>\n",
              "    </tr>\n",
              "    <tr>\n",
              "      <th>57591</th>\n",
              "      <td>Panama</td>\n",
              "      <td>55</td>\n",
              "      <td>571</td>\n",
              "      <td>CONCACAF</td>\n",
              "    </tr>\n",
              "    <tr>\n",
              "      <th>57593</th>\n",
              "      <td>Saudi Arabia</td>\n",
              "      <td>67</td>\n",
              "      <td>465</td>\n",
              "      <td>AFC</td>\n",
              "    </tr>\n",
              "    <tr>\n",
              "      <th>57598</th>\n",
              "      <td>Japan</td>\n",
              "      <td>61</td>\n",
              "      <td>521</td>\n",
              "      <td>AFC</td>\n",
              "    </tr>\n",
              "    <tr>\n",
              "      <th>57602</th>\n",
              "      <td>Korea Republic</td>\n",
              "      <td>57</td>\n",
              "      <td>544</td>\n",
              "      <td>AFC</td>\n",
              "    </tr>\n",
              "  </tbody>\n",
              "</table>\n",
              "</div>\n",
              "      <button class=\"colab-df-convert\" onclick=\"convertToInteractive('df-ef1bfdd1-1dde-43a1-96d5-bfe43cc7527d')\"\n",
              "              title=\"Convert this dataframe to an interactive table.\"\n",
              "              style=\"display:none;\">\n",
              "        \n",
              "  <svg xmlns=\"http://www.w3.org/2000/svg\" height=\"24px\"viewBox=\"0 0 24 24\"\n",
              "       width=\"24px\">\n",
              "    <path d=\"M0 0h24v24H0V0z\" fill=\"none\"/>\n",
              "    <path d=\"M18.56 5.44l.94 2.06.94-2.06 2.06-.94-2.06-.94-.94-2.06-.94 2.06-2.06.94zm-11 1L8.5 8.5l.94-2.06 2.06-.94-2.06-.94L8.5 2.5l-.94 2.06-2.06.94zm10 10l.94 2.06.94-2.06 2.06-.94-2.06-.94-.94-2.06-.94 2.06-2.06.94z\"/><path d=\"M17.41 7.96l-1.37-1.37c-.4-.4-.92-.59-1.43-.59-.52 0-1.04.2-1.43.59L10.3 9.45l-7.72 7.72c-.78.78-.78 2.05 0 2.83L4 21.41c.39.39.9.59 1.41.59.51 0 1.02-.2 1.41-.59l7.78-7.78 2.81-2.81c.8-.78.8-2.07 0-2.86zM5.41 20L4 18.59l7.72-7.72 1.47 1.35L5.41 20z\"/>\n",
              "  </svg>\n",
              "      </button>\n",
              "      \n",
              "  <style>\n",
              "    .colab-df-container {\n",
              "      display:flex;\n",
              "      flex-wrap:wrap;\n",
              "      gap: 12px;\n",
              "    }\n",
              "\n",
              "    .colab-df-convert {\n",
              "      background-color: #E8F0FE;\n",
              "      border: none;\n",
              "      border-radius: 50%;\n",
              "      cursor: pointer;\n",
              "      display: none;\n",
              "      fill: #1967D2;\n",
              "      height: 32px;\n",
              "      padding: 0 0 0 0;\n",
              "      width: 32px;\n",
              "    }\n",
              "\n",
              "    .colab-df-convert:hover {\n",
              "      background-color: #E2EBFA;\n",
              "      box-shadow: 0px 1px 2px rgba(60, 64, 67, 0.3), 0px 1px 3px 1px rgba(60, 64, 67, 0.15);\n",
              "      fill: #174EA6;\n",
              "    }\n",
              "\n",
              "    [theme=dark] .colab-df-convert {\n",
              "      background-color: #3B4455;\n",
              "      fill: #D2E3FC;\n",
              "    }\n",
              "\n",
              "    [theme=dark] .colab-df-convert:hover {\n",
              "      background-color: #434B5C;\n",
              "      box-shadow: 0px 1px 3px 1px rgba(0, 0, 0, 0.15);\n",
              "      filter: drop-shadow(0px 1px 2px rgba(0, 0, 0, 0.3));\n",
              "      fill: #FFFFFF;\n",
              "    }\n",
              "  </style>\n",
              "\n",
              "      <script>\n",
              "        const buttonEl =\n",
              "          document.querySelector('#df-ef1bfdd1-1dde-43a1-96d5-bfe43cc7527d button.colab-df-convert');\n",
              "        buttonEl.style.display =\n",
              "          google.colab.kernel.accessAllowed ? 'block' : 'none';\n",
              "\n",
              "        async function convertToInteractive(key) {\n",
              "          const element = document.querySelector('#df-ef1bfdd1-1dde-43a1-96d5-bfe43cc7527d');\n",
              "          const dataTable =\n",
              "            await google.colab.kernel.invokeFunction('convertToInteractive',\n",
              "                                                     [key], {});\n",
              "          if (!dataTable) return;\n",
              "\n",
              "          const docLinkHtml = 'Like what you see? Visit the ' +\n",
              "            '<a target=\"_blank\" href=https://colab.research.google.com/notebooks/data_table.ipynb>data table notebook</a>'\n",
              "            + ' to learn more about interactive tables.';\n",
              "          element.innerHTML = '';\n",
              "          dataTable['output_type'] = 'display_data';\n",
              "          await google.colab.output.renderOutput(dataTable, element);\n",
              "          const docLink = document.createElement('div');\n",
              "          docLink.innerHTML = docLinkHtml;\n",
              "          element.appendChild(docLink);\n",
              "        }\n",
              "      </script>\n",
              "    </div>\n",
              "  </div>\n",
              "  "
            ]
          },
          "metadata": {},
          "execution_count": 6
        }
      ]
    },
    {
      "cell_type": "code",
      "source": [
        "# get dummies for confederation\n",
        "cfdr_dummies = pd.get_dummies(ratings_18.confederation, prefix='cfdr')\n",
        "data_18 = pd.concat([ratings_18['country_full'], ratings_18['rank'], ratings_18['total_points'], cfdr_dummies], axis=1)\n",
        "data_18 = data_18.drop('cfdr_AFC', axis=1)\n",
        "data_18.head()"
      ],
      "metadata": {
        "colab": {
          "base_uri": "https://localhost:8080/",
          "height": 206
        },
        "id": "1q5eG3JjO9MY",
        "outputId": "7f939457-367d-4218-edde-841283c1ae2a"
      },
      "execution_count": null,
      "outputs": [
        {
          "output_type": "execute_result",
          "data": {
            "text/plain": [
              "         country_full  rank  total_points  cfdr_CAF  cfdr_CONCACAF  \\\n",
              "57585          Russia    70           457         0              0   \n",
              "57591          Panama    55           571         0              1   \n",
              "57593    Saudi Arabia    67           465         0              0   \n",
              "57598           Japan    61           521         0              0   \n",
              "57602  Korea Republic    57           544         0              0   \n",
              "\n",
              "       cfdr_CONMEBOL  cfdr_UEFA  \n",
              "57585              0          1  \n",
              "57591              0          0  \n",
              "57593              0          0  \n",
              "57598              0          0  \n",
              "57602              0          0  "
            ],
            "text/html": [
              "\n",
              "  <div id=\"df-1d8bd6de-ec62-4776-bf21-7f1fd2f94669\">\n",
              "    <div class=\"colab-df-container\">\n",
              "      <div>\n",
              "<style scoped>\n",
              "    .dataframe tbody tr th:only-of-type {\n",
              "        vertical-align: middle;\n",
              "    }\n",
              "\n",
              "    .dataframe tbody tr th {\n",
              "        vertical-align: top;\n",
              "    }\n",
              "\n",
              "    .dataframe thead th {\n",
              "        text-align: right;\n",
              "    }\n",
              "</style>\n",
              "<table border=\"1\" class=\"dataframe\">\n",
              "  <thead>\n",
              "    <tr style=\"text-align: right;\">\n",
              "      <th></th>\n",
              "      <th>country_full</th>\n",
              "      <th>rank</th>\n",
              "      <th>total_points</th>\n",
              "      <th>cfdr_CAF</th>\n",
              "      <th>cfdr_CONCACAF</th>\n",
              "      <th>cfdr_CONMEBOL</th>\n",
              "      <th>cfdr_UEFA</th>\n",
              "    </tr>\n",
              "  </thead>\n",
              "  <tbody>\n",
              "    <tr>\n",
              "      <th>57585</th>\n",
              "      <td>Russia</td>\n",
              "      <td>70</td>\n",
              "      <td>457</td>\n",
              "      <td>0</td>\n",
              "      <td>0</td>\n",
              "      <td>0</td>\n",
              "      <td>1</td>\n",
              "    </tr>\n",
              "    <tr>\n",
              "      <th>57591</th>\n",
              "      <td>Panama</td>\n",
              "      <td>55</td>\n",
              "      <td>571</td>\n",
              "      <td>0</td>\n",
              "      <td>1</td>\n",
              "      <td>0</td>\n",
              "      <td>0</td>\n",
              "    </tr>\n",
              "    <tr>\n",
              "      <th>57593</th>\n",
              "      <td>Saudi Arabia</td>\n",
              "      <td>67</td>\n",
              "      <td>465</td>\n",
              "      <td>0</td>\n",
              "      <td>0</td>\n",
              "      <td>0</td>\n",
              "      <td>0</td>\n",
              "    </tr>\n",
              "    <tr>\n",
              "      <th>57598</th>\n",
              "      <td>Japan</td>\n",
              "      <td>61</td>\n",
              "      <td>521</td>\n",
              "      <td>0</td>\n",
              "      <td>0</td>\n",
              "      <td>0</td>\n",
              "      <td>0</td>\n",
              "    </tr>\n",
              "    <tr>\n",
              "      <th>57602</th>\n",
              "      <td>Korea Republic</td>\n",
              "      <td>57</td>\n",
              "      <td>544</td>\n",
              "      <td>0</td>\n",
              "      <td>0</td>\n",
              "      <td>0</td>\n",
              "      <td>0</td>\n",
              "    </tr>\n",
              "  </tbody>\n",
              "</table>\n",
              "</div>\n",
              "      <button class=\"colab-df-convert\" onclick=\"convertToInteractive('df-1d8bd6de-ec62-4776-bf21-7f1fd2f94669')\"\n",
              "              title=\"Convert this dataframe to an interactive table.\"\n",
              "              style=\"display:none;\">\n",
              "        \n",
              "  <svg xmlns=\"http://www.w3.org/2000/svg\" height=\"24px\"viewBox=\"0 0 24 24\"\n",
              "       width=\"24px\">\n",
              "    <path d=\"M0 0h24v24H0V0z\" fill=\"none\"/>\n",
              "    <path d=\"M18.56 5.44l.94 2.06.94-2.06 2.06-.94-2.06-.94-.94-2.06-.94 2.06-2.06.94zm-11 1L8.5 8.5l.94-2.06 2.06-.94-2.06-.94L8.5 2.5l-.94 2.06-2.06.94zm10 10l.94 2.06.94-2.06 2.06-.94-2.06-.94-.94-2.06-.94 2.06-2.06.94z\"/><path d=\"M17.41 7.96l-1.37-1.37c-.4-.4-.92-.59-1.43-.59-.52 0-1.04.2-1.43.59L10.3 9.45l-7.72 7.72c-.78.78-.78 2.05 0 2.83L4 21.41c.39.39.9.59 1.41.59.51 0 1.02-.2 1.41-.59l7.78-7.78 2.81-2.81c.8-.78.8-2.07 0-2.86zM5.41 20L4 18.59l7.72-7.72 1.47 1.35L5.41 20z\"/>\n",
              "  </svg>\n",
              "      </button>\n",
              "      \n",
              "  <style>\n",
              "    .colab-df-container {\n",
              "      display:flex;\n",
              "      flex-wrap:wrap;\n",
              "      gap: 12px;\n",
              "    }\n",
              "\n",
              "    .colab-df-convert {\n",
              "      background-color: #E8F0FE;\n",
              "      border: none;\n",
              "      border-radius: 50%;\n",
              "      cursor: pointer;\n",
              "      display: none;\n",
              "      fill: #1967D2;\n",
              "      height: 32px;\n",
              "      padding: 0 0 0 0;\n",
              "      width: 32px;\n",
              "    }\n",
              "\n",
              "    .colab-df-convert:hover {\n",
              "      background-color: #E2EBFA;\n",
              "      box-shadow: 0px 1px 2px rgba(60, 64, 67, 0.3), 0px 1px 3px 1px rgba(60, 64, 67, 0.15);\n",
              "      fill: #174EA6;\n",
              "    }\n",
              "\n",
              "    [theme=dark] .colab-df-convert {\n",
              "      background-color: #3B4455;\n",
              "      fill: #D2E3FC;\n",
              "    }\n",
              "\n",
              "    [theme=dark] .colab-df-convert:hover {\n",
              "      background-color: #434B5C;\n",
              "      box-shadow: 0px 1px 3px 1px rgba(0, 0, 0, 0.15);\n",
              "      filter: drop-shadow(0px 1px 2px rgba(0, 0, 0, 0.3));\n",
              "      fill: #FFFFFF;\n",
              "    }\n",
              "  </style>\n",
              "\n",
              "      <script>\n",
              "        const buttonEl =\n",
              "          document.querySelector('#df-1d8bd6de-ec62-4776-bf21-7f1fd2f94669 button.colab-df-convert');\n",
              "        buttonEl.style.display =\n",
              "          google.colab.kernel.accessAllowed ? 'block' : 'none';\n",
              "\n",
              "        async function convertToInteractive(key) {\n",
              "          const element = document.querySelector('#df-1d8bd6de-ec62-4776-bf21-7f1fd2f94669');\n",
              "          const dataTable =\n",
              "            await google.colab.kernel.invokeFunction('convertToInteractive',\n",
              "                                                     [key], {});\n",
              "          if (!dataTable) return;\n",
              "\n",
              "          const docLinkHtml = 'Like what you see? Visit the ' +\n",
              "            '<a target=\"_blank\" href=https://colab.research.google.com/notebooks/data_table.ipynb>data table notebook</a>'\n",
              "            + ' to learn more about interactive tables.';\n",
              "          element.innerHTML = '';\n",
              "          dataTable['output_type'] = 'display_data';\n",
              "          await google.colab.output.renderOutput(dataTable, element);\n",
              "          const docLink = document.createElement('div');\n",
              "          docLink.innerHTML = docLinkHtml;\n",
              "          element.appendChild(docLink);\n",
              "        }\n",
              "      </script>\n",
              "    </div>\n",
              "  </div>\n",
              "  "
            ]
          },
          "metadata": {},
          "execution_count": 7
        }
      ]
    },
    {
      "cell_type": "code",
      "source": [
        "# host dummy\n",
        "host = ['1', '0', '0', '0', '0', '0', '0', '0', '0', '0', '0', '0', '0', '0', '0', '0', \n",
        "        '0', '0', '0', '0', '0', '0', '0', '0', '0', '0', '0', '0', '0', '0', '0', '0']\n",
        "data_18['host'] = host"
      ],
      "metadata": {
        "id": "T4PwFnEpdTV2"
      },
      "execution_count": null,
      "outputs": []
    },
    {
      "cell_type": "code",
      "source": [
        "# 0=lose, 1=win\n",
        "group_lst = ['1', '0', '0', '1', '0', '0', '0', '0', \n",
        "             '1', '1', '1', '1', '1', '1', '0', '1', \n",
        "             '0', '1', '1', '1', '1', '1', '1', '0', \n",
        "             '1', '0', '0', '0', '0', '0', '0', '0']\n",
        "data_18['group_result'] = group_lst\n",
        "data_18.head()"
      ],
      "metadata": {
        "colab": {
          "base_uri": "https://localhost:8080/",
          "height": 206
        },
        "id": "5qJXa-ZkSjSg",
        "outputId": "37bcf6d8-cd6b-4fa8-dded-32b486d42119"
      },
      "execution_count": null,
      "outputs": [
        {
          "output_type": "execute_result",
          "data": {
            "text/plain": [
              "         country_full  rank  total_points  cfdr_CAF  cfdr_CONCACAF  \\\n",
              "57585          Russia    70           457         0              0   \n",
              "57591          Panama    55           571         0              1   \n",
              "57593    Saudi Arabia    67           465         0              0   \n",
              "57598           Japan    61           521         0              0   \n",
              "57602  Korea Republic    57           544         0              0   \n",
              "\n",
              "       cfdr_CONMEBOL  cfdr_UEFA host group_result  \n",
              "57585              0          1    1            1  \n",
              "57591              0          0    0            0  \n",
              "57593              0          0    0            0  \n",
              "57598              0          0    0            1  \n",
              "57602              0          0    0            0  "
            ],
            "text/html": [
              "\n",
              "  <div id=\"df-a7c5fb1a-c743-439e-b194-41ce7cbdaf44\">\n",
              "    <div class=\"colab-df-container\">\n",
              "      <div>\n",
              "<style scoped>\n",
              "    .dataframe tbody tr th:only-of-type {\n",
              "        vertical-align: middle;\n",
              "    }\n",
              "\n",
              "    .dataframe tbody tr th {\n",
              "        vertical-align: top;\n",
              "    }\n",
              "\n",
              "    .dataframe thead th {\n",
              "        text-align: right;\n",
              "    }\n",
              "</style>\n",
              "<table border=\"1\" class=\"dataframe\">\n",
              "  <thead>\n",
              "    <tr style=\"text-align: right;\">\n",
              "      <th></th>\n",
              "      <th>country_full</th>\n",
              "      <th>rank</th>\n",
              "      <th>total_points</th>\n",
              "      <th>cfdr_CAF</th>\n",
              "      <th>cfdr_CONCACAF</th>\n",
              "      <th>cfdr_CONMEBOL</th>\n",
              "      <th>cfdr_UEFA</th>\n",
              "      <th>host</th>\n",
              "      <th>group_result</th>\n",
              "    </tr>\n",
              "  </thead>\n",
              "  <tbody>\n",
              "    <tr>\n",
              "      <th>57585</th>\n",
              "      <td>Russia</td>\n",
              "      <td>70</td>\n",
              "      <td>457</td>\n",
              "      <td>0</td>\n",
              "      <td>0</td>\n",
              "      <td>0</td>\n",
              "      <td>1</td>\n",
              "      <td>1</td>\n",
              "      <td>1</td>\n",
              "    </tr>\n",
              "    <tr>\n",
              "      <th>57591</th>\n",
              "      <td>Panama</td>\n",
              "      <td>55</td>\n",
              "      <td>571</td>\n",
              "      <td>0</td>\n",
              "      <td>1</td>\n",
              "      <td>0</td>\n",
              "      <td>0</td>\n",
              "      <td>0</td>\n",
              "      <td>0</td>\n",
              "    </tr>\n",
              "    <tr>\n",
              "      <th>57593</th>\n",
              "      <td>Saudi Arabia</td>\n",
              "      <td>67</td>\n",
              "      <td>465</td>\n",
              "      <td>0</td>\n",
              "      <td>0</td>\n",
              "      <td>0</td>\n",
              "      <td>0</td>\n",
              "      <td>0</td>\n",
              "      <td>0</td>\n",
              "    </tr>\n",
              "    <tr>\n",
              "      <th>57598</th>\n",
              "      <td>Japan</td>\n",
              "      <td>61</td>\n",
              "      <td>521</td>\n",
              "      <td>0</td>\n",
              "      <td>0</td>\n",
              "      <td>0</td>\n",
              "      <td>0</td>\n",
              "      <td>0</td>\n",
              "      <td>1</td>\n",
              "    </tr>\n",
              "    <tr>\n",
              "      <th>57602</th>\n",
              "      <td>Korea Republic</td>\n",
              "      <td>57</td>\n",
              "      <td>544</td>\n",
              "      <td>0</td>\n",
              "      <td>0</td>\n",
              "      <td>0</td>\n",
              "      <td>0</td>\n",
              "      <td>0</td>\n",
              "      <td>0</td>\n",
              "    </tr>\n",
              "  </tbody>\n",
              "</table>\n",
              "</div>\n",
              "      <button class=\"colab-df-convert\" onclick=\"convertToInteractive('df-a7c5fb1a-c743-439e-b194-41ce7cbdaf44')\"\n",
              "              title=\"Convert this dataframe to an interactive table.\"\n",
              "              style=\"display:none;\">\n",
              "        \n",
              "  <svg xmlns=\"http://www.w3.org/2000/svg\" height=\"24px\"viewBox=\"0 0 24 24\"\n",
              "       width=\"24px\">\n",
              "    <path d=\"M0 0h24v24H0V0z\" fill=\"none\"/>\n",
              "    <path d=\"M18.56 5.44l.94 2.06.94-2.06 2.06-.94-2.06-.94-.94-2.06-.94 2.06-2.06.94zm-11 1L8.5 8.5l.94-2.06 2.06-.94-2.06-.94L8.5 2.5l-.94 2.06-2.06.94zm10 10l.94 2.06.94-2.06 2.06-.94-2.06-.94-.94-2.06-.94 2.06-2.06.94z\"/><path d=\"M17.41 7.96l-1.37-1.37c-.4-.4-.92-.59-1.43-.59-.52 0-1.04.2-1.43.59L10.3 9.45l-7.72 7.72c-.78.78-.78 2.05 0 2.83L4 21.41c.39.39.9.59 1.41.59.51 0 1.02-.2 1.41-.59l7.78-7.78 2.81-2.81c.8-.78.8-2.07 0-2.86zM5.41 20L4 18.59l7.72-7.72 1.47 1.35L5.41 20z\"/>\n",
              "  </svg>\n",
              "      </button>\n",
              "      \n",
              "  <style>\n",
              "    .colab-df-container {\n",
              "      display:flex;\n",
              "      flex-wrap:wrap;\n",
              "      gap: 12px;\n",
              "    }\n",
              "\n",
              "    .colab-df-convert {\n",
              "      background-color: #E8F0FE;\n",
              "      border: none;\n",
              "      border-radius: 50%;\n",
              "      cursor: pointer;\n",
              "      display: none;\n",
              "      fill: #1967D2;\n",
              "      height: 32px;\n",
              "      padding: 0 0 0 0;\n",
              "      width: 32px;\n",
              "    }\n",
              "\n",
              "    .colab-df-convert:hover {\n",
              "      background-color: #E2EBFA;\n",
              "      box-shadow: 0px 1px 2px rgba(60, 64, 67, 0.3), 0px 1px 3px 1px rgba(60, 64, 67, 0.15);\n",
              "      fill: #174EA6;\n",
              "    }\n",
              "\n",
              "    [theme=dark] .colab-df-convert {\n",
              "      background-color: #3B4455;\n",
              "      fill: #D2E3FC;\n",
              "    }\n",
              "\n",
              "    [theme=dark] .colab-df-convert:hover {\n",
              "      background-color: #434B5C;\n",
              "      box-shadow: 0px 1px 3px 1px rgba(0, 0, 0, 0.15);\n",
              "      filter: drop-shadow(0px 1px 2px rgba(0, 0, 0, 0.3));\n",
              "      fill: #FFFFFF;\n",
              "    }\n",
              "  </style>\n",
              "\n",
              "      <script>\n",
              "        const buttonEl =\n",
              "          document.querySelector('#df-a7c5fb1a-c743-439e-b194-41ce7cbdaf44 button.colab-df-convert');\n",
              "        buttonEl.style.display =\n",
              "          google.colab.kernel.accessAllowed ? 'block' : 'none';\n",
              "\n",
              "        async function convertToInteractive(key) {\n",
              "          const element = document.querySelector('#df-a7c5fb1a-c743-439e-b194-41ce7cbdaf44');\n",
              "          const dataTable =\n",
              "            await google.colab.kernel.invokeFunction('convertToInteractive',\n",
              "                                                     [key], {});\n",
              "          if (!dataTable) return;\n",
              "\n",
              "          const docLinkHtml = 'Like what you see? Visit the ' +\n",
              "            '<a target=\"_blank\" href=https://colab.research.google.com/notebooks/data_table.ipynb>data table notebook</a>'\n",
              "            + ' to learn more about interactive tables.';\n",
              "          element.innerHTML = '';\n",
              "          dataTable['output_type'] = 'display_data';\n",
              "          await google.colab.output.renderOutput(dataTable, element);\n",
              "          const docLink = document.createElement('div');\n",
              "          docLink.innerHTML = docLinkHtml;\n",
              "          element.appendChild(docLink);\n",
              "        }\n",
              "      </script>\n",
              "    </div>\n",
              "  </div>\n",
              "  "
            ]
          },
          "metadata": {},
          "execution_count": 9
        }
      ]
    },
    {
      "cell_type": "code",
      "source": [
        "# import scikit-learn modules\n",
        "from sklearn.tree import DecisionTreeClassifier \n",
        "from sklearn.model_selection import train_test_split \n",
        "from sklearn import metrics\n",
        "\n",
        "# feature selection\n",
        "feature_cols = ['total_points', 'host', 'cfdr_UEFA', 'cfdr_CAF', 'cfdr_CONCACAF', 'cfdr_CONMEBOL']\n",
        "X_18 = data_18[feature_cols]\n",
        "y_18 = data_18.group_result\n",
        "\n",
        "# split dataset into training set and test set\n",
        "X_train, X_test, y_train, y_test = train_test_split(X_18, y_18, test_size=0.25, random_state=1) \n",
        "# create Decision Tree classifer object\n",
        "clf = DecisionTreeClassifier()\n",
        "# train Decision Tree Classifer\n",
        "clf = clf.fit(X_train,y_train)\n",
        "# predict the response for test dataset\n",
        "y_pred = clf.predict(X_test)\n",
        "\n",
        "# evaluate model\n",
        "print(\"Accuracy:\",metrics.accuracy_score(y_test, y_pred))"
      ],
      "metadata": {
        "colab": {
          "base_uri": "https://localhost:8080/"
        },
        "id": "vQI82Nq-dGlO",
        "outputId": "d0fbc284-5f6c-41df-c131-80ea12725efd"
      },
      "execution_count": null,
      "outputs": [
        {
          "output_type": "stream",
          "name": "stdout",
          "text": [
            "Accuracy: 0.5\n"
          ]
        }
      ]
    },
    {
      "cell_type": "code",
      "source": [
        "from sklearn.metrics import classification_report\n",
        "target_names = ['knocked out', 'win from group']\n",
        "print(classification_report(y_test, y_pred, target_names=target_names))"
      ],
      "metadata": {
        "colab": {
          "base_uri": "https://localhost:8080/"
        },
        "id": "9xNBT0AYT-hQ",
        "outputId": "a8858f3d-3cbb-4df9-c4f5-94563f20504f"
      },
      "execution_count": null,
      "outputs": [
        {
          "output_type": "stream",
          "name": "stdout",
          "text": [
            "                precision    recall  f1-score   support\n",
            "\n",
            "   knocked out       0.40      0.67      0.50         3\n",
            "win from group       0.67      0.40      0.50         5\n",
            "\n",
            "      accuracy                           0.50         8\n",
            "     macro avg       0.53      0.53      0.50         8\n",
            "  weighted avg       0.57      0.50      0.50         8\n",
            "\n"
          ]
        }
      ]
    },
    {
      "cell_type": "code",
      "source": [
        "# import required modules\n",
        "from sklearn.linear_model import LogisticRegression\n",
        "import matplotlib.pyplot as plt\n",
        "\n",
        "# set the model\n",
        "logreg = LogisticRegression(random_state=16)\n",
        "# fit the model with data\n",
        "logreg.fit(X_train, y_train)\n",
        "y_pred = logreg.predict(X_test)\n",
        "# convert y ture to numeric\n",
        "y_test = y_test.astype(str).astype(int)\n",
        "\n",
        "# roc curve and auc score\n",
        "y_pred_proba = logreg.predict_proba(X_test)[::,1]\n",
        "fpr, tpr, _ = metrics.roc_curve(y_test,  y_pred_proba)\n",
        "auc = metrics.roc_auc_score(y_test, y_pred_proba)\n",
        "plt.plot(fpr,tpr,label=\"data 1, auc=\"+str(auc))\n",
        "plt.legend(loc=4)\n",
        "plt.show()"
      ],
      "metadata": {
        "colab": {
          "base_uri": "https://localhost:8080/",
          "height": 265
        },
        "id": "iGTzjchbNlyQ",
        "outputId": "e2ae7f5d-3be2-4928-bb49-6fda5a1ec30e"
      },
      "execution_count": null,
      "outputs": [
        {
          "output_type": "display_data",
          "data": {
            "text/plain": [
              "<Figure size 432x288 with 1 Axes>"
            ],
            "image/png": "[encoded data removed]"
          },
          "metadata": {
            "needs_background": "light"
          }
        }
      ]
    },
    {
      "cell_type": "code",
      "source": [
        "# select rows for 2014\n",
        "ratings_1406 = ratings.loc[ratings['rank_date'] == '2014-06-05']\n",
        "ratings_14 = ratings_1406[ratings_1406['country_abrv'].isin(['ALG','ARG','AUS','BEL','BIH','BRA','CMR','CHI','COL','CRC','CIV','CRO','ECU',\n",
        "                                                             'ENG','FRA','GER','GHA','GRE','HON','IRN','ITA','JPN','KOR','MEX','NED','NGA',\n",
        "                                                             'POR','RUS','ESP','SUI','URU','USA'])]\n",
        "print(ratings_14.shape)\n",
        "#ratings_14"
      ],
      "metadata": {
        "colab": {
          "base_uri": "https://localhost:8080/"
        },
        "id": "m3tC5oaOOGc0",
        "outputId": "a7a380d3-f941-48c4-c367-80ea9597c1de"
      },
      "execution_count": null,
      "outputs": [
        {
          "output_type": "stream",
          "name": "stdout",
          "text": [
            "(32, 9)\n"
          ]
        }
      ]
    },
    {
      "cell_type": "code",
      "source": [
        "# keep only useful colomns\n",
        "ratings_14 = ratings_14[['country_full', 'rank', 'total_points', 'confederation']]\n",
        "# get dummies for confederation\n",
        "cfdr_dummies = pd.get_dummies(ratings_14.confederation, prefix='cfdr')\n",
        "data_14 = pd.concat([ratings_14['country_full'], ratings_14['rank'], ratings_14['total_points'], cfdr_dummies], axis=1)\n",
        "data_14 = data_14.drop('cfdr_AFC', axis=1)\n",
        "# host dummy\n",
        "host = ['0', '0', '0', '0', '0', '0', '0', '0', '0', '0', '0', '0', '0', '0', '0', '0', \n",
        "        '0', '0', '0', '0', '0', '0', '1', '0', '0', '0', '0', '0', '0', '0', '0', '0']\n",
        "data_14['host'] = host\n",
        "# 0=lose, 1=win\n",
        "group_lst = ['0', '0', '0', '1', '1', '0', '1', '0', \n",
        "             '0', '1', '1', '1', '0', '1', '0', '0', \n",
        "             '0', '1', '1', '0', '0', '0', '1', '0', \n",
        "             '0', '0', '1', '0', '0', '0', '0', '1']\n",
        "data_14['group_result'] = group_lst\n",
        "data_14.head()"
      ],
      "metadata": {
        "colab": {
          "base_uri": "https://localhost:8080/",
          "height": 206
        },
        "id": "CRr-cCPZJlbd",
        "outputId": "e880d9d6-81c7-4c60-c9f7-6ee91a041d68"
      },
      "execution_count": null,
      "outputs": [
        {
          "output_type": "execute_result",
          "data": {
            "text/plain": [
              "         country_full  rank  total_points  cfdr_CAF  cfdr_CONCACAF  \\\n",
              "47517        Cameroon    56           558         1              0   \n",
              "47522       Australia    62           526         0              0   \n",
              "47526  Korea Republic    57           547         0              0   \n",
              "47558      Costa Rica    28           762         0              1   \n",
              "47561         Algeria    22           858         1              0   \n",
              "\n",
              "       cfdr_CONMEBOL  cfdr_UEFA host group_result  \n",
              "47517              0          0    0            0  \n",
              "47522              0          0    0            0  \n",
              "47526              0          0    0            0  \n",
              "47558              0          0    0            1  \n",
              "47561              0          0    0            1  "
            ],
            "text/html": [
              "\n",
              "  <div id=\"df-cbbcd701-eb33-4d44-8174-7a2f05e6e5f8\">\n",
              "    <div class=\"colab-df-container\">\n",
              "      <div>\n",
              "<style scoped>\n",
              "    .dataframe tbody tr th:only-of-type {\n",
              "        vertical-align: middle;\n",
              "    }\n",
              "\n",
              "    .dataframe tbody tr th {\n",
              "        vertical-align: top;\n",
              "    }\n",
              "\n",
              "    .dataframe thead th {\n",
              "        text-align: right;\n",
              "    }\n",
              "</style>\n",
              "<table border=\"1\" class=\"dataframe\">\n",
              "  <thead>\n",
              "    <tr style=\"text-align: right;\">\n",
              "      <th></th>\n",
              "      <th>country_full</th>\n",
              "      <th>rank</th>\n",
              "      <th>total_points</th>\n",
              "      <th>cfdr_CAF</th>\n",
              "      <th>cfdr_CONCACAF</th>\n",
              "      <th>cfdr_CONMEBOL</th>\n",
              "      <th>cfdr_UEFA</th>\n",
              "      <th>host</th>\n",
              "      <th>group_result</th>\n",
              "    </tr>\n",
              "  </thead>\n",
              "  <tbody>\n",
              "    <tr>\n",
              "      <th>47517</th>\n",
              "      <td>Cameroon</td>\n",
              "      <td>56</td>\n",
              "      <td>558</td>\n",
              "      <td>1</td>\n",
              "      <td>0</td>\n",
              "      <td>0</td>\n",
              "      <td>0</td>\n",
              "      <td>0</td>\n",
              "      <td>0</td>\n",
              "    </tr>\n",
              "    <tr>\n",
              "      <th>47522</th>\n",
              "      <td>Australia</td>\n",
              "      <td>62</td>\n",
              "      <td>526</td>\n",
              "      <td>0</td>\n",
              "      <td>0</td>\n",
              "      <td>0</td>\n",
              "      <td>0</td>\n",
              "      <td>0</td>\n",
              "      <td>0</td>\n",
              "    </tr>\n",
              "    <tr>\n",
              "      <th>47526</th>\n",
              "      <td>Korea Republic</td>\n",
              "      <td>57</td>\n",
              "      <td>547</td>\n",
              "      <td>0</td>\n",
              "      <td>0</td>\n",
              "      <td>0</td>\n",
              "      <td>0</td>\n",
              "      <td>0</td>\n",
              "      <td>0</td>\n",
              "    </tr>\n",
              "    <tr>\n",
              "      <th>47558</th>\n",
              "      <td>Costa Rica</td>\n",
              "      <td>28</td>\n",
              "      <td>762</td>\n",
              "      <td>0</td>\n",
              "      <td>1</td>\n",
              "      <td>0</td>\n",
              "      <td>0</td>\n",
              "      <td>0</td>\n",
              "      <td>1</td>\n",
              "    </tr>\n",
              "    <tr>\n",
              "      <th>47561</th>\n",
              "      <td>Algeria</td>\n",
              "      <td>22</td>\n",
              "      <td>858</td>\n",
              "      <td>1</td>\n",
              "      <td>0</td>\n",
              "      <td>0</td>\n",
              "      <td>0</td>\n",
              "      <td>0</td>\n",
              "      <td>1</td>\n",
              "    </tr>\n",
              "  </tbody>\n",
              "</table>\n",
              "</div>\n",
              "      <button class=\"colab-df-convert\" onclick=\"convertToInteractive('df-cbbcd701-eb33-4d44-8174-7a2f05e6e5f8')\"\n",
              "              title=\"Convert this dataframe to an interactive table.\"\n",
              "              style=\"display:none;\">\n",
              "        \n",
              "  <svg xmlns=\"http://www.w3.org/2000/svg\" height=\"24px\"viewBox=\"0 0 24 24\"\n",
              "       width=\"24px\">\n",
              "    <path d=\"M0 0h24v24H0V0z\" fill=\"none\"/>\n",
              "    <path d=\"M18.56 5.44l.94 2.06.94-2.06 2.06-.94-2.06-.94-.94-2.06-.94 2.06-2.06.94zm-11 1L8.5 8.5l.94-2.06 2.06-.94-2.06-.94L8.5 2.5l-.94 2.06-2.06.94zm10 10l.94 2.06.94-2.06 2.06-.94-2.06-.94-.94-2.06-.94 2.06-2.06.94z\"/><path d=\"M17.41 7.96l-1.37-1.37c-.4-.4-.92-.59-1.43-.59-.52 0-1.04.2-1.43.59L10.3 9.45l-7.72 7.72c-.78.78-.78 2.05 0 2.83L4 21.41c.39.39.9.59 1.41.59.51 0 1.02-.2 1.41-.59l7.78-7.78 2.81-2.81c.8-.78.8-2.07 0-2.86zM5.41 20L4 18.59l7.72-7.72 1.47 1.35L5.41 20z\"/>\n",
              "  </svg>\n",
              "      </button>\n",
              "      \n",
              "  <style>\n",
              "    .colab-df-container {\n",
              "      display:flex;\n",
              "      flex-wrap:wrap;\n",
              "      gap: 12px;\n",
              "    }\n",
              "\n",
              "    .colab-df-convert {\n",
              "      background-color: #E8F0FE;\n",
              "      border: none;\n",
              "      border-radius: 50%;\n",
              "      cursor: pointer;\n",
              "      display: none;\n",
              "      fill: #1967D2;\n",
              "      height: 32px;\n",
              "      padding: 0 0 0 0;\n",
              "      width: 32px;\n",
              "    }\n",
              "\n",
              "    .colab-df-convert:hover {\n",
              "      background-color: #E2EBFA;\n",
              "      box-shadow: 0px 1px 2px rgba(60, 64, 67, 0.3), 0px 1px 3px 1px rgba(60, 64, 67, 0.15);\n",
              "      fill: #174EA6;\n",
              "    }\n",
              "\n",
              "    [theme=dark] .colab-df-convert {\n",
              "      background-color: #3B4455;\n",
              "      fill: #D2E3FC;\n",
              "    }\n",
              "\n",
              "    [theme=dark] .colab-df-convert:hover {\n",
              "      background-color: #434B5C;\n",
              "      box-shadow: 0px 1px 3px 1px rgba(0, 0, 0, 0.15);\n",
              "      filter: drop-shadow(0px 1px 2px rgba(0, 0, 0, 0.3));\n",
              "      fill: #FFFFFF;\n",
              "    }\n",
              "  </style>\n",
              "\n",
              "      <script>\n",
              "        const buttonEl =\n",
              "          document.querySelector('#df-cbbcd701-eb33-4d44-8174-7a2f05e6e5f8 button.colab-df-convert');\n",
              "        buttonEl.style.display =\n",
              "          google.colab.kernel.accessAllowed ? 'block' : 'none';\n",
              "\n",
              "        async function convertToInteractive(key) {\n",
              "          const element = document.querySelector('#df-cbbcd701-eb33-4d44-8174-7a2f05e6e5f8');\n",
              "          const dataTable =\n",
              "            await google.colab.kernel.invokeFunction('convertToInteractive',\n",
              "                                                     [key], {});\n",
              "          if (!dataTable) return;\n",
              "\n",
              "          const docLinkHtml = 'Like what you see? Visit the ' +\n",
              "            '<a target=\"_blank\" href=https://colab.research.google.com/notebooks/data_table.ipynb>data table notebook</a>'\n",
              "            + ' to learn more about interactive tables.';\n",
              "          element.innerHTML = '';\n",
              "          dataTable['output_type'] = 'display_data';\n",
              "          await google.colab.output.renderOutput(dataTable, element);\n",
              "          const docLink = document.createElement('div');\n",
              "          docLink.innerHTML = docLinkHtml;\n",
              "          element.appendChild(docLink);\n",
              "        }\n",
              "      </script>\n",
              "    </div>\n",
              "  </div>\n",
              "  "
            ]
          },
          "metadata": {},
          "execution_count": 14
        }
      ]
    },
    {
      "cell_type": "code",
      "source": [
        "# select rows for 2010\n",
        "ratings_1006 = ratings.loc[ratings['rank_date'] == '2010-05-26']\n",
        "ratings_10 = ratings_1006[ratings_1006['country_abrv'].isin(['ALG','ARG','AUS','BRA','CMR','CHI','CIV','DEN','ENG','FRA','GER','GHA','GRE',\n",
        "                                                             'HON','ITA','JPN','PRK','KOR','MEX','NED','NZL','NGA','PAR','POR','SRB','SVK',\n",
        "                                                             'SVN','RSA','ESP','SUI','URU','USA'])]\n",
        "print(ratings_10.shape)\n",
        "#ratings_10"
      ],
      "metadata": {
        "colab": {
          "base_uri": "https://localhost:8080/"
        },
        "id": "SoaRhCmxsSkM",
        "outputId": "a328c2ea-938b-4029-9ab6-5f29bcdfa9e3"
      },
      "execution_count": null,
      "outputs": [
        {
          "output_type": "stream",
          "name": "stdout",
          "text": [
            "(32, 9)\n"
          ]
        }
      ]
    },
    {
      "cell_type": "code",
      "source": [
        "# keep only useful colomns\n",
        "ratings_10 = ratings_10[['country_full', 'rank', 'total_points', 'confederation']]\n",
        "# get dummies for confederation\n",
        "cfdr_dummies = pd.get_dummies(ratings_10.confederation, prefix='cfdr')\n",
        "data_10 = pd.concat([ratings_10['country_full'], ratings_10['rank'], ratings_10['total_points'], cfdr_dummies], axis=1)\n",
        "data_10 = data_10.drop('cfdr_AFC', axis=1)\n",
        "# host dummy\n",
        "host = ['0', '1', '0', '0', '0', '0', '0', '0', '0', '0', '0', '0', '0', '0', '0', '0', \n",
        "        '0', '0', '0', '0', '0', '0', '0', '0', '0', '0', '0', '0', '0', '0', '0', '0']\n",
        "data_10['host'] = host\n",
        "# 0=lose, 1=win\n",
        "group_lst = ['0', '0', '0', '0', '0', '1', '1', '1', \n",
        "             '0', '1', '0', '0', '0', '1', '1', '1', \n",
        "             '0', '1', '1', '1', '0', '0', '1', '1', \n",
        "             '0', '0', '1', '1', '1', '0', '1', '0']\n",
        "data_10['group_result'] = group_lst\n",
        "data_10.head()"
      ],
      "metadata": {
        "colab": {
          "base_uri": "https://localhost:8080/",
          "height": 206
        },
        "id": "qZQCFn9dxw_J",
        "outputId": "d771f426-a5b7-4d51-c1e5-100419150ad2"
      },
      "execution_count": null,
      "outputs": [
        {
          "output_type": "execute_result",
          "data": {
            "text/plain": [
              "       country_full  rank  total_points  cfdr_CAF  cfdr_CONCACAF  \\\n",
              "37531   New Zealand    78           410         0              0   \n",
              "37553  South Africa    83           392         1              0   \n",
              "37562       Nigeria    21           883         1              0   \n",
              "37563     Australia    20           886         0              0   \n",
              "37564      Cameroon    19           887         1              0   \n",
              "\n",
              "       cfdr_CONMEBOL  cfdr_OFC  cfdr_UEFA host group_result  \n",
              "37531              0         1          0    0            0  \n",
              "37553              0         0          0    1            0  \n",
              "37562              0         0          0    0            0  \n",
              "37563              0         0          0    0            0  \n",
              "37564              0         0          0    0            0  "
            ],
            "text/html": [
              "\n",
              "  <div id=\"df-aa946c43-bdfc-4783-b427-9c016dbd1c1c\">\n",
              "    <div class=\"colab-df-container\">\n",
              "      <div>\n",
              "<style scoped>\n",
              "    .dataframe tbody tr th:only-of-type {\n",
              "        vertical-align: middle;\n",
              "    }\n",
              "\n",
              "    .dataframe tbody tr th {\n",
              "        vertical-align: top;\n",
              "    }\n",
              "\n",
              "    .dataframe thead th {\n",
              "        text-align: right;\n",
              "    }\n",
              "</style>\n",
              "<table border=\"1\" class=\"dataframe\">\n",
              "  <thead>\n",
              "    <tr style=\"text-align: right;\">\n",
              "      <th></th>\n",
              "      <th>country_full</th>\n",
              "      <th>rank</th>\n",
              "      <th>total_points</th>\n",
              "      <th>cfdr_CAF</th>\n",
              "      <th>cfdr_CONCACAF</th>\n",
              "      <th>cfdr_CONMEBOL</th>\n",
              "      <th>cfdr_OFC</th>\n",
              "      <th>cfdr_UEFA</th>\n",
              "      <th>host</th>\n",
              "      <th>group_result</th>\n",
              "    </tr>\n",
              "  </thead>\n",
              "  <tbody>\n",
              "    <tr>\n",
              "      <th>37531</th>\n",
              "      <td>New Zealand</td>\n",
              "      <td>78</td>\n",
              "      <td>410</td>\n",
              "      <td>0</td>\n",
              "      <td>0</td>\n",
              "      <td>0</td>\n",
              "      <td>1</td>\n",
              "      <td>0</td>\n",
              "      <td>0</td>\n",
              "      <td>0</td>\n",
              "    </tr>\n",
              "    <tr>\n",
              "      <th>37553</th>\n",
              "      <td>South Africa</td>\n",
              "      <td>83</td>\n",
              "      <td>392</td>\n",
              "      <td>1</td>\n",
              "      <td>0</td>\n",
              "      <td>0</td>\n",
              "      <td>0</td>\n",
              "      <td>0</td>\n",
              "      <td>1</td>\n",
              "      <td>0</td>\n",
              "    </tr>\n",
              "    <tr>\n",
              "      <th>37562</th>\n",
              "      <td>Nigeria</td>\n",
              "      <td>21</td>\n",
              "      <td>883</td>\n",
              "      <td>1</td>\n",
              "      <td>0</td>\n",
              "      <td>0</td>\n",
              "      <td>0</td>\n",
              "      <td>0</td>\n",
              "      <td>0</td>\n",
              "      <td>0</td>\n",
              "    </tr>\n",
              "    <tr>\n",
              "      <th>37563</th>\n",
              "      <td>Australia</td>\n",
              "      <td>20</td>\n",
              "      <td>886</td>\n",
              "      <td>0</td>\n",
              "      <td>0</td>\n",
              "      <td>0</td>\n",
              "      <td>0</td>\n",
              "      <td>0</td>\n",
              "      <td>0</td>\n",
              "      <td>0</td>\n",
              "    </tr>\n",
              "    <tr>\n",
              "      <th>37564</th>\n",
              "      <td>Cameroon</td>\n",
              "      <td>19</td>\n",
              "      <td>887</td>\n",
              "      <td>1</td>\n",
              "      <td>0</td>\n",
              "      <td>0</td>\n",
              "      <td>0</td>\n",
              "      <td>0</td>\n",
              "      <td>0</td>\n",
              "      <td>0</td>\n",
              "    </tr>\n",
              "  </tbody>\n",
              "</table>\n",
              "</div>\n",
              "      <button class=\"colab-df-convert\" onclick=\"convertToInteractive('df-aa946c43-bdfc-4783-b427-9c016dbd1c1c')\"\n",
              "              title=\"Convert this dataframe to an interactive table.\"\n",
              "              style=\"display:none;\">\n",
              "        \n",
              "  <svg xmlns=\"http://www.w3.org/2000/svg\" height=\"24px\"viewBox=\"0 0 24 24\"\n",
              "       width=\"24px\">\n",
              "    <path d=\"M0 0h24v24H0V0z\" fill=\"none\"/>\n",
              "    <path d=\"M18.56 5.44l.94 2.06.94-2.06 2.06-.94-2.06-.94-.94-2.06-.94 2.06-2.06.94zm-11 1L8.5 8.5l.94-2.06 2.06-.94-2.06-.94L8.5 2.5l-.94 2.06-2.06.94zm10 10l.94 2.06.94-2.06 2.06-.94-2.06-.94-.94-2.06-.94 2.06-2.06.94z\"/><path d=\"M17.41 7.96l-1.37-1.37c-.4-.4-.92-.59-1.43-.59-.52 0-1.04.2-1.43.59L10.3 9.45l-7.72 7.72c-.78.78-.78 2.05 0 2.83L4 21.41c.39.39.9.59 1.41.59.51 0 1.02-.2 1.41-.59l7.78-7.78 2.81-2.81c.8-.78.8-2.07 0-2.86zM5.41 20L4 18.59l7.72-7.72 1.47 1.35L5.41 20z\"/>\n",
              "  </svg>\n",
              "      </button>\n",
              "      \n",
              "  <style>\n",
              "    .colab-df-container {\n",
              "      display:flex;\n",
              "      flex-wrap:wrap;\n",
              "      gap: 12px;\n",
              "    }\n",
              "\n",
              "    .colab-df-convert {\n",
              "      background-color: #E8F0FE;\n",
              "      border: none;\n",
              "      border-radius: 50%;\n",
              "      cursor: pointer;\n",
              "      display: none;\n",
              "      fill: #1967D2;\n",
              "      height: 32px;\n",
              "      padding: 0 0 0 0;\n",
              "      width: 32px;\n",
              "    }\n",
              "\n",
              "    .colab-df-convert:hover {\n",
              "      background-color: #E2EBFA;\n",
              "      box-shadow: 0px 1px 2px rgba(60, 64, 67, 0.3), 0px 1px 3px 1px rgba(60, 64, 67, 0.15);\n",
              "      fill: #174EA6;\n",
              "    }\n",
              "\n",
              "    [theme=dark] .colab-df-convert {\n",
              "      background-color: #3B4455;\n",
              "      fill: #D2E3FC;\n",
              "    }\n",
              "\n",
              "    [theme=dark] .colab-df-convert:hover {\n",
              "      background-color: #434B5C;\n",
              "      box-shadow: 0px 1px 3px 1px rgba(0, 0, 0, 0.15);\n",
              "      filter: drop-shadow(0px 1px 2px rgba(0, 0, 0, 0.3));\n",
              "      fill: #FFFFFF;\n",
              "    }\n",
              "  </style>\n",
              "\n",
              "      <script>\n",
              "        const buttonEl =\n",
              "          document.querySelector('#df-aa946c43-bdfc-4783-b427-9c016dbd1c1c button.colab-df-convert');\n",
              "        buttonEl.style.display =\n",
              "          google.colab.kernel.accessAllowed ? 'block' : 'none';\n",
              "\n",
              "        async function convertToInteractive(key) {\n",
              "          const element = document.querySelector('#df-aa946c43-bdfc-4783-b427-9c016dbd1c1c');\n",
              "          const dataTable =\n",
              "            await google.colab.kernel.invokeFunction('convertToInteractive',\n",
              "                                                     [key], {});\n",
              "          if (!dataTable) return;\n",
              "\n",
              "          const docLinkHtml = 'Like what you see? Visit the ' +\n",
              "            '<a target=\"_blank\" href=https://colab.research.google.com/notebooks/data_table.ipynb>data table notebook</a>'\n",
              "            + ' to learn more about interactive tables.';\n",
              "          element.innerHTML = '';\n",
              "          dataTable['output_type'] = 'display_data';\n",
              "          await google.colab.output.renderOutput(dataTable, element);\n",
              "          const docLink = document.createElement('div');\n",
              "          docLink.innerHTML = docLinkHtml;\n",
              "          element.appendChild(docLink);\n",
              "        }\n",
              "      </script>\n",
              "    </div>\n",
              "  </div>\n",
              "  "
            ]
          },
          "metadata": {},
          "execution_count": 16
        }
      ]
    },
    {
      "cell_type": "code",
      "source": [
        "# select rows for 2006\n",
        "ratings_0606 = ratings.loc[ratings['rank_date'] == '2006-05-17']\n",
        "ratings_06 = ratings_0606[ratings_0606['country_abrv'].isin(['ANG','ARG','AUS','BRA','CRC','CIV','CRO','CZE','ECU','ENG','FRA','GER','GHA',\n",
        "                                                             'IRN','ITA','JPN','KOR','MEX','NED','PAR','POL','POR','KSA','SCG','ESP','SWE',\n",
        "                                                             'SUI','TOG','TRI','TUN','UKR','USA'])]\n",
        "print(ratings_06.shape)\n",
        "#ratings_06"
      ],
      "metadata": {
        "colab": {
          "base_uri": "https://localhost:8080/"
        },
        "id": "J9rc9xFW3akZ",
        "outputId": "29c32265-3e37-4f38-92de-2af153fee4fa"
      },
      "execution_count": null,
      "outputs": [
        {
          "output_type": "stream",
          "name": "stdout",
          "text": [
            "(32, 9)\n"
          ]
        }
      ]
    },
    {
      "cell_type": "code",
      "source": [
        "# keep only useful colomns\n",
        "ratings_06 = ratings_06[['country_full', 'rank', 'total_points', 'confederation']]\n",
        "# get dummies for confederation\n",
        "cfdr_dummies = pd.get_dummies(ratings_06.confederation, prefix='cfdr')\n",
        "data_06 = pd.concat([ratings_06['country_full'], ratings_06['rank'], ratings_06['total_points'], cfdr_dummies], axis=1)\n",
        "data_06 = data_06.drop('cfdr_AFC', axis=1)\n",
        "# host dummy\n",
        "host = ['0', '0', '0', '0', '0', '1', '0', '0', '0', '0', '0', '0', '0', '0', '0', '0', \n",
        "        '0', '0', '0', '0', '0', '0', '0', '0', '0', '0', '0', '0', '0', '0', '0', '0']\n",
        "data_06['host'] = host\n",
        "# 0=lose, 1=win\n",
        "group_lst = ['0', '0', '1', '1', '0', '1', '0', '1',\n",
        "             '1', '1', '1', '1', '1', '1', '0', '1', \n",
        "             '1', '0', '0', '0', '0', '1', '0', '1', \n",
        "             '1', '1', '0', '0', '0', '0', '0', '0']\n",
        "data_06['group_result'] = group_lst\n",
        "data_06.head()"
      ],
      "metadata": {
        "colab": {
          "base_uri": "https://localhost:8080/",
          "height": 206
        },
        "id": "EXwK-ZEoOVLU",
        "outputId": "aeda4b0e-5b28-4e44-fa63-375efb10a5d6"
      },
      "execution_count": null,
      "outputs": [
        {
          "output_type": "execute_result",
          "data": {
            "text/plain": [
              "      country_full  rank  total_points  cfdr_CAF  cfdr_CONCACAF  \\\n",
              "27787       Angola    57           581         1              0   \n",
              "27788         Togo    61           569         1              0   \n",
              "27826       Brazil     1           827         0              0   \n",
              "27827        Ghana    48           600         1              0   \n",
              "27828      Tunisia    21           693         1              0   \n",
              "\n",
              "       cfdr_CONMEBOL  cfdr_UEFA host group_result  \n",
              "27787              0          0    0            0  \n",
              "27788              0          0    0            0  \n",
              "27826              1          0    0            1  \n",
              "27827              0          0    0            1  \n",
              "27828              0          0    0            0  "
            ],
            "text/html": [
              "\n",
              "  <div id=\"df-424f3da3-d8da-4463-b47d-3a661d819e5a\">\n",
              "    <div class=\"colab-df-container\">\n",
              "      <div>\n",
              "<style scoped>\n",
              "    .dataframe tbody tr th:only-of-type {\n",
              "        vertical-align: middle;\n",
              "    }\n",
              "\n",
              "    .dataframe tbody tr th {\n",
              "        vertical-align: top;\n",
              "    }\n",
              "\n",
              "    .dataframe thead th {\n",
              "        text-align: right;\n",
              "    }\n",
              "</style>\n",
              "<table border=\"1\" class=\"dataframe\">\n",
              "  <thead>\n",
              "    <tr style=\"text-align: right;\">\n",
              "      <th></th>\n",
              "      <th>country_full</th>\n",
              "      <th>rank</th>\n",
              "      <th>total_points</th>\n",
              "      <th>cfdr_CAF</th>\n",
              "      <th>cfdr_CONCACAF</th>\n",
              "      <th>cfdr_CONMEBOL</th>\n",
              "      <th>cfdr_UEFA</th>\n",
              "      <th>host</th>\n",
              "      <th>group_result</th>\n",
              "    </tr>\n",
              "  </thead>\n",
              "  <tbody>\n",
              "    <tr>\n",
              "      <th>27787</th>\n",
              "      <td>Angola</td>\n",
              "      <td>57</td>\n",
              "      <td>581</td>\n",
              "      <td>1</td>\n",
              "      <td>0</td>\n",
              "      <td>0</td>\n",
              "      <td>0</td>\n",
              "      <td>0</td>\n",
              "      <td>0</td>\n",
              "    </tr>\n",
              "    <tr>\n",
              "      <th>27788</th>\n",
              "      <td>Togo</td>\n",
              "      <td>61</td>\n",
              "      <td>569</td>\n",
              "      <td>1</td>\n",
              "      <td>0</td>\n",
              "      <td>0</td>\n",
              "      <td>0</td>\n",
              "      <td>0</td>\n",
              "      <td>0</td>\n",
              "    </tr>\n",
              "    <tr>\n",
              "      <th>27826</th>\n",
              "      <td>Brazil</td>\n",
              "      <td>1</td>\n",
              "      <td>827</td>\n",
              "      <td>0</td>\n",
              "      <td>0</td>\n",
              "      <td>1</td>\n",
              "      <td>0</td>\n",
              "      <td>0</td>\n",
              "      <td>1</td>\n",
              "    </tr>\n",
              "    <tr>\n",
              "      <th>27827</th>\n",
              "      <td>Ghana</td>\n",
              "      <td>48</td>\n",
              "      <td>600</td>\n",
              "      <td>1</td>\n",
              "      <td>0</td>\n",
              "      <td>0</td>\n",
              "      <td>0</td>\n",
              "      <td>0</td>\n",
              "      <td>1</td>\n",
              "    </tr>\n",
              "    <tr>\n",
              "      <th>27828</th>\n",
              "      <td>Tunisia</td>\n",
              "      <td>21</td>\n",
              "      <td>693</td>\n",
              "      <td>1</td>\n",
              "      <td>0</td>\n",
              "      <td>0</td>\n",
              "      <td>0</td>\n",
              "      <td>0</td>\n",
              "      <td>0</td>\n",
              "    </tr>\n",
              "  </tbody>\n",
              "</table>\n",
              "</div>\n",
              "      <button class=\"colab-df-convert\" onclick=\"convertToInteractive('df-424f3da3-d8da-4463-b47d-3a661d819e5a')\"\n",
              "              title=\"Convert this dataframe to an interactive table.\"\n",
              "              style=\"display:none;\">\n",
              "        \n",
              "  <svg xmlns=\"http://www.w3.org/2000/svg\" height=\"24px\"viewBox=\"0 0 24 24\"\n",
              "       width=\"24px\">\n",
              "    <path d=\"M0 0h24v24H0V0z\" fill=\"none\"/>\n",
              "    <path d=\"M18.56 5.44l.94 2.06.94-2.06 2.06-.94-2.06-.94-.94-2.06-.94 2.06-2.06.94zm-11 1L8.5 8.5l.94-2.06 2.06-.94-2.06-.94L8.5 2.5l-.94 2.06-2.06.94zm10 10l.94 2.06.94-2.06 2.06-.94-2.06-.94-.94-2.06-.94 2.06-2.06.94z\"/><path d=\"M17.41 7.96l-1.37-1.37c-.4-.4-.92-.59-1.43-.59-.52 0-1.04.2-1.43.59L10.3 9.45l-7.72 7.72c-.78.78-.78 2.05 0 2.83L4 21.41c.39.39.9.59 1.41.59.51 0 1.02-.2 1.41-.59l7.78-7.78 2.81-2.81c.8-.78.8-2.07 0-2.86zM5.41 20L4 18.59l7.72-7.72 1.47 1.35L5.41 20z\"/>\n",
              "  </svg>\n",
              "      </button>\n",
              "      \n",
              "  <style>\n",
              "    .colab-df-container {\n",
              "      display:flex;\n",
              "      flex-wrap:wrap;\n",
              "      gap: 12px;\n",
              "    }\n",
              "\n",
              "    .colab-df-convert {\n",
              "      background-color: #E8F0FE;\n",
              "      border: none;\n",
              "      border-radius: 50%;\n",
              "      cursor: pointer;\n",
              "      display: none;\n",
              "      fill: #1967D2;\n",
              "      height: 32px;\n",
              "      padding: 0 0 0 0;\n",
              "      width: 32px;\n",
              "    }\n",
              "\n",
              "    .colab-df-convert:hover {\n",
              "      background-color: #E2EBFA;\n",
              "      box-shadow: 0px 1px 2px rgba(60, 64, 67, 0.3), 0px 1px 3px 1px rgba(60, 64, 67, 0.15);\n",
              "      fill: #174EA6;\n",
              "    }\n",
              "\n",
              "    [theme=dark] .colab-df-convert {\n",
              "      background-color: #3B4455;\n",
              "      fill: #D2E3FC;\n",
              "    }\n",
              "\n",
              "    [theme=dark] .colab-df-convert:hover {\n",
              "      background-color: #434B5C;\n",
              "      box-shadow: 0px 1px 3px 1px rgba(0, 0, 0, 0.15);\n",
              "      filter: drop-shadow(0px 1px 2px rgba(0, 0, 0, 0.3));\n",
              "      fill: #FFFFFF;\n",
              "    }\n",
              "  </style>\n",
              "\n",
              "      <script>\n",
              "        const buttonEl =\n",
              "          document.querySelector('#df-424f3da3-d8da-4463-b47d-3a661d819e5a button.colab-df-convert');\n",
              "        buttonEl.style.display =\n",
              "          google.colab.kernel.accessAllowed ? 'block' : 'none';\n",
              "\n",
              "        async function convertToInteractive(key) {\n",
              "          const element = document.querySelector('#df-424f3da3-d8da-4463-b47d-3a661d819e5a');\n",
              "          const dataTable =\n",
              "            await google.colab.kernel.invokeFunction('convertToInteractive',\n",
              "                                                     [key], {});\n",
              "          if (!dataTable) return;\n",
              "\n",
              "          const docLinkHtml = 'Like what you see? Visit the ' +\n",
              "            '<a target=\"_blank\" href=https://colab.research.google.com/notebooks/data_table.ipynb>data table notebook</a>'\n",
              "            + ' to learn more about interactive tables.';\n",
              "          element.innerHTML = '';\n",
              "          dataTable['output_type'] = 'display_data';\n",
              "          await google.colab.output.renderOutput(dataTable, element);\n",
              "          const docLink = document.createElement('div');\n",
              "          docLink.innerHTML = docLinkHtml;\n",
              "          element.appendChild(docLink);\n",
              "        }\n",
              "      </script>\n",
              "    </div>\n",
              "  </div>\n",
              "  "
            ]
          },
          "metadata": {},
          "execution_count": 18
        }
      ]
    },
    {
      "cell_type": "code",
      "source": [
        "# select rows for 2002\n",
        "ratings_0205 = ratings.loc[ratings['rank_date'] == '2002-05-15']\n",
        "ratings_02 = ratings_0205[ratings_0205['country_abrv'].isin(['ARG','BEL','BRA','CMR','CHN','CRC','CRO','DEN','ECU','ENG','FRA','GER','ITA',\n",
        "                                                             'JPN','KOR','MEX','NGA','PAR','POL','POR','IRL','RUS','KSA','SEN','SVN','RSA',\n",
        "                                                             'ESP','SWE','TUN','TUR','URU','USA'])]\n",
        "print(ratings_02.shape)\n",
        "#ratings_02"
      ],
      "metadata": {
        "colab": {
          "base_uri": "https://localhost:8080/"
        },
        "id": "dq0qX0XiQsk2",
        "outputId": "3ae4fd5c-7956-4d8a-f562-3e50f4228641"
      },
      "execution_count": null,
      "outputs": [
        {
          "output_type": "stream",
          "name": "stdout",
          "text": [
            "(32, 9)\n"
          ]
        }
      ]
    },
    {
      "cell_type": "code",
      "source": [
        "# keep only useful colomns\n",
        "ratings_02 = ratings_02[['country_full', 'rank', 'total_points', 'confederation']]\n",
        "# get dummies for confederation\n",
        "cfdr_dummies = pd.get_dummies(ratings_02.confederation, prefix='cfdr')\n",
        "data_02 = pd.concat([ratings_02['country_full'], ratings_02['rank'], ratings_02['total_points'], cfdr_dummies], axis=1)\n",
        "data_02 = data_02.drop('cfdr_AFC', axis=1)\n",
        "# host dummy\n",
        "host = ['0', '0', '0', '0', '0', '0', '0', '0', '0', '0', '0', '0', '0', '0', '0', '0', \n",
        "        '0', '0', '0', '0', '0', '0', '0', '0', '0', '1', '0', '0', '1', '0', '0', '0']\n",
        "data_02['host'] = host\n",
        "# 0=lose, 1=win\n",
        "group_lst = ['0', '1', '1', '0', '1', '1', '1', '0', \n",
        "             '1', '1', '1', '1', '1', '1', '1', '0', \n",
        "             '0', '0', '0', '0', '1', '0', '0', '0', \n",
        "             '0', '1', '0', '0', '1', '1', '0', '0']\n",
        "data_02['group_result'] = group_lst\n",
        "data_02.head()"
      ],
      "metadata": {
        "colab": {
          "base_uri": "https://localhost:8080/",
          "height": 206
        },
        "id": "FGnxp0xpg47E",
        "outputId": "59571ee6-61b9-4ac8-c2c7-839a8c8ce535"
      },
      "execution_count": null,
      "outputs": [
        {
          "output_type": "execute_result",
          "data": {
            "text/plain": [
              "      country_full  rank  total_points  cfdr_CAF  cfdr_CONCACAF  \\\n",
              "18270      Uruguay    24           652         0              0   \n",
              "18271      Belgium    23           653         0              0   \n",
              "18272       Turkey    22           654         0              0   \n",
              "18273      Croatia    21           655         0              0   \n",
              "18274      Denmark    20           657         0              0   \n",
              "\n",
              "       cfdr_CONMEBOL  cfdr_UEFA host group_result  \n",
              "18270              1          0    0            0  \n",
              "18271              0          1    0            1  \n",
              "18272              0          1    0            1  \n",
              "18273              0          1    0            0  \n",
              "18274              0          1    0            1  "
            ],
            "text/html": [
              "\n",
              "  <div id=\"df-ddd9ab5b-9e23-4c29-9f1e-67518fc43c20\">\n",
              "    <div class=\"colab-df-container\">\n",
              "      <div>\n",
              "<style scoped>\n",
              "    .dataframe tbody tr th:only-of-type {\n",
              "        vertical-align: middle;\n",
              "    }\n",
              "\n",
              "    .dataframe tbody tr th {\n",
              "        vertical-align: top;\n",
              "    }\n",
              "\n",
              "    .dataframe thead th {\n",
              "        text-align: right;\n",
              "    }\n",
              "</style>\n",
              "<table border=\"1\" class=\"dataframe\">\n",
              "  <thead>\n",
              "    <tr style=\"text-align: right;\">\n",
              "      <th></th>\n",
              "      <th>country_full</th>\n",
              "      <th>rank</th>\n",
              "      <th>total_points</th>\n",
              "      <th>cfdr_CAF</th>\n",
              "      <th>cfdr_CONCACAF</th>\n",
              "      <th>cfdr_CONMEBOL</th>\n",
              "      <th>cfdr_UEFA</th>\n",
              "      <th>host</th>\n",
              "      <th>group_result</th>\n",
              "    </tr>\n",
              "  </thead>\n",
              "  <tbody>\n",
              "    <tr>\n",
              "      <th>18270</th>\n",
              "      <td>Uruguay</td>\n",
              "      <td>24</td>\n",
              "      <td>652</td>\n",
              "      <td>0</td>\n",
              "      <td>0</td>\n",
              "      <td>1</td>\n",
              "      <td>0</td>\n",
              "      <td>0</td>\n",
              "      <td>0</td>\n",
              "    </tr>\n",
              "    <tr>\n",
              "      <th>18271</th>\n",
              "      <td>Belgium</td>\n",
              "      <td>23</td>\n",
              "      <td>653</td>\n",
              "      <td>0</td>\n",
              "      <td>0</td>\n",
              "      <td>0</td>\n",
              "      <td>1</td>\n",
              "      <td>0</td>\n",
              "      <td>1</td>\n",
              "    </tr>\n",
              "    <tr>\n",
              "      <th>18272</th>\n",
              "      <td>Turkey</td>\n",
              "      <td>22</td>\n",
              "      <td>654</td>\n",
              "      <td>0</td>\n",
              "      <td>0</td>\n",
              "      <td>0</td>\n",
              "      <td>1</td>\n",
              "      <td>0</td>\n",
              "      <td>1</td>\n",
              "    </tr>\n",
              "    <tr>\n",
              "      <th>18273</th>\n",
              "      <td>Croatia</td>\n",
              "      <td>21</td>\n",
              "      <td>655</td>\n",
              "      <td>0</td>\n",
              "      <td>0</td>\n",
              "      <td>0</td>\n",
              "      <td>1</td>\n",
              "      <td>0</td>\n",
              "      <td>0</td>\n",
              "    </tr>\n",
              "    <tr>\n",
              "      <th>18274</th>\n",
              "      <td>Denmark</td>\n",
              "      <td>20</td>\n",
              "      <td>657</td>\n",
              "      <td>0</td>\n",
              "      <td>0</td>\n",
              "      <td>0</td>\n",
              "      <td>1</td>\n",
              "      <td>0</td>\n",
              "      <td>1</td>\n",
              "    </tr>\n",
              "  </tbody>\n",
              "</table>\n",
              "</div>\n",
              "      <button class=\"colab-df-convert\" onclick=\"convertToInteractive('df-ddd9ab5b-9e23-4c29-9f1e-67518fc43c20')\"\n",
              "              title=\"Convert this dataframe to an interactive table.\"\n",
              "              style=\"display:none;\">\n",
              "        \n",
              "  <svg xmlns=\"http://www.w3.org/2000/svg\" height=\"24px\"viewBox=\"0 0 24 24\"\n",
              "       width=\"24px\">\n",
              "    <path d=\"M0 0h24v24H0V0z\" fill=\"none\"/>\n",
              "    <path d=\"M18.56 5.44l.94 2.06.94-2.06 2.06-.94-2.06-.94-.94-2.06-.94 2.06-2.06.94zm-11 1L8.5 8.5l.94-2.06 2.06-.94-2.06-.94L8.5 2.5l-.94 2.06-2.06.94zm10 10l.94 2.06.94-2.06 2.06-.94-2.06-.94-.94-2.06-.94 2.06-2.06.94z\"/><path d=\"M17.41 7.96l-1.37-1.37c-.4-.4-.92-.59-1.43-.59-.52 0-1.04.2-1.43.59L10.3 9.45l-7.72 7.72c-.78.78-.78 2.05 0 2.83L4 21.41c.39.39.9.59 1.41.59.51 0 1.02-.2 1.41-.59l7.78-7.78 2.81-2.81c.8-.78.8-2.07 0-2.86zM5.41 20L4 18.59l7.72-7.72 1.47 1.35L5.41 20z\"/>\n",
              "  </svg>\n",
              "      </button>\n",
              "      \n",
              "  <style>\n",
              "    .colab-df-container {\n",
              "      display:flex;\n",
              "      flex-wrap:wrap;\n",
              "      gap: 12px;\n",
              "    }\n",
              "\n",
              "    .colab-df-convert {\n",
              "      background-color: #E8F0FE;\n",
              "      border: none;\n",
              "      border-radius: 50%;\n",
              "      cursor: pointer;\n",
              "      display: none;\n",
              "      fill: #1967D2;\n",
              "      height: 32px;\n",
              "      padding: 0 0 0 0;\n",
              "      width: 32px;\n",
              "    }\n",
              "\n",
              "    .colab-df-convert:hover {\n",
              "      background-color: #E2EBFA;\n",
              "      box-shadow: 0px 1px 2px rgba(60, 64, 67, 0.3), 0px 1px 3px 1px rgba(60, 64, 67, 0.15);\n",
              "      fill: #174EA6;\n",
              "    }\n",
              "\n",
              "    [theme=dark] .colab-df-convert {\n",
              "      background-color: #3B4455;\n",
              "      fill: #D2E3FC;\n",
              "    }\n",
              "\n",
              "    [theme=dark] .colab-df-convert:hover {\n",
              "      background-color: #434B5C;\n",
              "      box-shadow: 0px 1px 3px 1px rgba(0, 0, 0, 0.15);\n",
              "      filter: drop-shadow(0px 1px 2px rgba(0, 0, 0, 0.3));\n",
              "      fill: #FFFFFF;\n",
              "    }\n",
              "  </style>\n",
              "\n",
              "      <script>\n",
              "        const buttonEl =\n",
              "          document.querySelector('#df-ddd9ab5b-9e23-4c29-9f1e-67518fc43c20 button.colab-df-convert');\n",
              "        buttonEl.style.display =\n",
              "          google.colab.kernel.accessAllowed ? 'block' : 'none';\n",
              "\n",
              "        async function convertToInteractive(key) {\n",
              "          const element = document.querySelector('#df-ddd9ab5b-9e23-4c29-9f1e-67518fc43c20');\n",
              "          const dataTable =\n",
              "            await google.colab.kernel.invokeFunction('convertToInteractive',\n",
              "                                                     [key], {});\n",
              "          if (!dataTable) return;\n",
              "\n",
              "          const docLinkHtml = 'Like what you see? Visit the ' +\n",
              "            '<a target=\"_blank\" href=https://colab.research.google.com/notebooks/data_table.ipynb>data table notebook</a>'\n",
              "            + ' to learn more about interactive tables.';\n",
              "          element.innerHTML = '';\n",
              "          dataTable['output_type'] = 'display_data';\n",
              "          await google.colab.output.renderOutput(dataTable, element);\n",
              "          const docLink = document.createElement('div');\n",
              "          docLink.innerHTML = docLinkHtml;\n",
              "          element.appendChild(docLink);\n",
              "        }\n",
              "      </script>\n",
              "    </div>\n",
              "  </div>\n",
              "  "
            ]
          },
          "metadata": {},
          "execution_count": 20
        }
      ]
    },
    {
      "cell_type": "code",
      "source": [
        "# select rows for 1998\n",
        "ratings_9806 = ratings.loc[ratings['rank_date'] == '1998-05-20']\n",
        "ratings_98 = ratings_9806[ratings_9806['country_abrv'].isin(['ARG','AUT','BEL','BRA','BUL','CMR','CHI','COL','CRO','DEN','ENG','FRA','GER',\n",
        "                                                             'IRN','ITA','JAM','JPN','KOR','MEX','MAR','NED','NGA','NOR','PAR','ROU','KSA',\n",
        "                                                             'SCO','RSA','ESP','TUN','USA','YUG'])]\n",
        "print(ratings_98.shape)\n",
        "#ratings_98"
      ],
      "metadata": {
        "colab": {
          "base_uri": "https://localhost:8080/"
        },
        "id": "_hEfXY-Wi4XH",
        "outputId": "f547d78a-2498-477d-bf1d-f60644be5657"
      },
      "execution_count": null,
      "outputs": [
        {
          "output_type": "stream",
          "name": "stdout",
          "text": [
            "(32, 9)\n"
          ]
        }
      ]
    },
    {
      "cell_type": "code",
      "source": [
        "# keep only useful colomns\n",
        "ratings_98 = ratings_98[['country_full', 'rank', 'total_points', 'confederation']]\n",
        "# get dummies for confederation\n",
        "cfdr_dummies = pd.get_dummies(ratings_98.confederation, prefix='cfdr')\n",
        "data_98 = pd.concat([ratings_98['country_full'], ratings_98['rank'], ratings_98['total_points'], cfdr_dummies], axis=1)\n",
        "data_98 = data_98.drop('cfdr_AFC', axis=1)\n",
        "# host dummy\n",
        "host = ['0', '0', '0', '0', '0', '0', '0', '0', '0', '0', '0', '0', '0', '0', '0', '1', \n",
        "        '0', '0', '0', '0', '0', '0', '0', '0', '0', '0', '0', '0', '0', '0', '0', '0']\n",
        "data_98['host'] = host\n",
        "# 0=lose, 1=win\n",
        "group_lst = ['1', '1', '1', '1', '0', '1', '0', '0', \n",
        "             '1', '0', '0', '1', '1', '1', '1', '1', \n",
        "             '1', '0', '0', '0', '0', '0', '0', '0', \n",
        "             '1', '0', '0', '0', '1', '0', '1', '1']\n",
        "data_98['group_result'] = group_lst\n",
        "data_98.head()"
      ],
      "metadata": {
        "colab": {
          "base_uri": "https://localhost:8080/",
          "height": 206
        },
        "id": "TV-IW2F6lTN8",
        "outputId": "a0148757-df04-468a-b529-5f1acbff1788"
      },
      "execution_count": null,
      "outputs": [
        {
          "output_type": "execute_result",
          "data": {
            "text/plain": [
              "     country_full  rank  total_points  cfdr_CAF  cfdr_CONCACAF  cfdr_CONMEBOL  \\\n",
              "8811        Chile     9            59         0              0              1   \n",
              "8812    Argentina     6            60         0              0              1   \n",
              "8813       Norway     7            60         0              0              0   \n",
              "8814   Yugoslavia     8            59         0              0              0   \n",
              "8815     Colombia    10            58         0              0              1   \n",
              "\n",
              "      cfdr_UEFA host group_result  \n",
              "8811          0    0            1  \n",
              "8812          0    0            1  \n",
              "8813          1    0            1  \n",
              "8814          1    0            1  \n",
              "8815          0    0            0  "
            ],
            "text/html": [
              "\n",
              "  <div id=\"df-91af1e4e-ae8c-4ecb-902b-f3823d042878\">\n",
              "    <div class=\"colab-df-container\">\n",
              "      <div>\n",
              "<style scoped>\n",
              "    .dataframe tbody tr th:only-of-type {\n",
              "        vertical-align: middle;\n",
              "    }\n",
              "\n",
              "    .dataframe tbody tr th {\n",
              "        vertical-align: top;\n",
              "    }\n",
              "\n",
              "    .dataframe thead th {\n",
              "        text-align: right;\n",
              "    }\n",
              "</style>\n",
              "<table border=\"1\" class=\"dataframe\">\n",
              "  <thead>\n",
              "    <tr style=\"text-align: right;\">\n",
              "      <th></th>\n",
              "      <th>country_full</th>\n",
              "      <th>rank</th>\n",
              "      <th>total_points</th>\n",
              "      <th>cfdr_CAF</th>\n",
              "      <th>cfdr_CONCACAF</th>\n",
              "      <th>cfdr_CONMEBOL</th>\n",
              "      <th>cfdr_UEFA</th>\n",
              "      <th>host</th>\n",
              "      <th>group_result</th>\n",
              "    </tr>\n",
              "  </thead>\n",
              "  <tbody>\n",
              "    <tr>\n",
              "      <th>8811</th>\n",
              "      <td>Chile</td>\n",
              "      <td>9</td>\n",
              "      <td>59</td>\n",
              "      <td>0</td>\n",
              "      <td>0</td>\n",
              "      <td>1</td>\n",
              "      <td>0</td>\n",
              "      <td>0</td>\n",
              "      <td>1</td>\n",
              "    </tr>\n",
              "    <tr>\n",
              "      <th>8812</th>\n",
              "      <td>Argentina</td>\n",
              "      <td>6</td>\n",
              "      <td>60</td>\n",
              "      <td>0</td>\n",
              "      <td>0</td>\n",
              "      <td>1</td>\n",
              "      <td>0</td>\n",
              "      <td>0</td>\n",
              "      <td>1</td>\n",
              "    </tr>\n",
              "    <tr>\n",
              "      <th>8813</th>\n",
              "      <td>Norway</td>\n",
              "      <td>7</td>\n",
              "      <td>60</td>\n",
              "      <td>0</td>\n",
              "      <td>0</td>\n",
              "      <td>0</td>\n",
              "      <td>1</td>\n",
              "      <td>0</td>\n",
              "      <td>1</td>\n",
              "    </tr>\n",
              "    <tr>\n",
              "      <th>8814</th>\n",
              "      <td>Yugoslavia</td>\n",
              "      <td>8</td>\n",
              "      <td>59</td>\n",
              "      <td>0</td>\n",
              "      <td>0</td>\n",
              "      <td>0</td>\n",
              "      <td>1</td>\n",
              "      <td>0</td>\n",
              "      <td>1</td>\n",
              "    </tr>\n",
              "    <tr>\n",
              "      <th>8815</th>\n",
              "      <td>Colombia</td>\n",
              "      <td>10</td>\n",
              "      <td>58</td>\n",
              "      <td>0</td>\n",
              "      <td>0</td>\n",
              "      <td>1</td>\n",
              "      <td>0</td>\n",
              "      <td>0</td>\n",
              "      <td>0</td>\n",
              "    </tr>\n",
              "  </tbody>\n",
              "</table>\n",
              "</div>\n",
              "      <button class=\"colab-df-convert\" onclick=\"convertToInteractive('df-91af1e4e-ae8c-4ecb-902b-f3823d042878')\"\n",
              "              title=\"Convert this dataframe to an interactive table.\"\n",
              "              style=\"display:none;\">\n",
              "        \n",
              "  <svg xmlns=\"http://www.w3.org/2000/svg\" height=\"24px\"viewBox=\"0 0 24 24\"\n",
              "       width=\"24px\">\n",
              "    <path d=\"M0 0h24v24H0V0z\" fill=\"none\"/>\n",
              "    <path d=\"M18.56 5.44l.94 2.06.94-2.06 2.06-.94-2.06-.94-.94-2.06-.94 2.06-2.06.94zm-11 1L8.5 8.5l.94-2.06 2.06-.94-2.06-.94L8.5 2.5l-.94 2.06-2.06.94zm10 10l.94 2.06.94-2.06 2.06-.94-2.06-.94-.94-2.06-.94 2.06-2.06.94z\"/><path d=\"M17.41 7.96l-1.37-1.37c-.4-.4-.92-.59-1.43-.59-.52 0-1.04.2-1.43.59L10.3 9.45l-7.72 7.72c-.78.78-.78 2.05 0 2.83L4 21.41c.39.39.9.59 1.41.59.51 0 1.02-.2 1.41-.59l7.78-7.78 2.81-2.81c.8-.78.8-2.07 0-2.86zM5.41 20L4 18.59l7.72-7.72 1.47 1.35L5.41 20z\"/>\n",
              "  </svg>\n",
              "      </button>\n",
              "      \n",
              "  <style>\n",
              "    .colab-df-container {\n",
              "      display:flex;\n",
              "      flex-wrap:wrap;\n",
              "      gap: 12px;\n",
              "    }\n",
              "\n",
              "    .colab-df-convert {\n",
              "      background-color: #E8F0FE;\n",
              "      border: none;\n",
              "      border-radius: 50%;\n",
              "      cursor: pointer;\n",
              "      display: none;\n",
              "      fill: #1967D2;\n",
              "      height: 32px;\n",
              "      padding: 0 0 0 0;\n",
              "      width: 32px;\n",
              "    }\n",
              "\n",
              "    .colab-df-convert:hover {\n",
              "      background-color: #E2EBFA;\n",
              "      box-shadow: 0px 1px 2px rgba(60, 64, 67, 0.3), 0px 1px 3px 1px rgba(60, 64, 67, 0.15);\n",
              "      fill: #174EA6;\n",
              "    }\n",
              "\n",
              "    [theme=dark] .colab-df-convert {\n",
              "      background-color: #3B4455;\n",
              "      fill: #D2E3FC;\n",
              "    }\n",
              "\n",
              "    [theme=dark] .colab-df-convert:hover {\n",
              "      background-color: #434B5C;\n",
              "      box-shadow: 0px 1px 3px 1px rgba(0, 0, 0, 0.15);\n",
              "      filter: drop-shadow(0px 1px 2px rgba(0, 0, 0, 0.3));\n",
              "      fill: #FFFFFF;\n",
              "    }\n",
              "  </style>\n",
              "\n",
              "      <script>\n",
              "        const buttonEl =\n",
              "          document.querySelector('#df-91af1e4e-ae8c-4ecb-902b-f3823d042878 button.colab-df-convert');\n",
              "        buttonEl.style.display =\n",
              "          google.colab.kernel.accessAllowed ? 'block' : 'none';\n",
              "\n",
              "        async function convertToInteractive(key) {\n",
              "          const element = document.querySelector('#df-91af1e4e-ae8c-4ecb-902b-f3823d042878');\n",
              "          const dataTable =\n",
              "            await google.colab.kernel.invokeFunction('convertToInteractive',\n",
              "                                                     [key], {});\n",
              "          if (!dataTable) return;\n",
              "\n",
              "          const docLinkHtml = 'Like what you see? Visit the ' +\n",
              "            '<a target=\"_blank\" href=https://colab.research.google.com/notebooks/data_table.ipynb>data table notebook</a>'\n",
              "            + ' to learn more about interactive tables.';\n",
              "          element.innerHTML = '';\n",
              "          dataTable['output_type'] = 'display_data';\n",
              "          await google.colab.output.renderOutput(dataTable, element);\n",
              "          const docLink = document.createElement('div');\n",
              "          docLink.innerHTML = docLinkHtml;\n",
              "          element.appendChild(docLink);\n",
              "        }\n",
              "      </script>\n",
              "    </div>\n",
              "  </div>\n",
              "  "
            ]
          },
          "metadata": {},
          "execution_count": 22
        }
      ]
    },
    {
      "cell_type": "code",
      "source": [
        "# append 98-14 data as train\n",
        "data_5 = pd.concat([data_98, data_02, data_06, data_10, data_14], ignore_index=True)\n",
        "print(data_5.shape)\n",
        "data_5.head()"
      ],
      "metadata": {
        "colab": {
          "base_uri": "https://localhost:8080/",
          "height": 223
        },
        "id": "Ts4DZXu7oO_Z",
        "outputId": "e7cacb48-6d02-4589-b732-8c4055d5f2c7"
      },
      "execution_count": null,
      "outputs": [
        {
          "output_type": "stream",
          "name": "stdout",
          "text": [
            "(160, 10)\n"
          ]
        },
        {
          "output_type": "execute_result",
          "data": {
            "text/plain": [
              "  country_full  rank  total_points  cfdr_CAF  cfdr_CONCACAF  cfdr_CONMEBOL  \\\n",
              "0        Chile     9            59         0              0              1   \n",
              "1    Argentina     6            60         0              0              1   \n",
              "2       Norway     7            60         0              0              0   \n",
              "3   Yugoslavia     8            59         0              0              0   \n",
              "4     Colombia    10            58         0              0              1   \n",
              "\n",
              "   cfdr_UEFA host group_result  cfdr_OFC  \n",
              "0          0    0            1       NaN  \n",
              "1          0    0            1       NaN  \n",
              "2          1    0            1       NaN  \n",
              "3          1    0            1       NaN  \n",
              "4          0    0            0       NaN  "
            ],
            "text/html": [
              "\n",
              "  <div id=\"df-fcb1e567-9438-47e2-ac44-82392d6daae6\">\n",
              "    <div class=\"colab-df-container\">\n",
              "      <div>\n",
              "<style scoped>\n",
              "    .dataframe tbody tr th:only-of-type {\n",
              "        vertical-align: middle;\n",
              "    }\n",
              "\n",
              "    .dataframe tbody tr th {\n",
              "        vertical-align: top;\n",
              "    }\n",
              "\n",
              "    .dataframe thead th {\n",
              "        text-align: right;\n",
              "    }\n",
              "</style>\n",
              "<table border=\"1\" class=\"dataframe\">\n",
              "  <thead>\n",
              "    <tr style=\"text-align: right;\">\n",
              "      <th></th>\n",
              "      <th>country_full</th>\n",
              "      <th>rank</th>\n",
              "      <th>total_points</th>\n",
              "      <th>cfdr_CAF</th>\n",
              "      <th>cfdr_CONCACAF</th>\n",
              "      <th>cfdr_CONMEBOL</th>\n",
              "      <th>cfdr_UEFA</th>\n",
              "      <th>host</th>\n",
              "      <th>group_result</th>\n",
              "      <th>cfdr_OFC</th>\n",
              "    </tr>\n",
              "  </thead>\n",
              "  <tbody>\n",
              "    <tr>\n",
              "      <th>0</th>\n",
              "      <td>Chile</td>\n",
              "      <td>9</td>\n",
              "      <td>59</td>\n",
              "      <td>0</td>\n",
              "      <td>0</td>\n",
              "      <td>1</td>\n",
              "      <td>0</td>\n",
              "      <td>0</td>\n",
              "      <td>1</td>\n",
              "      <td>NaN</td>\n",
              "    </tr>\n",
              "    <tr>\n",
              "      <th>1</th>\n",
              "      <td>Argentina</td>\n",
              "      <td>6</td>\n",
              "      <td>60</td>\n",
              "      <td>0</td>\n",
              "      <td>0</td>\n",
              "      <td>1</td>\n",
              "      <td>0</td>\n",
              "      <td>0</td>\n",
              "      <td>1</td>\n",
              "      <td>NaN</td>\n",
              "    </tr>\n",
              "    <tr>\n",
              "      <th>2</th>\n",
              "      <td>Norway</td>\n",
              "      <td>7</td>\n",
              "      <td>60</td>\n",
              "      <td>0</td>\n",
              "      <td>0</td>\n",
              "      <td>0</td>\n",
              "      <td>1</td>\n",
              "      <td>0</td>\n",
              "      <td>1</td>\n",
              "      <td>NaN</td>\n",
              "    </tr>\n",
              "    <tr>\n",
              "      <th>3</th>\n",
              "      <td>Yugoslavia</td>\n",
              "      <td>8</td>\n",
              "      <td>59</td>\n",
              "      <td>0</td>\n",
              "      <td>0</td>\n",
              "      <td>0</td>\n",
              "      <td>1</td>\n",
              "      <td>0</td>\n",
              "      <td>1</td>\n",
              "      <td>NaN</td>\n",
              "    </tr>\n",
              "    <tr>\n",
              "      <th>4</th>\n",
              "      <td>Colombia</td>\n",
              "      <td>10</td>\n",
              "      <td>58</td>\n",
              "      <td>0</td>\n",
              "      <td>0</td>\n",
              "      <td>1</td>\n",
              "      <td>0</td>\n",
              "      <td>0</td>\n",
              "      <td>0</td>\n",
              "      <td>NaN</td>\n",
              "    </tr>\n",
              "  </tbody>\n",
              "</table>\n",
              "</div>\n",
              "      <button class=\"colab-df-convert\" onclick=\"convertToInteractive('df-fcb1e567-9438-47e2-ac44-82392d6daae6')\"\n",
              "              title=\"Convert this dataframe to an interactive table.\"\n",
              "              style=\"display:none;\">\n",
              "        \n",
              "  <svg xmlns=\"http://www.w3.org/2000/svg\" height=\"24px\"viewBox=\"0 0 24 24\"\n",
              "       width=\"24px\">\n",
              "    <path d=\"M0 0h24v24H0V0z\" fill=\"none\"/>\n",
              "    <path d=\"M18.56 5.44l.94 2.06.94-2.06 2.06-.94-2.06-.94-.94-2.06-.94 2.06-2.06.94zm-11 1L8.5 8.5l.94-2.06 2.06-.94-2.06-.94L8.5 2.5l-.94 2.06-2.06.94zm10 10l.94 2.06.94-2.06 2.06-.94-2.06-.94-.94-2.06-.94 2.06-2.06.94z\"/><path d=\"M17.41 7.96l-1.37-1.37c-.4-.4-.92-.59-1.43-.59-.52 0-1.04.2-1.43.59L10.3 9.45l-7.72 7.72c-.78.78-.78 2.05 0 2.83L4 21.41c.39.39.9.59 1.41.59.51 0 1.02-.2 1.41-.59l7.78-7.78 2.81-2.81c.8-.78.8-2.07 0-2.86zM5.41 20L4 18.59l7.72-7.72 1.47 1.35L5.41 20z\"/>\n",
              "  </svg>\n",
              "      </button>\n",
              "      \n",
              "  <style>\n",
              "    .colab-df-container {\n",
              "      display:flex;\n",
              "      flex-wrap:wrap;\n",
              "      gap: 12px;\n",
              "    }\n",
              "\n",
              "    .colab-df-convert {\n",
              "      background-color: #E8F0FE;\n",
              "      border: none;\n",
              "      border-radius: 50%;\n",
              "      cursor: pointer;\n",
              "      display: none;\n",
              "      fill: #1967D2;\n",
              "      height: 32px;\n",
              "      padding: 0 0 0 0;\n",
              "      width: 32px;\n",
              "    }\n",
              "\n",
              "    .colab-df-convert:hover {\n",
              "      background-color: #E2EBFA;\n",
              "      box-shadow: 0px 1px 2px rgba(60, 64, 67, 0.3), 0px 1px 3px 1px rgba(60, 64, 67, 0.15);\n",
              "      fill: #174EA6;\n",
              "    }\n",
              "\n",
              "    [theme=dark] .colab-df-convert {\n",
              "      background-color: #3B4455;\n",
              "      fill: #D2E3FC;\n",
              "    }\n",
              "\n",
              "    [theme=dark] .colab-df-convert:hover {\n",
              "      background-color: #434B5C;\n",
              "      box-shadow: 0px 1px 3px 1px rgba(0, 0, 0, 0.15);\n",
              "      filter: drop-shadow(0px 1px 2px rgba(0, 0, 0, 0.3));\n",
              "      fill: #FFFFFF;\n",
              "    }\n",
              "  </style>\n",
              "\n",
              "      <script>\n",
              "        const buttonEl =\n",
              "          document.querySelector('#df-fcb1e567-9438-47e2-ac44-82392d6daae6 button.colab-df-convert');\n",
              "        buttonEl.style.display =\n",
              "          google.colab.kernel.accessAllowed ? 'block' : 'none';\n",
              "\n",
              "        async function convertToInteractive(key) {\n",
              "          const element = document.querySelector('#df-fcb1e567-9438-47e2-ac44-82392d6daae6');\n",
              "          const dataTable =\n",
              "            await google.colab.kernel.invokeFunction('convertToInteractive',\n",
              "                                                     [key], {});\n",
              "          if (!dataTable) return;\n",
              "\n",
              "          const docLinkHtml = 'Like what you see? Visit the ' +\n",
              "            '<a target=\"_blank\" href=https://colab.research.google.com/notebooks/data_table.ipynb>data table notebook</a>'\n",
              "            + ' to learn more about interactive tables.';\n",
              "          element.innerHTML = '';\n",
              "          dataTable['output_type'] = 'display_data';\n",
              "          await google.colab.output.renderOutput(dataTable, element);\n",
              "          const docLink = document.createElement('div');\n",
              "          docLink.innerHTML = docLinkHtml;\n",
              "          element.appendChild(docLink);\n",
              "        }\n",
              "      </script>\n",
              "    </div>\n",
              "  </div>\n",
              "  "
            ]
          },
          "metadata": {},
          "execution_count": 23
        }
      ]
    },
    {
      "cell_type": "code",
      "source": [
        "# import scikit-learn modules\n",
        "from sklearn.tree import DecisionTreeClassifier \n",
        "from sklearn.model_selection import train_test_split \n",
        "from sklearn import metrics\n",
        "\n",
        "# feature selection\n",
        "feature_cols = ['rank', 'host', 'cfdr_UEFA', 'cfdr_CONMEBOL']\n",
        "X_5 = data_5[feature_cols]\n",
        "y_5 = data_5.group_result\n",
        "\n",
        "# split dataset into training set and test set\n",
        "# X_train, X_test, y_train, y_test = train_test_split(X_5, data_18, y_5, y_18, random_state=1) \n",
        "X_train = X_5\n",
        "X_test = data_18[feature_cols]\n",
        "y_train = y_5\n",
        "y_test = y_18\n",
        "# create Decision Tree classifer object\n",
        "clf = DecisionTreeClassifier()\n",
        "# train Decision Tree Classifer\n",
        "clf = clf.fit(X_train,y_train)\n",
        "# predict the response for test dataset\n",
        "y_pred = clf.predict(X_test)\n",
        "\n",
        "# evaluate model\n",
        "print(\"Accuracy:\",metrics.accuracy_score(y_test, y_pred))"
      ],
      "metadata": {
        "colab": {
          "base_uri": "https://localhost:8080/"
        },
        "id": "Qt_rswjWZejV",
        "outputId": "c804275f-ad7e-4737-b7b2-27cec8d750f0"
      },
      "execution_count": null,
      "outputs": [
        {
          "output_type": "stream",
          "name": "stdout",
          "text": [
            "Accuracy: 0.6875\n"
          ]
        }
      ]
    },
    {
      "cell_type": "code",
      "source": [
        "y_pred"
      ],
      "metadata": {
        "colab": {
          "base_uri": "https://localhost:8080/"
        },
        "id": "xoK1wICtgg4E",
        "outputId": "7587719c-325e-41c8-f65f-2d34373933b0"
      },
      "execution_count": null,
      "outputs": [
        {
          "output_type": "execute_result",
          "data": {
            "text/plain": [
              "array(['1', '0', '0', '0', '0', '0', '1', '0', '1', '1', '1', '1', '1',\n",
              "       '1', '0', '0', '1', '1', '1', '0', '0', '1', '1', '0', '0', '0',\n",
              "       '1', '1', '0', '0', '0', '1'], dtype=object)"
            ]
          },
          "metadata": {},
          "execution_count": 25
        }
      ]
    },
    {
      "cell_type": "code",
      "source": [
        "data_18"
      ],
      "metadata": {
        "colab": {
          "base_uri": "https://localhost:8080/",
          "height": 332
        },
        "id": "S6wz9-LHhFqM",
        "outputId": "3b574776-b733-4b5e-8a62-aec317eaae7e"
      },
      "execution_count": null,
      "outputs": [
        {
          "output_type": "execute_result",
          "data": {
            "text/plain": [
              "         country_full  rank  total_points  cfdr_CAF  cfdr_CONCACAF  \\\n",
              "57585          Russia    70           457         0              0   \n",
              "57591          Panama    55           571         0              1   \n",
              "57593    Saudi Arabia    67           465         0              0   \n",
              "57598           Japan    61           521         0              0   \n",
              "57602  Korea Republic    57           544         0              0   \n",
              "57636      Costa Rica    23           884         0              1   \n",
              "57637         Iceland    22           908         0              0   \n",
              "57638         Tunisia    21           910         1              0   \n",
              "57639         Croatia    20           945         0              0   \n",
              "57643        Colombia    16           986         0              0   \n",
              "57644          Mexico    15           989         0              1   \n",
              "57645         Uruguay    14          1018         0              0   \n",
              "57646         England    12          1051         0              0   \n",
              "57647         Denmark    12          1051         0              0   \n",
              "57648            Peru    11          1125         0              0   \n",
              "57649           Spain    10          1126         0              0   \n",
              "57651          Poland     8          1183         0              0   \n",
              "57652          France     7          1198         0              0   \n",
              "57653     Switzerland     6          1199         0              0   \n",
              "57654       Argentina     5          1241         0              0   \n",
              "57655        Portugal     4          1274         0              0   \n",
              "57656         Belgium     3          1298         0              0   \n",
              "57657          Brazil     2          1431         0              0   \n",
              "57658         Germany     1          1558         0              0   \n",
              "57659          Sweden    24           880         0              0   \n",
              "57662         Senegal    27           838         1              0   \n",
              "57665         Nigeria    48           618         1              0   \n",
              "57668           Egypt    45           649         1              0   \n",
              "57672         Morocco    41           686         1              0   \n",
              "57676         IR Iran    37           708         0              0   \n",
              "57677       Australia    36           718         0              0   \n",
              "57679          Serbia    34           751         0              0   \n",
              "\n",
              "       cfdr_CONMEBOL  cfdr_UEFA host group_result  \n",
              "57585              0          1    1            1  \n",
              "57591              0          0    0            0  \n",
              "57593              0          0    0            0  \n",
              "57598              0          0    0            1  \n",
              "57602              0          0    0            0  \n",
              "57636              0          0    0            0  \n",
              "57637              0          1    0            0  \n",
              "57638              0          0    0            0  \n",
              "57639              0          1    0            1  \n",
              "57643              1          0    0            1  \n",
              "57644              0          0    0            1  \n",
              "57645              1          0    0            1  \n",
              "57646              0          1    0            1  \n",
              "57647              0          1    0            1  \n",
              "57648              1          0    0            0  \n",
              "57649              0          1    0            1  \n",
              "57651              0          1    0            0  \n",
              "57652              0          1    0            1  \n",
              "57653              0          1    0            1  \n",
              "57654              1          0    0            1  \n",
              "57655              0          1    0            1  \n",
              "57656              0          1    0            1  \n",
              "57657              1          0    0            1  \n",
              "57658              0          1    0            0  \n",
              "57659              0          1    0            1  \n",
              "57662              0          0    0            0  \n",
              "57665              0          0    0            0  \n",
              "57668              0          0    0            0  \n",
              "57672              0          0    0            0  \n",
              "57676              0          0    0            0  \n",
              "57677              0          0    0            0  \n",
              "57679              0          1    0            0  "
            ],
            "text/html": [
              "\n",
              "  <div id=\"df-a94aac62-2dcf-48cc-a666-d44820657b79\">\n",
              "    <div class=\"colab-df-container\">\n",
              "      <div>\n",
              "<style scoped>\n",
              "    .dataframe tbody tr th:only-of-type {\n",
              "        vertical-align: middle;\n",
              "    }\n",
              "\n",
              "    .dataframe tbody tr th {\n",
              "        vertical-align: top;\n",
              "    }\n",
              "\n",
              "    .dataframe thead th {\n",
              "        text-align: right;\n",
              "    }\n",
              "</style>\n",
              "<table border=\"1\" class=\"dataframe\">\n",
              "  <thead>\n",
              "    <tr style=\"text-align: right;\">\n",
              "      <th></th>\n",
              "      <th>country_full</th>\n",
              "      <th>rank</th>\n",
              "      <th>total_points</th>\n",
              "      <th>cfdr_CAF</th>\n",
              "      <th>cfdr_CONCACAF</th>\n",
              "      <th>cfdr_CONMEBOL</th>\n",
              "      <th>cfdr_UEFA</th>\n",
              "      <th>host</th>\n",
              "      <th>group_result</th>\n",
              "    </tr>\n",
              "  </thead>\n",
              "  <tbody>\n",
              "    <tr>\n",
              "      <th>57585</th>\n",
              "      <td>Russia</td>\n",
              "      <td>70</td>\n",
              "      <td>457</td>\n",
              "      <td>0</td>\n",
              "      <td>0</td>\n",
              "      <td>0</td>\n",
              "      <td>1</td>\n",
              "      <td>1</td>\n",
              "      <td>1</td>\n",
              "    </tr>\n",
              "    <tr>\n",
              "      <th>57591</th>\n",
              "      <td>Panama</td>\n",
              "      <td>55</td>\n",
              "      <td>571</td>\n",
              "      <td>0</td>\n",
              "      <td>1</td>\n",
              "      <td>0</td>\n",
              "      <td>0</td>\n",
              "      <td>0</td>\n",
              "      <td>0</td>\n",
              "    </tr>\n",
              "    <tr>\n",
              "      <th>57593</th>\n",
              "      <td>Saudi Arabia</td>\n",
              "      <td>67</td>\n",
              "      <td>465</td>\n",
              "      <td>0</td>\n",
              "      <td>0</td>\n",
              "      <td>0</td>\n",
              "      <td>0</td>\n",
              "      <td>0</td>\n",
              "      <td>0</td>\n",
              "    </tr>\n",
              "    <tr>\n",
              "      <th>57598</th>\n",
              "      <td>Japan</td>\n",
              "      <td>61</td>\n",
              "      <td>521</td>\n",
              "      <td>0</td>\n",
              "      <td>0</td>\n",
              "      <td>0</td>\n",
              "      <td>0</td>\n",
              "      <td>0</td>\n",
              "      <td>1</td>\n",
              "    </tr>\n",
              "    <tr>\n",
              "      <th>57602</th>\n",
              "      <td>Korea Republic</td>\n",
              "      <td>57</td>\n",
              "      <td>544</td>\n",
              "      <td>0</td>\n",
              "      <td>0</td>\n",
              "      <td>0</td>\n",
              "      <td>0</td>\n",
              "      <td>0</td>\n",
              "      <td>0</td>\n",
              "    </tr>\n",
              "    <tr>\n",
              "      <th>57636</th>\n",
              "      <td>Costa Rica</td>\n",
              "      <td>23</td>\n",
              "      <td>884</td>\n",
              "      <td>0</td>\n",
              "      <td>1</td>\n",
              "      <td>0</td>\n",
              "      <td>0</td>\n",
              "      <td>0</td>\n",
              "      <td>0</td>\n",
              "    </tr>\n",
              "    <tr>\n",
              "      <th>57637</th>\n",
              "      <td>Iceland</td>\n",
              "      <td>22</td>\n",
              "      <td>908</td>\n",
              "      <td>0</td>\n",
              "      <td>0</td>\n",
              "      <td>0</td>\n",
              "      <td>1</td>\n",
              "      <td>0</td>\n",
              "      <td>0</td>\n",
              "    </tr>\n",
              "    <tr>\n",
              "      <th>57638</th>\n",
              "      <td>Tunisia</td>\n",
              "      <td>21</td>\n",
              "      <td>910</td>\n",
              "      <td>1</td>\n",
              "      <td>0</td>\n",
              "      <td>0</td>\n",
              "      <td>0</td>\n",
              "      <td>0</td>\n",
              "      <td>0</td>\n",
              "    </tr>\n",
              "    <tr>\n",
              "      <th>57639</th>\n",
              "      <td>Croatia</td>\n",
              "      <td>20</td>\n",
              "      <td>945</td>\n",
              "      <td>0</td>\n",
              "      <td>0</td>\n",
              "      <td>0</td>\n",
              "      <td>1</td>\n",
              "      <td>0</td>\n",
              "      <td>1</td>\n",
              "    </tr>\n",
              "    <tr>\n",
              "      <th>57643</th>\n",
              "      <td>Colombia</td>\n",
              "      <td>16</td>\n",
              "      <td>986</td>\n",
              "      <td>0</td>\n",
              "      <td>0</td>\n",
              "      <td>1</td>\n",
              "      <td>0</td>\n",
              "      <td>0</td>\n",
              "      <td>1</td>\n",
              "    </tr>\n",
              "    <tr>\n",
              "      <th>57644</th>\n",
              "      <td>Mexico</td>\n",
              "      <td>15</td>\n",
              "      <td>989</td>\n",
              "      <td>0</td>\n",
              "      <td>1</td>\n",
              "      <td>0</td>\n",
              "      <td>0</td>\n",
              "      <td>0</td>\n",
              "      <td>1</td>\n",
              "    </tr>\n",
              "    <tr>\n",
              "      <th>57645</th>\n",
              "      <td>Uruguay</td>\n",
              "      <td>14</td>\n",
              "      <td>1018</td>\n",
              "      <td>0</td>\n",
              "      <td>0</td>\n",
              "      <td>1</td>\n",
              "      <td>0</td>\n",
              "      <td>0</td>\n",
              "      <td>1</td>\n",
              "    </tr>\n",
              "    <tr>\n",
              "      <th>57646</th>\n",
              "      <td>England</td>\n",
              "      <td>12</td>\n",
              "      <td>1051</td>\n",
              "      <td>0</td>\n",
              "      <td>0</td>\n",
              "      <td>0</td>\n",
              "      <td>1</td>\n",
              "      <td>0</td>\n",
              "      <td>1</td>\n",
              "    </tr>\n",
              "    <tr>\n",
              "      <th>57647</th>\n",
              "      <td>Denmark</td>\n",
              "      <td>12</td>\n",
              "      <td>1051</td>\n",
              "      <td>0</td>\n",
              "      <td>0</td>\n",
              "      <td>0</td>\n",
              "      <td>1</td>\n",
              "      <td>0</td>\n",
              "      <td>1</td>\n",
              "    </tr>\n",
              "    <tr>\n",
              "      <th>57648</th>\n",
              "      <td>Peru</td>\n",
              "      <td>11</td>\n",
              "      <td>1125</td>\n",
              "      <td>0</td>\n",
              "      <td>0</td>\n",
              "      <td>1</td>\n",
              "      <td>0</td>\n",
              "      <td>0</td>\n",
              "      <td>0</td>\n",
              "    </tr>\n",
              "    <tr>\n",
              "      <th>57649</th>\n",
              "      <td>Spain</td>\n",
              "      <td>10</td>\n",
              "      <td>1126</td>\n",
              "      <td>0</td>\n",
              "      <td>0</td>\n",
              "      <td>0</td>\n",
              "      <td>1</td>\n",
              "      <td>0</td>\n",
              "      <td>1</td>\n",
              "    </tr>\n",
              "    <tr>\n",
              "      <th>57651</th>\n",
              "      <td>Poland</td>\n",
              "      <td>8</td>\n",
              "      <td>1183</td>\n",
              "      <td>0</td>\n",
              "      <td>0</td>\n",
              "      <td>0</td>\n",
              "      <td>1</td>\n",
              "      <td>0</td>\n",
              "      <td>0</td>\n",
              "    </tr>\n",
              "    <tr>\n",
              "      <th>57652</th>\n",
              "      <td>France</td>\n",
              "      <td>7</td>\n",
              "      <td>1198</td>\n",
              "      <td>0</td>\n",
              "      <td>0</td>\n",
              "      <td>0</td>\n",
              "      <td>1</td>\n",
              "      <td>0</td>\n",
              "      <td>1</td>\n",
              "    </tr>\n",
              "    <tr>\n",
              "      <th>57653</th>\n",
              "      <td>Switzerland</td>\n",
              "      <td>6</td>\n",
              "      <td>1199</td>\n",
              "      <td>0</td>\n",
              "      <td>0</td>\n",
              "      <td>0</td>\n",
              "      <td>1</td>\n",
              "      <td>0</td>\n",
              "      <td>1</td>\n",
              "    </tr>\n",
              "    <tr>\n",
              "      <th>57654</th>\n",
              "      <td>Argentina</td>\n",
              "      <td>5</td>\n",
              "      <td>1241</td>\n",
              "      <td>0</td>\n",
              "      <td>0</td>\n",
              "      <td>1</td>\n",
              "      <td>0</td>\n",
              "      <td>0</td>\n",
              "      <td>1</td>\n",
              "    </tr>\n",
              "    <tr>\n",
              "      <th>57655</th>\n",
              "      <td>Portugal</td>\n",
              "      <td>4</td>\n",
              "      <td>1274</td>\n",
              "      <td>0</td>\n",
              "      <td>0</td>\n",
              "      <td>0</td>\n",
              "      <td>1</td>\n",
              "      <td>0</td>\n",
              "      <td>1</td>\n",
              "    </tr>\n",
              "    <tr>\n",
              "      <th>57656</th>\n",
              "      <td>Belgium</td>\n",
              "      <td>3</td>\n",
              "      <td>1298</td>\n",
              "      <td>0</td>\n",
              "      <td>0</td>\n",
              "      <td>0</td>\n",
              "      <td>1</td>\n",
              "      <td>0</td>\n",
              "      <td>1</td>\n",
              "    </tr>\n",
              "    <tr>\n",
              "      <th>57657</th>\n",
              "      <td>Brazil</td>\n",
              "      <td>2</td>\n",
              "      <td>1431</td>\n",
              "      <td>0</td>\n",
              "      <td>0</td>\n",
              "      <td>1</td>\n",
              "      <td>0</td>\n",
              "      <td>0</td>\n",
              "      <td>1</td>\n",
              "    </tr>\n",
              "    <tr>\n",
              "      <th>57658</th>\n",
              "      <td>Germany</td>\n",
              "      <td>1</td>\n",
              "      <td>1558</td>\n",
              "      <td>0</td>\n",
              "      <td>0</td>\n",
              "      <td>0</td>\n",
              "      <td>1</td>\n",
              "      <td>0</td>\n",
              "      <td>0</td>\n",
              "    </tr>\n",
              "    <tr>\n",
              "      <th>57659</th>\n",
              "      <td>Sweden</td>\n",
              "      <td>24</td>\n",
              "      <td>880</td>\n",
              "      <td>0</td>\n",
              "      <td>0</td>\n",
              "      <td>0</td>\n",
              "      <td>1</td>\n",
              "      <td>0</td>\n",
              "      <td>1</td>\n",
              "    </tr>\n",
              "    <tr>\n",
              "      <th>57662</th>\n",
              "      <td>Senegal</td>\n",
              "      <td>27</td>\n",
              "      <td>838</td>\n",
              "      <td>1</td>\n",
              "      <td>0</td>\n",
              "      <td>0</td>\n",
              "      <td>0</td>\n",
              "      <td>0</td>\n",
              "      <td>0</td>\n",
              "    </tr>\n",
              "    <tr>\n",
              "      <th>57665</th>\n",
              "      <td>Nigeria</td>\n",
              "      <td>48</td>\n",
              "      <td>618</td>\n",
              "      <td>1</td>\n",
              "      <td>0</td>\n",
              "      <td>0</td>\n",
              "      <td>0</td>\n",
              "      <td>0</td>\n",
              "      <td>0</td>\n",
              "    </tr>\n",
              "    <tr>\n",
              "      <th>57668</th>\n",
              "      <td>Egypt</td>\n",
              "      <td>45</td>\n",
              "      <td>649</td>\n",
              "      <td>1</td>\n",
              "      <td>0</td>\n",
              "      <td>0</td>\n",
              "      <td>0</td>\n",
              "      <td>0</td>\n",
              "      <td>0</td>\n",
              "    </tr>\n",
              "    <tr>\n",
              "      <th>57672</th>\n",
              "      <td>Morocco</td>\n",
              "      <td>41</td>\n",
              "      <td>686</td>\n",
              "      <td>1</td>\n",
              "      <td>0</td>\n",
              "      <td>0</td>\n",
              "      <td>0</td>\n",
              "      <td>0</td>\n",
              "      <td>0</td>\n",
              "    </tr>\n",
              "    <tr>\n",
              "      <th>57676</th>\n",
              "      <td>IR Iran</td>\n",
              "      <td>37</td>\n",
              "      <td>708</td>\n",
              "      <td>0</td>\n",
              "      <td>0</td>\n",
              "      <td>0</td>\n",
              "      <td>0</td>\n",
              "      <td>0</td>\n",
              "      <td>0</td>\n",
              "    </tr>\n",
              "    <tr>\n",
              "      <th>57677</th>\n",
              "      <td>Australia</td>\n",
              "      <td>36</td>\n",
              "      <td>718</td>\n",
              "      <td>0</td>\n",
              "      <td>0</td>\n",
              "      <td>0</td>\n",
              "      <td>0</td>\n",
              "      <td>0</td>\n",
              "      <td>0</td>\n",
              "    </tr>\n",
              "    <tr>\n",
              "      <th>57679</th>\n",
              "      <td>Serbia</td>\n",
              "      <td>34</td>\n",
              "      <td>751</td>\n",
              "      <td>0</td>\n",
              "      <td>0</td>\n",
              "      <td>0</td>\n",
              "      <td>1</td>\n",
              "      <td>0</td>\n",
              "      <td>0</td>\n",
              "    </tr>\n",
              "  </tbody>\n",
              "</table>\n",
              "</div>\n",
              "      <button class=\"colab-df-convert\" onclick=\"convertToInteractive('df-a94aac62-2dcf-48cc-a666-d44820657b79')\"\n",
              "              title=\"Convert this dataframe to an interactive table.\"\n",
              "              style=\"display:none;\">\n",
              "        \n",
              "  <svg xmlns=\"http://www.w3.org/2000/svg\" height=\"24px\"viewBox=\"0 0 24 24\"\n",
              "       width=\"24px\">\n",
              "    <path d=\"M0 0h24v24H0V0z\" fill=\"none\"/>\n",
              "    <path d=\"M18.56 5.44l.94 2.06.94-2.06 2.06-.94-2.06-.94-.94-2.06-.94 2.06-2.06.94zm-11 1L8.5 8.5l.94-2.06 2.06-.94-2.06-.94L8.5 2.5l-.94 2.06-2.06.94zm10 10l.94 2.06.94-2.06 2.06-.94-2.06-.94-.94-2.06-.94 2.06-2.06.94z\"/><path d=\"M17.41 7.96l-1.37-1.37c-.4-.4-.92-.59-1.43-.59-.52 0-1.04.2-1.43.59L10.3 9.45l-7.72 7.72c-.78.78-.78 2.05 0 2.83L4 21.41c.39.39.9.59 1.41.59.51 0 1.02-.2 1.41-.59l7.78-7.78 2.81-2.81c.8-.78.8-2.07 0-2.86zM5.41 20L4 18.59l7.72-7.72 1.47 1.35L5.41 20z\"/>\n",
              "  </svg>\n",
              "      </button>\n",
              "      \n",
              "  <style>\n",
              "    .colab-df-container {\n",
              "      display:flex;\n",
              "      flex-wrap:wrap;\n",
              "      gap: 12px;\n",
              "    }\n",
              "\n",
              "    .colab-df-convert {\n",
              "      background-color: #E8F0FE;\n",
              "      border: none;\n",
              "      border-radius: 50%;\n",
              "      cursor: pointer;\n",
              "      display: none;\n",
              "      fill: #1967D2;\n",
              "      height: 32px;\n",
              "      padding: 0 0 0 0;\n",
              "      width: 32px;\n",
              "    }\n",
              "\n",
              "    .colab-df-convert:hover {\n",
              "      background-color: #E2EBFA;\n",
              "      box-shadow: 0px 1px 2px rgba(60, 64, 67, 0.3), 0px 1px 3px 1px rgba(60, 64, 67, 0.15);\n",
              "      fill: #174EA6;\n",
              "    }\n",
              "\n",
              "    [theme=dark] .colab-df-convert {\n",
              "      background-color: #3B4455;\n",
              "      fill: #D2E3FC;\n",
              "    }\n",
              "\n",
              "    [theme=dark] .colab-df-convert:hover {\n",
              "      background-color: #434B5C;\n",
              "      box-shadow: 0px 1px 3px 1px rgba(0, 0, 0, 0.15);\n",
              "      filter: drop-shadow(0px 1px 2px rgba(0, 0, 0, 0.3));\n",
              "      fill: #FFFFFF;\n",
              "    }\n",
              "  </style>\n",
              "\n",
              "      <script>\n",
              "        const buttonEl =\n",
              "          document.querySelector('#df-a94aac62-2dcf-48cc-a666-d44820657b79 button.colab-df-convert');\n",
              "        buttonEl.style.display =\n",
              "          google.colab.kernel.accessAllowed ? 'block' : 'none';\n",
              "\n",
              "        async function convertToInteractive(key) {\n",
              "          const element = document.querySelector('#df-a94aac62-2dcf-48cc-a666-d44820657b79');\n",
              "          const dataTable =\n",
              "            await google.colab.kernel.invokeFunction('convertToInteractive',\n",
              "                                                     [key], {});\n",
              "          if (!dataTable) return;\n",
              "\n",
              "          const docLinkHtml = 'Like what you see? Visit the ' +\n",
              "            '<a target=\"_blank\" href=https://colab.research.google.com/notebooks/data_table.ipynb>data table notebook</a>'\n",
              "            + ' to learn more about interactive tables.';\n",
              "          element.innerHTML = '';\n",
              "          dataTable['output_type'] = 'display_data';\n",
              "          await google.colab.output.renderOutput(dataTable, element);\n",
              "          const docLink = document.createElement('div');\n",
              "          docLink.innerHTML = docLinkHtml;\n",
              "          element.appendChild(docLink);\n",
              "        }\n",
              "      </script>\n",
              "    </div>\n",
              "  </div>\n",
              "  "
            ]
          },
          "metadata": {},
          "execution_count": 26
        }
      ]
    },
    {
      "cell_type": "code",
      "source": [
        "# run here"
      ],
      "metadata": {
        "id": "3iJiTyeigkZe"
      },
      "execution_count": null,
      "outputs": []
    },
    {
      "cell_type": "code",
      "source": [
        "X_18upper = data_18[data_18['country_full'].isin(['Russia','Saudi Arabia','Egypt','Uruguay','Morocco','IR Iran','Portugal','Spain',\n",
        "                                                  'France','Australia','Peru','Denmark','Argentina','Iceland','Croatia','Nigeria'])]\n",
        "X_test_upper = X_18upper[feature_cols]\n",
        "#y_test_upper = ['1', '0', '0', '1']\n",
        "y_pred_upper = clf.predict(X_test_upper)\n",
        "y_pred_upper"
      ],
      "metadata": {
        "colab": {
          "base_uri": "https://localhost:8080/"
        },
        "id": "idLTtqLac4gL",
        "outputId": "e3aa1db1-ae32-43a3-e50c-3ed0fe86748c"
      },
      "execution_count": null,
      "outputs": [
        {
          "output_type": "execute_result",
          "data": {
            "text/plain": [
              "array(['1', '0', '1', '1', '1', '1', '0', '0', '1', '0', '0', '1', '1',\n",
              "       '0', '0', '0'], dtype=object)"
            ]
          },
          "metadata": {},
          "execution_count": 118
        }
      ]
    },
    {
      "cell_type": "code",
      "source": [
        "X_18upper"
      ],
      "metadata": {
        "colab": {
          "base_uri": "https://localhost:8080/",
          "height": 551
        },
        "id": "zRAG8K1iT_gA",
        "outputId": "e0d19cc9-e09e-4612-cdd5-9eb4d7106f07"
      },
      "execution_count": null,
      "outputs": [
        {
          "output_type": "execute_result",
          "data": {
            "text/plain": [
              "       country_full  rank  total_points  cfdr_CAF  cfdr_CONCACAF  \\\n",
              "57585        Russia    70           457         0              0   \n",
              "57593  Saudi Arabia    67           465         0              0   \n",
              "57637       Iceland    22           908         0              0   \n",
              "57639       Croatia    20           945         0              0   \n",
              "57645       Uruguay    14          1018         0              0   \n",
              "57647       Denmark    12          1051         0              0   \n",
              "57648          Peru    11          1125         0              0   \n",
              "57649         Spain    10          1126         0              0   \n",
              "57652        France     7          1198         0              0   \n",
              "57654     Argentina     5          1241         0              0   \n",
              "57655      Portugal     4          1274         0              0   \n",
              "57665       Nigeria    48           618         1              0   \n",
              "57668         Egypt    45           649         1              0   \n",
              "57672       Morocco    41           686         1              0   \n",
              "57676       IR Iran    37           708         0              0   \n",
              "57677     Australia    36           718         0              0   \n",
              "\n",
              "       cfdr_CONMEBOL  cfdr_UEFA host group_result  \n",
              "57585              0          1    1            1  \n",
              "57593              0          0    0            0  \n",
              "57637              0          1    0            0  \n",
              "57639              0          1    0            1  \n",
              "57645              1          0    0            1  \n",
              "57647              0          1    0            1  \n",
              "57648              1          0    0            0  \n",
              "57649              0          1    0            1  \n",
              "57652              0          1    0            1  \n",
              "57654              1          0    0            1  \n",
              "57655              0          1    0            1  \n",
              "57665              0          0    0            0  \n",
              "57668              0          0    0            0  \n",
              "57672              0          0    0            0  \n",
              "57676              0          0    0            0  \n",
              "57677              0          0    0            0  "
            ],
            "text/html": [
              "\n",
              "  <div id=\"df-13a5a15b-a28f-4f3b-9ea1-3973c2ac9257\">\n",
              "    <div class=\"colab-df-container\">\n",
              "      <div>\n",
              "<style scoped>\n",
              "    .dataframe tbody tr th:only-of-type {\n",
              "        vertical-align: middle;\n",
              "    }\n",
              "\n",
              "    .dataframe tbody tr th {\n",
              "        vertical-align: top;\n",
              "    }\n",
              "\n",
              "    .dataframe thead th {\n",
              "        text-align: right;\n",
              "    }\n",
              "</style>\n",
              "<table border=\"1\" class=\"dataframe\">\n",
              "  <thead>\n",
              "    <tr style=\"text-align: right;\">\n",
              "      <th></th>\n",
              "      <th>country_full</th>\n",
              "      <th>rank</th>\n",
              "      <th>total_points</th>\n",
              "      <th>cfdr_CAF</th>\n",
              "      <th>cfdr_CONCACAF</th>\n",
              "      <th>cfdr_CONMEBOL</th>\n",
              "      <th>cfdr_UEFA</th>\n",
              "      <th>host</th>\n",
              "      <th>group_result</th>\n",
              "    </tr>\n",
              "  </thead>\n",
              "  <tbody>\n",
              "    <tr>\n",
              "      <th>57585</th>\n",
              "      <td>Russia</td>\n",
              "      <td>70</td>\n",
              "      <td>457</td>\n",
              "      <td>0</td>\n",
              "      <td>0</td>\n",
              "      <td>0</td>\n",
              "      <td>1</td>\n",
              "      <td>1</td>\n",
              "      <td>1</td>\n",
              "    </tr>\n",
              "    <tr>\n",
              "      <th>57593</th>\n",
              "      <td>Saudi Arabia</td>\n",
              "      <td>67</td>\n",
              "      <td>465</td>\n",
              "      <td>0</td>\n",
              "      <td>0</td>\n",
              "      <td>0</td>\n",
              "      <td>0</td>\n",
              "      <td>0</td>\n",
              "      <td>0</td>\n",
              "    </tr>\n",
              "    <tr>\n",
              "      <th>57637</th>\n",
              "      <td>Iceland</td>\n",
              "      <td>22</td>\n",
              "      <td>908</td>\n",
              "      <td>0</td>\n",
              "      <td>0</td>\n",
              "      <td>0</td>\n",
              "      <td>1</td>\n",
              "      <td>0</td>\n",
              "      <td>0</td>\n",
              "    </tr>\n",
              "    <tr>\n",
              "      <th>57639</th>\n",
              "      <td>Croatia</td>\n",
              "      <td>20</td>\n",
              "      <td>945</td>\n",
              "      <td>0</td>\n",
              "      <td>0</td>\n",
              "      <td>0</td>\n",
              "      <td>1</td>\n",
              "      <td>0</td>\n",
              "      <td>1</td>\n",
              "    </tr>\n",
              "    <tr>\n",
              "      <th>57645</th>\n",
              "      <td>Uruguay</td>\n",
              "      <td>14</td>\n",
              "      <td>1018</td>\n",
              "      <td>0</td>\n",
              "      <td>0</td>\n",
              "      <td>1</td>\n",
              "      <td>0</td>\n",
              "      <td>0</td>\n",
              "      <td>1</td>\n",
              "    </tr>\n",
              "    <tr>\n",
              "      <th>57647</th>\n",
              "      <td>Denmark</td>\n",
              "      <td>12</td>\n",
              "      <td>1051</td>\n",
              "      <td>0</td>\n",
              "      <td>0</td>\n",
              "      <td>0</td>\n",
              "      <td>1</td>\n",
              "      <td>0</td>\n",
              "      <td>1</td>\n",
              "    </tr>\n",
              "    <tr>\n",
              "      <th>57648</th>\n",
              "      <td>Peru</td>\n",
              "      <td>11</td>\n",
              "      <td>1125</td>\n",
              "      <td>0</td>\n",
              "      <td>0</td>\n",
              "      <td>1</td>\n",
              "      <td>0</td>\n",
              "      <td>0</td>\n",
              "      <td>0</td>\n",
              "    </tr>\n",
              "    <tr>\n",
              "      <th>57649</th>\n",
              "      <td>Spain</td>\n",
              "      <td>10</td>\n",
              "      <td>1126</td>\n",
              "      <td>0</td>\n",
              "      <td>0</td>\n",
              "      <td>0</td>\n",
              "      <td>1</td>\n",
              "      <td>0</td>\n",
              "      <td>1</td>\n",
              "    </tr>\n",
              "    <tr>\n",
              "      <th>57652</th>\n",
              "      <td>France</td>\n",
              "      <td>7</td>\n",
              "      <td>1198</td>\n",
              "      <td>0</td>\n",
              "      <td>0</td>\n",
              "      <td>0</td>\n",
              "      <td>1</td>\n",
              "      <td>0</td>\n",
              "      <td>1</td>\n",
              "    </tr>\n",
              "    <tr>\n",
              "      <th>57654</th>\n",
              "      <td>Argentina</td>\n",
              "      <td>5</td>\n",
              "      <td>1241</td>\n",
              "      <td>0</td>\n",
              "      <td>0</td>\n",
              "      <td>1</td>\n",
              "      <td>0</td>\n",
              "      <td>0</td>\n",
              "      <td>1</td>\n",
              "    </tr>\n",
              "    <tr>\n",
              "      <th>57655</th>\n",
              "      <td>Portugal</td>\n",
              "      <td>4</td>\n",
              "      <td>1274</td>\n",
              "      <td>0</td>\n",
              "      <td>0</td>\n",
              "      <td>0</td>\n",
              "      <td>1</td>\n",
              "      <td>0</td>\n",
              "      <td>1</td>\n",
              "    </tr>\n",
              "    <tr>\n",
              "      <th>57665</th>\n",
              "      <td>Nigeria</td>\n",
              "      <td>48</td>\n",
              "      <td>618</td>\n",
              "      <td>1</td>\n",
              "      <td>0</td>\n",
              "      <td>0</td>\n",
              "      <td>0</td>\n",
              "      <td>0</td>\n",
              "      <td>0</td>\n",
              "    </tr>\n",
              "    <tr>\n",
              "      <th>57668</th>\n",
              "      <td>Egypt</td>\n",
              "      <td>45</td>\n",
              "      <td>649</td>\n",
              "      <td>1</td>\n",
              "      <td>0</td>\n",
              "      <td>0</td>\n",
              "      <td>0</td>\n",
              "      <td>0</td>\n",
              "      <td>0</td>\n",
              "    </tr>\n",
              "    <tr>\n",
              "      <th>57672</th>\n",
              "      <td>Morocco</td>\n",
              "      <td>41</td>\n",
              "      <td>686</td>\n",
              "      <td>1</td>\n",
              "      <td>0</td>\n",
              "      <td>0</td>\n",
              "      <td>0</td>\n",
              "      <td>0</td>\n",
              "      <td>0</td>\n",
              "    </tr>\n",
              "    <tr>\n",
              "      <th>57676</th>\n",
              "      <td>IR Iran</td>\n",
              "      <td>37</td>\n",
              "      <td>708</td>\n",
              "      <td>0</td>\n",
              "      <td>0</td>\n",
              "      <td>0</td>\n",
              "      <td>0</td>\n",
              "      <td>0</td>\n",
              "      <td>0</td>\n",
              "    </tr>\n",
              "    <tr>\n",
              "      <th>57677</th>\n",
              "      <td>Australia</td>\n",
              "      <td>36</td>\n",
              "      <td>718</td>\n",
              "      <td>0</td>\n",
              "      <td>0</td>\n",
              "      <td>0</td>\n",
              "      <td>0</td>\n",
              "      <td>0</td>\n",
              "      <td>0</td>\n",
              "    </tr>\n",
              "  </tbody>\n",
              "</table>\n",
              "</div>\n",
              "      <button class=\"colab-df-convert\" onclick=\"convertToInteractive('df-13a5a15b-a28f-4f3b-9ea1-3973c2ac9257')\"\n",
              "              title=\"Convert this dataframe to an interactive table.\"\n",
              "              style=\"display:none;\">\n",
              "        \n",
              "  <svg xmlns=\"http://www.w3.org/2000/svg\" height=\"24px\"viewBox=\"0 0 24 24\"\n",
              "       width=\"24px\">\n",
              "    <path d=\"M0 0h24v24H0V0z\" fill=\"none\"/>\n",
              "    <path d=\"M18.56 5.44l.94 2.06.94-2.06 2.06-.94-2.06-.94-.94-2.06-.94 2.06-2.06.94zm-11 1L8.5 8.5l.94-2.06 2.06-.94-2.06-.94L8.5 2.5l-.94 2.06-2.06.94zm10 10l.94 2.06.94-2.06 2.06-.94-2.06-.94-.94-2.06-.94 2.06-2.06.94z\"/><path d=\"M17.41 7.96l-1.37-1.37c-.4-.4-.92-.59-1.43-.59-.52 0-1.04.2-1.43.59L10.3 9.45l-7.72 7.72c-.78.78-.78 2.05 0 2.83L4 21.41c.39.39.9.59 1.41.59.51 0 1.02-.2 1.41-.59l7.78-7.78 2.81-2.81c.8-.78.8-2.07 0-2.86zM5.41 20L4 18.59l7.72-7.72 1.47 1.35L5.41 20z\"/>\n",
              "  </svg>\n",
              "      </button>\n",
              "      \n",
              "  <style>\n",
              "    .colab-df-container {\n",
              "      display:flex;\n",
              "      flex-wrap:wrap;\n",
              "      gap: 12px;\n",
              "    }\n",
              "\n",
              "    .colab-df-convert {\n",
              "      background-color: #E8F0FE;\n",
              "      border: none;\n",
              "      border-radius: 50%;\n",
              "      cursor: pointer;\n",
              "      display: none;\n",
              "      fill: #1967D2;\n",
              "      height: 32px;\n",
              "      padding: 0 0 0 0;\n",
              "      width: 32px;\n",
              "    }\n",
              "\n",
              "    .colab-df-convert:hover {\n",
              "      background-color: #E2EBFA;\n",
              "      box-shadow: 0px 1px 2px rgba(60, 64, 67, 0.3), 0px 1px 3px 1px rgba(60, 64, 67, 0.15);\n",
              "      fill: #174EA6;\n",
              "    }\n",
              "\n",
              "    [theme=dark] .colab-df-convert {\n",
              "      background-color: #3B4455;\n",
              "      fill: #D2E3FC;\n",
              "    }\n",
              "\n",
              "    [theme=dark] .colab-df-convert:hover {\n",
              "      background-color: #434B5C;\n",
              "      box-shadow: 0px 1px 3px 1px rgba(0, 0, 0, 0.15);\n",
              "      filter: drop-shadow(0px 1px 2px rgba(0, 0, 0, 0.3));\n",
              "      fill: #FFFFFF;\n",
              "    }\n",
              "  </style>\n",
              "\n",
              "      <script>\n",
              "        const buttonEl =\n",
              "          document.querySelector('#df-13a5a15b-a28f-4f3b-9ea1-3973c2ac9257 button.colab-df-convert');\n",
              "        buttonEl.style.display =\n",
              "          google.colab.kernel.accessAllowed ? 'block' : 'none';\n",
              "\n",
              "        async function convertToInteractive(key) {\n",
              "          const element = document.querySelector('#df-13a5a15b-a28f-4f3b-9ea1-3973c2ac9257');\n",
              "          const dataTable =\n",
              "            await google.colab.kernel.invokeFunction('convertToInteractive',\n",
              "                                                     [key], {});\n",
              "          if (!dataTable) return;\n",
              "\n",
              "          const docLinkHtml = 'Like what you see? Visit the ' +\n",
              "            '<a target=\"_blank\" href=https://colab.research.google.com/notebooks/data_table.ipynb>data table notebook</a>'\n",
              "            + ' to learn more about interactive tables.';\n",
              "          element.innerHTML = '';\n",
              "          dataTable['output_type'] = 'display_data';\n",
              "          await google.colab.output.renderOutput(dataTable, element);\n",
              "          const docLink = document.createElement('div');\n",
              "          docLink.innerHTML = docLinkHtml;\n",
              "          element.appendChild(docLink);\n",
              "        }\n",
              "      </script>\n",
              "    </div>\n",
              "  </div>\n",
              "  "
            ]
          },
          "metadata": {},
          "execution_count": 147
        }
      ]
    },
    {
      "cell_type": "code",
      "source": [
        "X_18q1 = data_18[data_18['country_full'].isin(['Russia','Saudi Arabia','Egypt','Uruguay','Morocco','IR Iran','Portugal','Spain'])]\n",
        "X_test_q1 = X_18q1[feature_cols]\n",
        "#y_test_upper = ['1', '0', '0', '1']\n",
        "y_pred_q1 = clf.predict(X_test_q1)\n",
        "y_pred_q1"
      ],
      "metadata": {
        "colab": {
          "base_uri": "https://localhost:8080/"
        },
        "id": "zbu5AMK_ehGr",
        "outputId": "c8ba2d40-45e0-4712-a1bf-545d3a28d1e3"
      },
      "execution_count": null,
      "outputs": [
        {
          "output_type": "execute_result",
          "data": {
            "text/plain": [
              "array(['1', '0', '1', '0', '0', '1', '0', '0'], dtype=object)"
            ]
          },
          "metadata": {},
          "execution_count": 172
        }
      ]
    },
    {
      "cell_type": "code",
      "source": [
        "\n",
        "X_18a = data_18[data_18['country_full'].isin(['Russia','Saudi Arabia','Egypt','Uruguay'])]\n",
        "X_test_a = X_18a[feature_cols]\n",
        "y_test_a = ['1', '0', '0', '1']\n",
        "y_pred_a = clf.predict(X_test_a)\n",
        "y_pred_a"
      ],
      "metadata": {
        "colab": {
          "base_uri": "https://localhost:8080/"
        },
        "id": "LgI6STcGVh0x",
        "outputId": "73997980-b6f3-4df5-b820-d3bbf372f178"
      },
      "execution_count": null,
      "outputs": [
        {
          "output_type": "execute_result",
          "data": {
            "text/plain": [
              "array(['1', '0', '1', '1'], dtype=object)"
            ]
          },
          "metadata": {},
          "execution_count": 115
        }
      ]
    },
    {
      "cell_type": "code",
      "source": [
        "X_18b = data_18[data_18['country_full'].isin(['Morocco','IR Iran','Portugal','Spain'])]\n",
        "X_test_b = X_18b[feature_cols]\n",
        "y_test_b = ['0', '0', '1', '1']\n",
        "y_pred_b = clf.predict(X_test_b)\n",
        "y_pred_b"
      ],
      "metadata": {
        "colab": {
          "base_uri": "https://localhost:8080/"
        },
        "id": "6XNZBgktaJy-",
        "outputId": "0303ff1f-9fd3-4b16-f7fc-00a88374a748"
      },
      "execution_count": null,
      "outputs": [
        {
          "output_type": "execute_result",
          "data": {
            "text/plain": [
              "array(['0', '0', '0', '0'], dtype=object)"
            ]
          },
          "metadata": {},
          "execution_count": 116
        }
      ]
    },
    {
      "cell_type": "code",
      "source": [
        "X_18c = data_18[data_18['country_full'].isin(['France','Australia','Peru','Denmark'])]\n",
        "X_test_c = X_18c[feature_cols]\n",
        "y_test_c = ['1', '0', '0', '1']\n",
        "y_pred_c = clf.predict(X_test_c)\n",
        "y_pred_c"
      ],
      "metadata": {
        "colab": {
          "base_uri": "https://localhost:8080/"
        },
        "id": "SawmgukMbFjB",
        "outputId": "0b45b173-b679-4168-f1f8-4f583c167578"
      },
      "execution_count": null,
      "outputs": [
        {
          "output_type": "execute_result",
          "data": {
            "text/plain": [
              "array(['1', '0', '1', '0'], dtype=object)"
            ]
          },
          "metadata": {},
          "execution_count": 88
        }
      ]
    },
    {
      "cell_type": "code",
      "source": [
        "X_18d = data_18[data_18['country_full'].isin(['Argentina','Iceland','Croatia','Nigeria'])]\n",
        "X_test_d = X_18d[feature_cols]\n",
        "y_test_d = ['1', '0', '1', '0']\n",
        "y_pred_d = clf.predict(X_test_d)\n",
        "y_pred_d"
      ],
      "metadata": {
        "colab": {
          "base_uri": "https://localhost:8080/"
        },
        "id": "6M548gSJb9iT",
        "outputId": "7165cfe0-c1eb-455a-8f7a-d62d64ac273c"
      },
      "execution_count": null,
      "outputs": [
        {
          "output_type": "execute_result",
          "data": {
            "text/plain": [
              "array(['1', '1', '0', '1'], dtype=object)"
            ]
          },
          "metadata": {},
          "execution_count": 117
        }
      ]
    },
    {
      "cell_type": "code",
      "source": [
        "from sklearn.metrics import classification_report\n",
        "target_names = ['knocked out', 'win from group']\n",
        "print(classification_report(y_test, y_pred, target_names=target_names))"
      ],
      "metadata": {
        "colab": {
          "base_uri": "https://localhost:8080/"
        },
        "id": "Z3EC4hBWZ9Gr",
        "outputId": "16191046-ac2e-46f0-9440-2bebe146f471"
      },
      "execution_count": null,
      "outputs": [
        {
          "output_type": "stream",
          "name": "stdout",
          "text": [
            "                precision    recall  f1-score   support\n",
            "\n",
            "   knocked out       0.69      0.69      0.69        16\n",
            "win from group       0.69      0.69      0.69        16\n",
            "\n",
            "      accuracy                           0.69        32\n",
            "     macro avg       0.69      0.69      0.69        32\n",
            "  weighted avg       0.69      0.69      0.69        32\n",
            "\n"
          ]
        }
      ]
    },
    {
      "cell_type": "code",
      "source": [
        "# import required modules\n",
        "from sklearn.linear_model import LogisticRegression\n",
        "import matplotlib.pyplot as plt\n",
        "\n",
        "# set the model\n",
        "logreg = LogisticRegression(random_state=16)\n",
        "# fit the model with data\n",
        "logreg.fit(X_train, y_train)\n",
        "y_pred = logreg.predict(X_test)\n",
        "# convert y ture to numeric\n",
        "y_test = y_test.astype(str).astype(int)\n",
        "\n",
        "# roc curve and auc score\n",
        "y_pred_proba = logreg.predict_proba(X_test)[::,1]\n",
        "fpr, tpr, _ = metrics.roc_curve(y_test,  y_pred_proba)\n",
        "auc = metrics.roc_auc_score(y_test, y_pred_proba)\n",
        "plt.plot(fpr,tpr,label=\"data 1, auc=\"+str(auc))\n",
        "plt.legend(loc=4)\n",
        "plt.show()"
      ],
      "metadata": {
        "colab": {
          "base_uri": "https://localhost:8080/",
          "height": 265
        },
        "id": "UPp3zZWbaEXa",
        "outputId": "b1797a34-cb4c-4461-bc25-ec395b8f8772"
      },
      "execution_count": null,
      "outputs": [
        {
          "output_type": "display_data",
          "data": {
            "text/plain": [
              "<Figure size 432x288 with 1 Axes>"
            ],
            "image/png": "[encoded data removed]"
          },
          "metadata": {
            "needs_background": "light"
          }
        }
      ]
    },
    {
      "cell_type": "code",
      "source": [
        "## run here "
      ],
      "metadata": {
        "id": "PHSb7kWi-kr9"
      },
      "execution_count": null,
      "outputs": []
    },
    {
      "cell_type": "code",
      "source": [
        "# import scikit-learn modules\n",
        "from sklearn.tree import DecisionTreeClassifier \n",
        "from sklearn.model_selection import train_test_split \n",
        "from sklearn import metrics\n",
        "\n",
        "# feature selection\n",
        "feature_cols = ['total_points', 'host', 'cfdr_UEFA', 'cfdr_CAF', 'cfdr_CONCACAF', 'cfdr_CONMEBOL']\n",
        "X_5 = data_5[feature_cols]\n",
        "y_5 = data_5.group_result\n",
        "\n",
        "# split dataset into training set and test set\n",
        "# X_train, X_test, y_train, y_test = train_test_split(X_5, data_18, y_5, y_18, random_state=1) \n",
        "X_train = X_5\n",
        "X_test = X_18\n",
        "y_train = y_5\n",
        "y_test = y_18\n",
        "# create Decision Tree classifer object\n",
        "clf = DecisionTreeClassifier()\n",
        "# train Decision Tree Classifer\n",
        "clf = clf.fit(X_train,y_train)\n",
        "# predict the response for test dataset\n",
        "y_pred = clf.predict(X_test)\n",
        "\n",
        "# evaluate model\n",
        "print(\"Accuracy:\",metrics.accuracy_score(y_test, y_pred))"
      ],
      "metadata": {
        "colab": {
          "base_uri": "https://localhost:8080/"
        },
        "id": "KDYKSN4ghclJ",
        "outputId": "af8ba406-dcc1-4eca-8779-8ea1b29a75de"
      },
      "execution_count": null,
      "outputs": [
        {
          "output_type": "stream",
          "name": "stdout",
          "text": [
            "Accuracy: 0.5625\n"
          ]
        }
      ]
    },
    {
      "cell_type": "code",
      "source": [
        "target_names = ['knocked out', 'win from group']\n",
        "print(classification_report(y_test, y_pred, target_names=target_names))"
      ],
      "metadata": {
        "colab": {
          "base_uri": "https://localhost:8080/"
        },
        "id": "JDisGHjzugSZ",
        "outputId": "29d6ec5e-6b91-4f79-9751-68984d69114d"
      },
      "execution_count": null,
      "outputs": [
        {
          "output_type": "stream",
          "name": "stdout",
          "text": [
            "                precision    recall  f1-score   support\n",
            "\n",
            "   knocked out       0.55      0.69      0.61        16\n",
            "win from group       0.58      0.44      0.50        16\n",
            "\n",
            "      accuracy                           0.56        32\n",
            "     macro avg       0.57      0.56      0.56        32\n",
            "  weighted avg       0.57      0.56      0.56        32\n",
            "\n"
          ]
        }
      ]
    },
    {
      "cell_type": "code",
      "source": [
        "# set the model\n",
        "logreg = LogisticRegression(random_state=16)\n",
        "# fit the model with data\n",
        "logreg.fit(X_train, y_train)\n",
        "y_pred = logreg.predict(X_test)\n",
        "# convert y ture to numeric\n",
        "y_test = y_test.astype(str).astype(int)\n",
        "\n",
        "# roc curve and auc score\n",
        "y_pred_proba = logreg.predict_proba(X_test)[::,1]\n",
        "fpr, tpr, _ = metrics.roc_curve(y_test,  y_pred_proba)\n",
        "auc = metrics.roc_auc_score(y_test, y_pred_proba)\n",
        "plt.plot(fpr,tpr,label=\"data 1, auc=\"+str(auc))\n",
        "plt.legend(loc=4)\n",
        "plt.show()"
      ],
      "metadata": {
        "colab": {
          "base_uri": "https://localhost:8080/",
          "height": 265
        },
        "id": "bdmtSDsuumBl",
        "outputId": "a1eb76a6-3cc2-4b98-f8ce-07fb8c8cd88e"
      },
      "execution_count": null,
      "outputs": [
        {
          "output_type": "display_data",
          "data": {
            "text/plain": [
              "<Figure size 432x288 with 1 Axes>"
            ],
            "image/png": "[encoded data removed]"
          },
          "metadata": {
            "needs_background": "light"
          }
        }
      ]
    },
    {
      "cell_type": "code",
      "source": [
        "# import scikit-learn modules\n",
        "from sklearn.tree import DecisionTreeClassifier \n",
        "from sklearn.model_selection import train_test_split \n",
        "from sklearn import metrics\n",
        "\n",
        "# feature selection\n",
        "feature_cols = ['rank', 'host', 'cfdr_UEFA', 'cfdr_CAF', 'cfdr_CONCACAF', 'cfdr_CONMEBOL']\n",
        "X_5 = data_5[feature_cols]\n",
        "y_5 = data_5.group_result\n",
        "\n",
        "# split dataset into training set and test set\n",
        "# X_train, X_test, y_train, y_test = train_test_split(X_5, data_18, y_5, y_18, random_state=1) \n",
        "X_train = X_5\n",
        "X_test = data_18[feature_cols]\n",
        "y_train = y_5\n",
        "y_test = y_18\n",
        "# create Decision Tree classifer object\n",
        "clf = DecisionTreeClassifier()\n",
        "# train Decision Tree Classifer\n",
        "clf = clf.fit(X_train,y_train)\n",
        "# predict the response for test dataset\n",
        "y_pred = clf.predict(X_test)\n",
        "\n",
        "# evaluate model\n",
        "print(\"Accuracy:\",metrics.accuracy_score(y_test, y_pred))"
      ],
      "metadata": {
        "colab": {
          "base_uri": "https://localhost:8080/"
        },
        "id": "F-ul5RbORr4q",
        "outputId": "a0349c13-bc93-4896-9eb7-a642d6a45848"
      },
      "execution_count": null,
      "outputs": [
        {
          "output_type": "stream",
          "name": "stdout",
          "text": [
            "Accuracy: 0.65625\n"
          ]
        }
      ]
    },
    {
      "cell_type": "code",
      "source": [
        "target_names = ['knocked out', 'win from group']\n",
        "print(classification_report(y_test, y_pred, target_names=target_names))"
      ],
      "metadata": {
        "colab": {
          "base_uri": "https://localhost:8080/"
        },
        "id": "OOlU9k6GR97l",
        "outputId": "de6bbbaa-fd98-415c-d201-d3c71b08d103"
      },
      "execution_count": null,
      "outputs": [
        {
          "output_type": "stream",
          "name": "stdout",
          "text": [
            "                precision    recall  f1-score   support\n",
            "\n",
            "   knocked out       0.67      0.62      0.65        16\n",
            "win from group       0.65      0.69      0.67        16\n",
            "\n",
            "      accuracy                           0.66        32\n",
            "     macro avg       0.66      0.66      0.66        32\n",
            "  weighted avg       0.66      0.66      0.66        32\n",
            "\n"
          ]
        }
      ]
    },
    {
      "cell_type": "code",
      "source": [
        "# set the model\n",
        "logreg = LogisticRegression(random_state=16)\n",
        "# fit the model with data\n",
        "logreg.fit(X_train, y_train)\n",
        "y_pred = logreg.predict(X_test)\n",
        "# convert y ture to numeric\n",
        "y_test = y_test.astype(str).astype(int)\n",
        "\n",
        "# roc curve and auc score\n",
        "y_pred_proba = logreg.predict_proba(X_test)[::,1]\n",
        "fpr, tpr, _ = metrics.roc_curve(y_test,  y_pred_proba)\n",
        "auc = metrics.roc_auc_score(y_test, y_pred_proba)\n",
        "plt.plot(fpr,tpr,label=\"data 1, auc=\"+str(auc))\n",
        "plt.legend(loc=4)\n",
        "plt.show()"
      ],
      "metadata": {
        "colab": {
          "base_uri": "https://localhost:8080/",
          "height": 265
        },
        "id": "juxJsckZSDcf",
        "outputId": "8e3b7fa7-d36f-4a4b-a65b-6af768d410b2"
      },
      "execution_count": null,
      "outputs": [
        {
          "output_type": "display_data",
          "data": {
            "text/plain": [
              "<Figure size 432x288 with 1 Axes>"
            ],
            "image/png": "[encoded data removed]"
          },
          "metadata": {
            "needs_background": "light"
          }
        }
      ]
    },
    {
      "cell_type": "code",
      "source": [
        "# append 02-14 data as train\n",
        "data_4 = pd.concat([data_02, data_06, data_10, data_14], ignore_index=True)\n",
        "\n",
        "# import scikit-learn modules\n",
        "from sklearn.tree import DecisionTreeClassifier \n",
        "from sklearn.model_selection import train_test_split \n",
        "from sklearn import metrics\n",
        "\n",
        "# feature selection\n",
        "feature_cols = ['total_points', 'host', 'cfdr_UEFA', 'cfdr_CAF', 'cfdr_CONCACAF', 'cfdr_CONMEBOL']\n",
        "X_4 = data_4[feature_cols]\n",
        "y_4 = data_4.group_result\n",
        "\n",
        "# split dataset into training set and test set\n",
        "# X_train, X_test, y_train, y_test = train_test_split(X_5, data_18, y_5, y_18, random_state=1) \n",
        "X_train = X_4\n",
        "X_test = X_18\n",
        "y_train = y_4\n",
        "y_test = y_18\n",
        "# create Decision Tree classifer object\n",
        "clf = DecisionTreeClassifier()\n",
        "# train Decision Tree Classifer\n",
        "clf = clf.fit(X_train,y_train)\n",
        "# predict the response for test dataset\n",
        "y_pred = clf.predict(X_test)\n",
        "\n",
        "# evaluate model\n",
        "print(\"Accuracy:\",metrics.accuracy_score(y_test, y_pred))"
      ],
      "metadata": {
        "colab": {
          "base_uri": "https://localhost:8080/"
        },
        "id": "BbdC1wz7kcDQ",
        "outputId": "fe7648cc-3189-456d-b87b-b2ec28549220"
      },
      "execution_count": null,
      "outputs": [
        {
          "output_type": "stream",
          "name": "stdout",
          "text": [
            "Accuracy: 0.5625\n"
          ]
        }
      ]
    },
    {
      "cell_type": "code",
      "source": [
        "from sklearn.metrics import classification_report\n",
        "target_names = ['knocked out', 'win from group']\n",
        "print(classification_report(y_test, y_pred, target_names=target_names))"
      ],
      "metadata": {
        "colab": {
          "base_uri": "https://localhost:8080/"
        },
        "id": "BgqCm5Icmjt5",
        "outputId": "a767cd48-4344-41ea-8a24-4c1c52b93e7f"
      },
      "execution_count": null,
      "outputs": [
        {
          "output_type": "stream",
          "name": "stdout",
          "text": [
            "                precision    recall  f1-score   support\n",
            "\n",
            "   knocked out       0.55      0.75      0.63        16\n",
            "win from group       0.60      0.38      0.46        16\n",
            "\n",
            "      accuracy                           0.56        32\n",
            "     macro avg       0.57      0.56      0.55        32\n",
            "  weighted avg       0.57      0.56      0.55        32\n",
            "\n"
          ]
        }
      ]
    },
    {
      "cell_type": "code",
      "source": [
        "# import required modules\n",
        "from sklearn.linear_model import LogisticRegression\n",
        "import matplotlib.pyplot as plt\n",
        "\n",
        "# set the model\n",
        "logreg = LogisticRegression(random_state=16)\n",
        "# fit the model with data\n",
        "logreg.fit(X_train, y_train)\n",
        "y_pred = logreg.predict(X_test)\n",
        "# convert y ture to numeric\n",
        "y_test = y_test.astype(str).astype(int)\n",
        "\n",
        "# roc curve and auc score\n",
        "y_pred_proba = logreg.predict_proba(X_test)[::,1]\n",
        "fpr, tpr, _ = metrics.roc_curve(y_test,  y_pred_proba)\n",
        "auc = metrics.roc_auc_score(y_test, y_pred_proba)\n",
        "plt.plot(fpr,tpr,label=\"data 1, auc=\"+str(auc))\n",
        "plt.legend(loc=4)\n",
        "plt.show()"
      ],
      "metadata": {
        "colab": {
          "base_uri": "https://localhost:8080/",
          "height": 265
        },
        "id": "ItzJMGvjmx5t",
        "outputId": "81ea1f59-dd08-456b-82ac-e0de7369ff45"
      },
      "execution_count": null,
      "outputs": [
        {
          "output_type": "display_data",
          "data": {
            "text/plain": [
              "<Figure size 432x288 with 1 Axes>"
            ],
            "image/png": "[encoded data removed]"
          },
          "metadata": {
            "needs_background": "light"
          }
        }
      ]
    },
    {
      "cell_type": "code",
      "source": [
        "# feature selection\n",
        "feature_cols = ['rank', 'host', 'cfdr_UEFA', 'cfdr_CAF', 'cfdr_CONCACAF', 'cfdr_CONMEBOL']\n",
        "X_4 = data_4[feature_cols]\n",
        "y_4 = data_4.group_result\n",
        "\n",
        "# split dataset into training set and test set\n",
        "# X_train, X_test, y_train, y_test = train_test_split(X_4, data_18, y_4, y_18, random_state=1) \n",
        "X_train = X_4\n",
        "X_test = data_18[feature_cols]\n",
        "y_train = y_4\n",
        "y_test = y_18\n",
        "# create Decision Tree classifer object\n",
        "clf = DecisionTreeClassifier()\n",
        "# train Decision Tree Classifer\n",
        "clf = clf.fit(X_train,y_train)\n",
        "# predict the response for test dataset\n",
        "y_pred = clf.predict(X_test)\n",
        "\n",
        "# evaluate model\n",
        "print(\"Accuracy:\",metrics.accuracy_score(y_test, y_pred))"
      ],
      "metadata": {
        "colab": {
          "base_uri": "https://localhost:8080/"
        },
        "id": "VxoEG7bBrOkj",
        "outputId": "d6d2e1a9-a6ee-426b-885d-bb686e01cb46"
      },
      "execution_count": null,
      "outputs": [
        {
          "output_type": "stream",
          "name": "stdout",
          "text": [
            "Accuracy: 0.59375\n"
          ]
        }
      ]
    },
    {
      "cell_type": "code",
      "source": [
        "target_names = ['knocked out', 'win from group']\n",
        "print(classification_report(y_test, y_pred, target_names=target_names))"
      ],
      "metadata": {
        "colab": {
          "base_uri": "https://localhost:8080/"
        },
        "id": "eHtMjmvD-ePF",
        "outputId": "615cbd2c-4408-4443-86d9-d92b53138d6c"
      },
      "execution_count": null,
      "outputs": [
        {
          "output_type": "stream",
          "name": "stdout",
          "text": [
            "                precision    recall  f1-score   support\n",
            "\n",
            "   knocked out       0.60      0.56      0.58        16\n",
            "win from group       0.59      0.62      0.61        16\n",
            "\n",
            "      accuracy                           0.59        32\n",
            "     macro avg       0.59      0.59      0.59        32\n",
            "  weighted avg       0.59      0.59      0.59        32\n",
            "\n"
          ]
        }
      ]
    },
    {
      "cell_type": "code",
      "source": [
        "# set the model\n",
        "logreg = LogisticRegression(random_state=16)\n",
        "# fit the model with data\n",
        "logreg.fit(X_train, y_train)\n",
        "y_pred = logreg.predict(X_test)\n",
        "# convert y ture to numeric\n",
        "y_test = y_test.astype(str).astype(int)\n",
        "\n",
        "# roc curve and auc score\n",
        "y_pred_proba = logreg.predict_proba(X_test)[::,1]\n",
        "fpr, tpr, _ = metrics.roc_curve(y_test,  y_pred_proba)\n",
        "auc = metrics.roc_auc_score(y_test, y_pred_proba)\n",
        "plt.plot(fpr,tpr,label=\"data 1, auc=\"+str(auc))\n",
        "plt.legend(loc=4)\n",
        "plt.show()"
      ],
      "metadata": {
        "colab": {
          "base_uri": "https://localhost:8080/",
          "height": 265
        },
        "id": "G0O3LcFt-h06",
        "outputId": "cc9ab870-8d4b-4553-a384-ffe920f2444e"
      },
      "execution_count": null,
      "outputs": [
        {
          "output_type": "display_data",
          "data": {
            "text/plain": [
              "<Figure size 432x288 with 1 Axes>"
            ],
            "image/png": "[encoded data removed]"
          },
          "metadata": {
            "needs_background": "light"
          }
        }
      ]
    },
    {
      "cell_type": "code",
      "source": [
        "# append 02-14 data as train\n",
        "data_3 = pd.concat([data_06, data_10, data_14], ignore_index=True)\n",
        "\n",
        "# import scikit-learn modules\n",
        "from sklearn.tree import DecisionTreeClassifier \n",
        "from sklearn.model_selection import train_test_split \n",
        "from sklearn import metrics\n",
        "\n",
        "# feature selection\n",
        "feature_cols = ['total_points', 'host', 'cfdr_UEFA', 'cfdr_CAF', 'cfdr_CONCACAF', 'cfdr_CONMEBOL']\n",
        "X_3 = data_3[feature_cols]\n",
        "y_3 = data_3.group_result\n",
        "\n",
        "# split dataset into training set and test set\n",
        "# X_train, X_test, y_train, y_test = train_test_split(X_5, data_18, y_5, y_18, random_state=1) \n",
        "X_train = X_3\n",
        "X_test = X_18\n",
        "y_train = y_3\n",
        "y_test = y_18\n",
        "# create Decision Tree classifer object\n",
        "clf = DecisionTreeClassifier()\n",
        "# train Decision Tree Classifer\n",
        "clf = clf.fit(X_train,y_train)\n",
        "# predict the response for test dataset\n",
        "y_pred = clf.predict(X_test)\n",
        "\n",
        "# evaluate model\n",
        "print(\"Accuracy:\",metrics.accuracy_score(y_test, y_pred))"
      ],
      "metadata": {
        "colab": {
          "base_uri": "https://localhost:8080/"
        },
        "id": "3JUyT1qmDHsN",
        "outputId": "59370e6a-de99-46f3-da17-42e3491f984b"
      },
      "execution_count": null,
      "outputs": [
        {
          "output_type": "stream",
          "name": "stdout",
          "text": [
            "Accuracy: 0.5625\n"
          ]
        }
      ]
    },
    {
      "cell_type": "code",
      "source": [
        "from sklearn.metrics import classification_report\n",
        "target_names = ['knocked out', 'win from group']\n",
        "print(classification_report(y_test, y_pred, target_names=target_names))"
      ],
      "metadata": {
        "colab": {
          "base_uri": "https://localhost:8080/"
        },
        "id": "5mOc0vS7G_XU",
        "outputId": "e38c4f77-9f00-4937-aa00-66e6e6043b7d"
      },
      "execution_count": null,
      "outputs": [
        {
          "output_type": "stream",
          "name": "stdout",
          "text": [
            "                precision    recall  f1-score   support\n",
            "\n",
            "   knocked out       0.55      0.69      0.61        16\n",
            "win from group       0.58      0.44      0.50        16\n",
            "\n",
            "      accuracy                           0.56        32\n",
            "     macro avg       0.57      0.56      0.56        32\n",
            "  weighted avg       0.57      0.56      0.56        32\n",
            "\n"
          ]
        }
      ]
    },
    {
      "cell_type": "code",
      "source": [
        "# import required modules\n",
        "from sklearn.linear_model import LogisticRegression\n",
        "import matplotlib.pyplot as plt\n",
        "\n",
        "# set the model\n",
        "logreg = LogisticRegression(random_state=16)\n",
        "# fit the model with data\n",
        "logreg.fit(X_train, y_train)\n",
        "y_pred = logreg.predict(X_test)\n",
        "# convert y ture to numeric\n",
        "y_test = y_test.astype(str).astype(int)\n",
        "\n",
        "# roc curve and auc score\n",
        "y_pred_proba = logreg.predict_proba(X_test)[::,1]\n",
        "fpr, tpr, _ = metrics.roc_curve(y_test,  y_pred_proba)\n",
        "auc = metrics.roc_auc_score(y_test, y_pred_proba)\n",
        "plt.plot(fpr,tpr,label=\"data 1, auc=\"+str(auc))\n",
        "plt.legend(loc=4)\n",
        "plt.show()"
      ],
      "metadata": {
        "colab": {
          "base_uri": "https://localhost:8080/",
          "height": 265
        },
        "id": "30OmIHNjHH8A",
        "outputId": "92c096cf-a8bf-4dd3-f745-e775d6a31a9f"
      },
      "execution_count": null,
      "outputs": [
        {
          "output_type": "display_data",
          "data": {
            "text/plain": [
              "<Figure size 432x288 with 1 Axes>"
            ],
            "image/png": "[encoded data removed]"
          },
          "metadata": {
            "needs_background": "light"
          }
        }
      ]
    },
    {
      "cell_type": "code",
      "source": [
        "# calculate a complete prediction for group A\n",
        "# use the fifa official expected winner function and update ratings per game after\n",
        "\n",
        "P_a1 = int(ratings_1806['total_points'][ratings_1806['country_full'] == 'Russia'])\n",
        "P_a2 = int(ratings_1806['total_points'][ratings_1806['country_full'] == 'Saudi Arabia'])\n",
        "diff_a1a2 = P_a1 - P_a2\n",
        "Pr_a1a2 = 1 / (10**(-diff_a1a2/600) + 1)\n",
        "Pr_a1a2"
      ],
      "metadata": {
        "colab": {
          "base_uri": "https://localhost:8080/"
        },
        "id": "Wk7yvX-PzyZZ",
        "outputId": "40c1aef9-fdb5-43bc-9c91-84f6f54405ba"
      },
      "execution_count": null,
      "outputs": [
        {
          "output_type": "execute_result",
          "data": {
            "text/plain": [
              "0.4923253191675991"
            ]
          },
          "metadata": {},
          "execution_count": 134
        }
      ]
    },
    {
      "cell_type": "code",
      "source": [
        "# WC up until QF I=50\n",
        "# round the probability for a win/lose/draw result\n",
        "P_a1 = P_a1 + 50*(0.5-Pr_a1a2)\n",
        "P_a2 = P_a2 + 50*(0.5-(1-Pr_a1a2))"
      ],
      "metadata": {
        "id": "2As4gUTg9lh_"
      },
      "execution_count": null,
      "outputs": []
    },
    {
      "cell_type": "code",
      "source": [
        "P_a3 = int(ratings_1806['total_points'][ratings_1806['country_full'] == 'Egypt'])\n",
        "P_a4 = int(ratings_1806['total_points'][ratings_1806['country_full'] == 'Uruguay'])\n",
        "diff_a3a4 = P_a3 - P_a4\n",
        "Pr_a3a4 = 1 / (10**(-diff_a3a4/600) + 1)\n",
        "Pr_a3a4"
      ],
      "metadata": {
        "colab": {
          "base_uri": "https://localhost:8080/"
        },
        "id": "5XrwgT4s_5U-",
        "outputId": "c384a109-e6e6-43c4-a4aa-3984d09778d3"
      },
      "execution_count": null,
      "outputs": [
        {
          "output_type": "execute_result",
          "data": {
            "text/plain": [
              "0.19527530650074057"
            ]
          },
          "metadata": {},
          "execution_count": 136
        }
      ]
    },
    {
      "cell_type": "code",
      "source": [
        "P_a3 = P_a3 + 50*(0-Pr_a3a4)\n",
        "P_a4 = P_a4 + 50*(1-(1-Pr_a3a4))"
      ],
      "metadata": {
        "id": "zViALikdABsJ"
      },
      "execution_count": null,
      "outputs": []
    },
    {
      "cell_type": "code",
      "source": [
        "# use updated ratings\n",
        "diff_a1a3 = P_a1 - P_a3\n",
        "Pr_a1a3 = 1 / (10**(-diff_a1a3/600) + 1)\n",
        "Pr_a1a3"
      ],
      "metadata": {
        "colab": {
          "base_uri": "https://localhost:8080/"
        },
        "id": "xGNjDUehAfEf",
        "outputId": "bb78d29a-db31-4cb3-cf8a-ccab36d22613"
      },
      "execution_count": null,
      "outputs": [
        {
          "output_type": "execute_result",
          "data": {
            "text/plain": [
              "0.33228137009592407"
            ]
          },
          "metadata": {},
          "execution_count": 138
        }
      ]
    },
    {
      "cell_type": "code",
      "source": [
        "P_a1 = P_a1 + 50*(0.5-Pr_a1a3)\n",
        "P_a3 = P_a3 + 50*(0.5-(1-Pr_a1a3))"
      ],
      "metadata": {
        "id": "BU7n9uADBAkK"
      },
      "execution_count": null,
      "outputs": []
    },
    {
      "cell_type": "code",
      "source": [
        "diff_a2a4 = P_a2 - P_a4\n",
        "Pr_a2a4 = 1 / (10**(-diff_a2a4/600) + 1)\n",
        "Pr_a2a4"
      ],
      "metadata": {
        "colab": {
          "base_uri": "https://localhost:8080/"
        },
        "id": "zc5HzQBfA-xR",
        "outputId": "a6a761cc-6c24-48bd-b327-c84bf524bbfd"
      },
      "execution_count": null,
      "outputs": [
        {
          "output_type": "execute_result",
          "data": {
            "text/plain": [
              "0.10329310734733622"
            ]
          },
          "metadata": {},
          "execution_count": 140
        }
      ]
    },
    {
      "cell_type": "code",
      "source": [
        "P_a2 = P_a2 + 50*(0-Pr_a2a4)\n",
        "P_a4 = P_a4 + 50*(1-(1-Pr_a2a4))"
      ],
      "metadata": {
        "id": "-gk8Da2HCEoo"
      },
      "execution_count": null,
      "outputs": []
    },
    {
      "cell_type": "code",
      "source": [
        "diff_a1a4 = P_a1 - P_a4\n",
        "Pr_a1a4 = 1 / (10**(-diff_a1a4/600) + 1)\n",
        "Pr_a1a4"
      ],
      "metadata": {
        "colab": {
          "base_uri": "https://localhost:8080/"
        },
        "id": "m5ohVCg1CTl0",
        "outputId": "3cb4176d-1fc7-4323-a864-0cf8d8cba48f"
      },
      "execution_count": null,
      "outputs": [
        {
          "output_type": "execute_result",
          "data": {
            "text/plain": [
              "0.10187596318463941"
            ]
          },
          "metadata": {},
          "execution_count": 142
        }
      ]
    },
    {
      "cell_type": "code",
      "source": [
        "P_a1 = P_a1 + 50*(0-Pr_a1a4)\n",
        "P_a4 = P_a4 + 50*(1-(1-Pr_a1a4))"
      ],
      "metadata": {
        "id": "JPNoskFTCh3l"
      },
      "execution_count": null,
      "outputs": []
    },
    {
      "cell_type": "code",
      "source": [
        "diff_a2a3 = P_a2 - P_a3\n",
        "Pr_a2a3 = 1 / (10**(-diff_a2a3/600) + 1)\n",
        "Pr_a2a3"
      ],
      "metadata": {
        "colab": {
          "base_uri": "https://localhost:8080/"
        },
        "id": "hBT1iRS8DT0L",
        "outputId": "208afa05-8b7b-4116-84f5-f20f1d62bc8d"
      },
      "execution_count": null,
      "outputs": [
        {
          "output_type": "execute_result",
          "data": {
            "text/plain": [
              "0.3412414492811899"
            ]
          },
          "metadata": {},
          "execution_count": 144
        }
      ]
    },
    {
      "cell_type": "code",
      "source": [
        "P_a2 = P_a2 + 50*(0.5-Pr_a3a4)\n",
        "P_a3 = P_a3 + 50*(0.5-(1-Pr_a3a4))"
      ],
      "metadata": {
        "id": "thfPb0_QDVzy"
      },
      "execution_count": null,
      "outputs": []
    },
    {
      "cell_type": "code",
      "source": [
        "# calculate a complete prediction for group B\n",
        "\n",
        "P_b1 = int(ratings_1806['total_points'][ratings_1806['country_full'] == 'Morocco'])\n",
        "P_b2 = int(ratings_1806['total_points'][ratings_1806['country_full'] == 'IR Iran'])\n",
        "diff_b1b2 = P_b1 - P_b2\n",
        "Pr_b1b2 = 1 / (10**(-diff_b1b2/600) + 1)\n",
        "Pr_b1b2"
      ],
      "metadata": {
        "colab": {
          "base_uri": "https://localhost:8080/"
        },
        "id": "5KrFoPOsE5Ls",
        "outputId": "aec02e5b-930c-4290-a3df-661152fee831"
      },
      "execution_count": null,
      "outputs": [
        {
          "output_type": "execute_result",
          "data": {
            "text/plain": [
              "0.47890549881512023"
            ]
          },
          "metadata": {},
          "execution_count": 146
        }
      ]
    },
    {
      "cell_type": "code",
      "source": [
        "P_b1 = P_b1 + 50*(0.5-Pr_b1b2)\n",
        "P_b2 = P_b2 + 50*(0.5-(1-Pr_b1b2))"
      ],
      "metadata": {
        "id": "DdGsJm8xFRJd"
      },
      "execution_count": null,
      "outputs": []
    },
    {
      "cell_type": "code",
      "source": [
        "P_b3 = int(ratings_1806['total_points'][ratings_1806['country_full'] == 'Portugal'])\n",
        "P_b4 = int(ratings_1806['total_points'][ratings_1806['country_full'] == 'Spain'])\n",
        "diff_b3b4 = P_b3 - P_b4\n",
        "Pr_b3b4 = 1 / (10**(-diff_b3b4/600) + 1)\n",
        "Pr_b3b4"
      ],
      "metadata": {
        "colab": {
          "base_uri": "https://localhost:8080/"
        },
        "id": "YRcZi4vuFkI6",
        "outputId": "aa025460-e563-4cec-eab9-6f24860632cd"
      },
      "execution_count": null,
      "outputs": [
        {
          "output_type": "execute_result",
          "data": {
            "text/plain": [
              "0.6382948598948003"
            ]
          },
          "metadata": {},
          "execution_count": 148
        }
      ]
    },
    {
      "cell_type": "code",
      "source": [
        "P_b3 = P_b3 + 50*(0.5-Pr_b3b4)\n",
        "P_b4 = P_b4 + 50*(0.5-(1-Pr_b3b4))"
      ],
      "metadata": {
        "id": "Cn4ITb98Fqik"
      },
      "execution_count": null,
      "outputs": []
    },
    {
      "cell_type": "code",
      "source": [
        "diff_b1b3 = P_b1 - P_b3\n",
        "Pr_b1b3 = 1 / (10**(-diff_b1b3/600) + 1)\n",
        "Pr_b1b3"
      ],
      "metadata": {
        "colab": {
          "base_uri": "https://localhost:8080/"
        },
        "id": "m5lwON_FGTwL",
        "outputId": "40f1610b-b995-4a17-8d19-2adad6cf173c"
      },
      "execution_count": null,
      "outputs": [
        {
          "output_type": "execute_result",
          "data": {
            "text/plain": [
              "0.09744430402907361"
            ]
          },
          "metadata": {},
          "execution_count": 150
        }
      ]
    },
    {
      "cell_type": "code",
      "source": [
        "P_b1 = P_b1 + 50*(0-Pr_b1b3)\n",
        "P_b3 = P_b3 + 50*(1-(1-Pr_b1b3))"
      ],
      "metadata": {
        "id": "VnkQoVJCHAVF"
      },
      "execution_count": null,
      "outputs": []
    },
    {
      "cell_type": "code",
      "source": [
        "diff_b2b4 = P_b2 - P_b4\n",
        "Pr_b2b4 = 1 / (10**(-diff_b2b4/600) + 1)\n",
        "Pr_b2b4"
      ],
      "metadata": {
        "colab": {
          "base_uri": "https://localhost:8080/"
        },
        "id": "k2uUAmz-HpIa",
        "outputId": "dfd551cf-d06a-4b67-8117-45decb27a12c"
      },
      "execution_count": null,
      "outputs": [
        {
          "output_type": "execute_result",
          "data": {
            "text/plain": [
              "0.16318503368639994"
            ]
          },
          "metadata": {},
          "execution_count": 152
        }
      ]
    },
    {
      "cell_type": "code",
      "source": [
        "P_b2 = P_b2 + 50*(0-Pr_b2b4)\n",
        "P_b4 = P_b4 + 50*(1-(1-Pr_b2b4))"
      ],
      "metadata": {
        "id": "x0wfRvMhIV_6"
      },
      "execution_count": null,
      "outputs": []
    },
    {
      "cell_type": "code",
      "source": [
        "diff_b1b4 = P_b1 - P_b4\n",
        "Pr_b1b4 = 1 / (10**(-diff_b1b4/600) + 1)\n",
        "Pr_b1b4"
      ],
      "metadata": {
        "colab": {
          "base_uri": "https://localhost:8080/"
        },
        "id": "kb-qlPyDIcLK",
        "outputId": "fe082d53-ab12-4248-8b66-86e9051dd7d7"
      },
      "execution_count": null,
      "outputs": [
        {
          "output_type": "execute_result",
          "data": {
            "text/plain": [
              "0.14665748759673142"
            ]
          },
          "metadata": {},
          "execution_count": 154
        }
      ]
    },
    {
      "cell_type": "code",
      "source": [
        "P_b1 = P_b1 + 50*(0-Pr_b1b4)\n",
        "P_b4 = P_b1 + 50*(1-(1-Pr_b1b4))"
      ],
      "metadata": {
        "id": "_CW8Lv5BItcs"
      },
      "execution_count": null,
      "outputs": []
    },
    {
      "cell_type": "code",
      "source": [
        "diff_b2b3 = P_b2 - P_b3\n",
        "Pr_b2b3 = 1 / (10**(-diff_b2b4/600) + 1)\n",
        "Pr_b2b3"
      ],
      "metadata": {
        "colab": {
          "base_uri": "https://localhost:8080/"
        },
        "id": "T9T8EzUdJi7k",
        "outputId": "36337d12-63cf-4d64-93c5-c8a3de421bc2"
      },
      "execution_count": null,
      "outputs": [
        {
          "output_type": "execute_result",
          "data": {
            "text/plain": [
              "0.16318503368639994"
            ]
          },
          "metadata": {},
          "execution_count": 156
        }
      ]
    },
    {
      "cell_type": "code",
      "source": [
        "P_b2 = P_b2 + 50*(0-Pr_b2b3)\n",
        "P_b3 = P_b3 + 50*(1-(1-Pr_b2b3))"
      ],
      "metadata": {
        "id": "Z6qMFugNJzSK"
      },
      "execution_count": null,
      "outputs": []
    },
    {
      "cell_type": "code",
      "source": [
        "# calculate a complete prediction for group C\n",
        "\n",
        "P_c1 = int(ratings_1806['total_points'][ratings_1806['country_full'] == 'France'])\n",
        "P_c2 = int(ratings_1806['total_points'][ratings_1806['country_full'] == 'Australia'])\n",
        "diff_c1c2 = P_c1 - P_c2\n",
        "Pr_c1c2 = 1 / (10**(-diff_c1c2/600) + 1)\n",
        "Pr_c1c2"
      ],
      "metadata": {
        "colab": {
          "base_uri": "https://localhost:8080/"
        },
        "id": "pTFJY8jxMVft",
        "outputId": "cbbc5873-83d1-4ca8-cca3-cb7c79e668bd"
      },
      "execution_count": null,
      "outputs": [
        {
          "output_type": "execute_result",
          "data": {
            "text/plain": [
              "0.8631931113967899"
            ]
          },
          "metadata": {},
          "execution_count": 158
        }
      ]
    },
    {
      "cell_type": "code",
      "source": [
        "P_c1 = P_c1 + 50*(1-Pr_c1c2)\n",
        "P_c2 = P_c2 + 50*(0-(1-Pr_c1c2))"
      ],
      "metadata": {
        "id": "_SOFQ7KuMnRm"
      },
      "execution_count": null,
      "outputs": []
    },
    {
      "cell_type": "code",
      "source": [
        "P_c3 = int(ratings_1806['total_points'][ratings_1806['country_full'] == 'Peru'])\n",
        "P_c4 = int(ratings_1806['total_points'][ratings_1806['country_full'] == 'Denmark'])\n",
        "diff_c3c4 = P_c3 - P_c4\n",
        "Pr_c3c4 = 1 / (10**(-diff_c3c4/600) + 1)\n",
        "Pr_c3c4"
      ],
      "metadata": {
        "colab": {
          "base_uri": "https://localhost:8080/"
        },
        "id": "ulHwrtLN9Ty-",
        "outputId": "f7b2106a-69d4-4e36-a1fc-e54bff28b863"
      },
      "execution_count": null,
      "outputs": [
        {
          "output_type": "execute_result",
          "data": {
            "text/plain": [
              "0.5705230490421901"
            ]
          },
          "metadata": {},
          "execution_count": 160
        }
      ]
    },
    {
      "cell_type": "code",
      "source": [
        "P_c3 = P_c3 + 50*(0.5-Pr_c3c4)\n",
        "P_c4 = P_c4 + 50*(0.5-(1-Pr_c3c4))"
      ],
      "metadata": {
        "id": "GCtoxMWH9h6P"
      },
      "execution_count": null,
      "outputs": []
    },
    {
      "cell_type": "code",
      "source": [
        "diff_c1c3 = P_c1 - P_c3\n",
        "Pr_c1c3 = 1 / (10**(-diff_c1c3/600) + 1)\n",
        "Pr_c1c3"
      ],
      "metadata": {
        "colab": {
          "base_uri": "https://localhost:8080/"
        },
        "id": "45Bsvp-U98Jc",
        "outputId": "9e5b9ec3-9cae-4023-d627-cc04ad1b9860"
      },
      "execution_count": null,
      "outputs": [
        {
          "output_type": "execute_result",
          "data": {
            "text/plain": [
              "0.5793073765092887"
            ]
          },
          "metadata": {},
          "execution_count": 162
        }
      ]
    },
    {
      "cell_type": "code",
      "source": [
        "P_c1 = P_c1 + 50*(0.5-Pr_c1c3)\n",
        "P_c3 = P_c3 + 50*(0.5-(1-Pr_c1c3))"
      ],
      "metadata": {
        "id": "ADbiPe6nAs8r"
      },
      "execution_count": null,
      "outputs": []
    },
    {
      "cell_type": "code",
      "source": [
        "diff_c2c4 = P_c2 - P_c4\n",
        "Pr_c2c4 = 1 / (10**(-diff_c2c4/600) + 1)\n",
        "Pr_c2c4"
      ],
      "metadata": {
        "colab": {
          "base_uri": "https://localhost:8080/"
        },
        "id": "4wUS1xHPA3BV",
        "outputId": "b671cfa9-9938-4c14-a358-e2962914687f"
      },
      "execution_count": null,
      "outputs": [
        {
          "output_type": "execute_result",
          "data": {
            "text/plain": [
              "0.21119827123096666"
            ]
          },
          "metadata": {},
          "execution_count": 164
        }
      ]
    },
    {
      "cell_type": "code",
      "source": [
        "P_c2 = P_c2 + 50*(0-Pr_c2c4)\n",
        "P_c4 = P_c4 + 50*(1-(1-Pr_c2c4))"
      ],
      "metadata": {
        "id": "9PZbZ5rEBjxU"
      },
      "execution_count": null,
      "outputs": []
    },
    {
      "cell_type": "code",
      "source": [
        "diff_c1c4 = P_c1 - P_c4\n",
        "Pr_c1c4 = 1 / (10**(-diff_c1c4/600) + 1)\n",
        "Pr_c1c4"
      ],
      "metadata": {
        "colab": {
          "base_uri": "https://localhost:8080/"
        },
        "id": "A6oG0NPHBrPx",
        "outputId": "19e5f0d6-e58e-4b75-84d3-8acd7f1014df"
      },
      "execution_count": null,
      "outputs": [
        {
          "output_type": "execute_result",
          "data": {
            "text/plain": [
              "0.6274070973877618"
            ]
          },
          "metadata": {},
          "execution_count": 166
        }
      ]
    },
    {
      "cell_type": "code",
      "source": [
        "P_c1 = P_c1 + 50*(0.5-Pr_c1c4)\n",
        "P_c4 = P_c4 + 50*(0.5-(1-Pr_c1c4))"
      ],
      "metadata": {
        "id": "Im906JSHB2QG"
      },
      "execution_count": null,
      "outputs": []
    },
    {
      "cell_type": "code",
      "source": [
        "diff_c2c3 = P_c2 - P_c3\n",
        "Pr_c2c3 = 1 / (10**(-diff_c2c3/600) + 1)\n",
        "Pr_c2c3"
      ],
      "metadata": {
        "colab": {
          "base_uri": "https://localhost:8080/"
        },
        "id": "XvGS0pNWB9rI",
        "outputId": "cb6352d2-6126-4fb2-bb52-f9d80e38dd0d"
      },
      "execution_count": null,
      "outputs": [
        {
          "output_type": "execute_result",
          "data": {
            "text/plain": [
              "0.16377807416012"
            ]
          },
          "metadata": {},
          "execution_count": 168
        }
      ]
    },
    {
      "cell_type": "code",
      "source": [
        "P_c2 = P_c2 + 50*(0-Pr_c2c3)\n",
        "P_c3 = P_c3 + 50*(1-(1-Pr_c2c3))"
      ],
      "metadata": {
        "id": "HBBgn9jCCDoM"
      },
      "execution_count": null,
      "outputs": []
    },
    {
      "cell_type": "code",
      "source": [
        "# calculate a complete prediction for group D\n",
        "\n",
        "P_d1 = int(ratings_1806['total_points'][ratings_1806['country_full'] == 'Argentina'])\n",
        "P_d2 = int(ratings_1806['total_points'][ratings_1806['country_full'] == 'Iceland'])\n",
        "diff_d1d2 = P_d1 - P_d2\n",
        "Pr_d1d2 = 1 / (10**(-diff_d1d2/600) + 1)\n",
        "Pr_d1d2"
      ],
      "metadata": {
        "colab": {
          "base_uri": "https://localhost:8080/"
        },
        "id": "XfWuTBxzDnT0",
        "outputId": "cbe00682-d82f-4910-897d-5739d40eb6b5"
      },
      "execution_count": null,
      "outputs": [
        {
          "output_type": "execute_result",
          "data": {
            "text/plain": [
              "0.7820980161313187"
            ]
          },
          "metadata": {},
          "execution_count": 170
        }
      ]
    },
    {
      "cell_type": "code",
      "source": [
        "P_d1 = P_d1 + 50*(1-Pr_d1d2)\n",
        "P_d2 = P_d2 + 50*(0-(1-Pr_d1d2))"
      ],
      "metadata": {
        "id": "i9a-6g9jJgZq"
      },
      "execution_count": null,
      "outputs": []
    },
    {
      "cell_type": "code",
      "source": [
        "P_d3 = int(ratings_1806['total_points'][ratings_1806['country_full'] == 'Croatia'])\n",
        "P_d4 = int(ratings_1806['total_points'][ratings_1806['country_full'] == 'Nigeria'])\n",
        "diff_d3d4 = P_d3 - P_d4\n",
        "Pr_d3d4 = 1 / (10**(-diff_d3d4/600) + 1)\n",
        "Pr_d3d4"
      ],
      "metadata": {
        "colab": {
          "base_uri": "https://localhost:8080/"
        },
        "id": "UlXpNdZaVX83",
        "outputId": "54a5af71-ac93-49a0-ab3b-34ca8b148c72"
      },
      "execution_count": null,
      "outputs": [
        {
          "output_type": "execute_result",
          "data": {
            "text/plain": [
              "0.7781484542191325"
            ]
          },
          "metadata": {},
          "execution_count": 172
        }
      ]
    },
    {
      "cell_type": "code",
      "source": [
        "P_d3 = P_d3 + 50*(1-Pr_d3d4)\n",
        "P_d4 = P_d4 + 50*(0-(1-Pr_d3d4))"
      ],
      "metadata": {
        "id": "X1qapzr1XqTd"
      },
      "execution_count": null,
      "outputs": []
    },
    {
      "cell_type": "code",
      "source": [
        "diff_d1d3 = P_d1 - P_d3\n",
        "Pr_d1d3 = 1 / (10**(-diff_d1d3/600) + 1)\n",
        "Pr_d1d3"
      ],
      "metadata": {
        "colab": {
          "base_uri": "https://localhost:8080/"
        },
        "id": "QcU66GH5X7O1",
        "outputId": "b1ed473e-a2d0-47ce-cd58-8b6ebd573e7d"
      },
      "execution_count": null,
      "outputs": [
        {
          "output_type": "execute_result",
          "data": {
            "text/plain": [
              "0.7567943423942072"
            ]
          },
          "metadata": {},
          "execution_count": 174
        }
      ]
    },
    {
      "cell_type": "code",
      "source": [
        "P_d1 = P_d1 + 50*(1-Pr_d1d3)\n",
        "P_d3 = P_d3 + 50*(0-(1-Pr_d1d3))"
      ],
      "metadata": {
        "id": "lvXARP1lYUKy"
      },
      "execution_count": null,
      "outputs": []
    },
    {
      "cell_type": "code",
      "source": [
        "diff_d2d4 = P_d2 - P_d4\n",
        "Pr_d2d4 = 1 / (10**(-diff_d2d4/600) + 1)\n",
        "Pr_d2d4"
      ],
      "metadata": {
        "colab": {
          "base_uri": "https://localhost:8080/"
        },
        "id": "C6CMYswkYY2k",
        "outputId": "bcb0f34e-35b4-4597-b257-78d978944860"
      },
      "execution_count": null,
      "outputs": [
        {
          "output_type": "execute_result",
          "data": {
            "text/plain": [
              "0.7528134199387274"
            ]
          },
          "metadata": {},
          "execution_count": 176
        }
      ]
    },
    {
      "cell_type": "code",
      "source": [
        "P_d2 = P_d2 + 50*(1-Pr_d2d4)\n",
        "P_d4 = P_d4 + 50*(0-(1-Pr_d2d4))"
      ],
      "metadata": {
        "id": "Ogei5w3gYlAt"
      },
      "execution_count": null,
      "outputs": []
    },
    {
      "cell_type": "code",
      "source": [
        "diff_d1d4 = P_d1 - P_d4\n",
        "Pr_d1d4 = 1 / (10**(-diff_d1d4/600) + 1)\n",
        "Pr_d1d4"
      ],
      "metadata": {
        "colab": {
          "base_uri": "https://localhost:8080/"
        },
        "id": "dXK-_xX_ZE7r",
        "outputId": "c1ccf799-bb7e-4f9f-fcec-6337e2aa4380"
      },
      "execution_count": null,
      "outputs": [
        {
          "output_type": "execute_result",
          "data": {
            "text/plain": [
              "0.9288613816009353"
            ]
          },
          "metadata": {},
          "execution_count": 178
        }
      ]
    },
    {
      "cell_type": "code",
      "source": [
        "P_d1 = P_d1 + 50*(1-Pr_d1d4)\n",
        "P_d4 = P_d4 + 50*(0-(1-Pr_d1d4))"
      ],
      "metadata": {
        "id": "hXLq1YUuZSQn"
      },
      "execution_count": null,
      "outputs": []
    },
    {
      "cell_type": "code",
      "source": [
        "diff_d2d3 = P_d2 - P_d3\n",
        "Pr_d2d3 = 1 / (10**(-diff_d2d3/600) + 1)\n",
        "Pr_d2d3"
      ],
      "metadata": {
        "colab": {
          "base_uri": "https://localhost:8080/"
        },
        "id": "i5YkSiHpZcog",
        "outputId": "5c85ef19-dcc9-463b-8b95-71d91bc13bff"
      },
      "execution_count": null,
      "outputs": [
        {
          "output_type": "execute_result",
          "data": {
            "text/plain": [
              "0.4669791115163807"
            ]
          },
          "metadata": {},
          "execution_count": 180
        }
      ]
    },
    {
      "cell_type": "code",
      "source": [
        "P_d2 = P_d2 + 50*(0.5-Pr_d2d3)\n",
        "P_d3 = P_d3 + 50*(0.5-(1-Pr_d2d3))"
      ],
      "metadata": {
        "id": "iXYGZoynZhLi"
      },
      "execution_count": null,
      "outputs": []
    },
    {
      "cell_type": "code",
      "source": [
        "# calculate a complete prediction for group E\n",
        "\n",
        "P_e1 = int(ratings_1806['total_points'][ratings_1806['country_full'] == 'Costa Rica'])\n",
        "P_e2 = int(ratings_1806['total_points'][ratings_1806['country_full'] == 'Serbia'])\n",
        "diff_e1e2 = P_e1 - P_e2\n",
        "Pr_e1e2 = 1 / (10**(-diff_e1e2/600) + 1)\n",
        "Pr_e1e2"
      ],
      "metadata": {
        "colab": {
          "base_uri": "https://localhost:8080/"
        },
        "id": "W0kNjMt4ay3j",
        "outputId": "225594b4-8fe2-4bd5-d20c-ebb2262038d8"
      },
      "execution_count": null,
      "outputs": [
        {
          "output_type": "execute_result",
          "data": {
            "text/plain": [
              "0.6249017304406614"
            ]
          },
          "metadata": {},
          "execution_count": 182
        }
      ]
    },
    {
      "cell_type": "code",
      "source": [
        "P_e1 = P_e1 + 50*(0.5-Pr_e1e2)\n",
        "P_e2 = P_e2 + 50*(0.5-(1-Pr_e1e2))"
      ],
      "metadata": {
        "id": "qhPHK-JjeeqE"
      },
      "execution_count": null,
      "outputs": []
    },
    {
      "cell_type": "code",
      "source": [
        "P_e3 = int(ratings_1806['total_points'][ratings_1806['country_full'] == 'Brazil'])\n",
        "P_e4 = int(ratings_1806['total_points'][ratings_1806['country_full'] == 'Switzerland'])\n",
        "diff_e3e4 = P_e3 - P_e4\n",
        "Pr_e3e4 = 1 / (10**(-diff_e3e4/600) + 1)\n",
        "Pr_e3e4"
      ],
      "metadata": {
        "colab": {
          "base_uri": "https://localhost:8080/"
        },
        "id": "acPQyV2ve4d_",
        "outputId": "3af0929c-ca60-4fa2-efe5-1da2c7a5e0a3"
      },
      "execution_count": null,
      "outputs": [
        {
          "output_type": "execute_result",
          "data": {
            "text/plain": [
              "0.7089588672038446"
            ]
          },
          "metadata": {},
          "execution_count": 184
        }
      ]
    },
    {
      "cell_type": "code",
      "source": [
        "P_e3 = P_e3 + 50*(1-Pr_e3e4)\n",
        "P_e4 = P_e4 + 50*(0-(1-Pr_e3e4))"
      ],
      "metadata": {
        "id": "FsB4K78FfSGa"
      },
      "execution_count": null,
      "outputs": []
    },
    {
      "cell_type": "code",
      "source": [
        "diff_e1e3 = P_e1 - P_e3\n",
        "Pr_e1e3 = 1 / (10**(-diff_e1e3/600) + 1)\n",
        "Pr_e1e3"
      ],
      "metadata": {
        "colab": {
          "base_uri": "https://localhost:8080/"
        },
        "id": "uU3LwznlkW3G",
        "outputId": "9236ef0e-74c9-4c0f-8d1e-c7e80eb0383b"
      },
      "execution_count": null,
      "outputs": [
        {
          "output_type": "execute_result",
          "data": {
            "text/plain": [
              "0.1016520221922967"
            ]
          },
          "metadata": {},
          "execution_count": 186
        }
      ]
    },
    {
      "cell_type": "code",
      "source": [
        "P_e1 = P_e1 + 50*(0-Pr_e1e3)\n",
        "P_e3 = P_e3 + 50*(1-(1-Pr_e1e3))"
      ],
      "metadata": {
        "id": "z8WydsJs2FNJ"
      },
      "execution_count": null,
      "outputs": []
    },
    {
      "cell_type": "code",
      "source": [
        "diff_e2e4 = P_e2 - P_e4\n",
        "Pr_e2e4 = 1 / (10**(-diff_e2e4/600) + 1)\n",
        "Pr_e2e4"
      ],
      "metadata": {
        "colab": {
          "base_uri": "https://localhost:8080/"
        },
        "id": "Wvn6uvV82059",
        "outputId": "5d4d5bdc-48bd-42de-bc0d-a1c767425b31"
      },
      "execution_count": null,
      "outputs": [
        {
          "output_type": "execute_result",
          "data": {
            "text/plain": [
              "0.16253970411538643"
            ]
          },
          "metadata": {},
          "execution_count": 188
        }
      ]
    },
    {
      "cell_type": "code",
      "source": [
        "P_e2 = P_e2 + 50*(0-Pr_e2e4)\n",
        "P_e4 = P_e4 + 50*(1-(1-Pr_e2e4))"
      ],
      "metadata": {
        "id": "YeZFdvWZ2a_y"
      },
      "execution_count": null,
      "outputs": []
    },
    {
      "cell_type": "code",
      "source": [
        "diff_e1e4 = P_e1 - P_e4\n",
        "Pr_e1e4 = 1 / (10**(-diff_e1e4/600) + 1)\n",
        "Pr_e1e4"
      ],
      "metadata": {
        "colab": {
          "base_uri": "https://localhost:8080/"
        },
        "id": "6uZRAbpt2_a4",
        "outputId": "2198bd54-0668-4af7-d500-fbc675591da1"
      },
      "execution_count": null,
      "outputs": [
        {
          "output_type": "execute_result",
          "data": {
            "text/plain": [
              "0.22658919968989635"
            ]
          },
          "metadata": {},
          "execution_count": 190
        }
      ]
    },
    {
      "cell_type": "code",
      "source": [
        "P_e1 = P_e1 + 50*(0-Pr_e1e4)\n",
        "P_e4 = P_e4 + 50*(1-(1-Pr_e1e4))"
      ],
      "metadata": {
        "id": "s7k-GEK13yen"
      },
      "execution_count": null,
      "outputs": []
    },
    {
      "cell_type": "code",
      "source": [
        "diff_e2e3 = P_e2 - P_e3\n",
        "Pr_e2e3 = 1 / (10**(-diff_e2e3/600) + 1)\n",
        "Pr_e2e3"
      ],
      "metadata": {
        "colab": {
          "base_uri": "https://localhost:8080/"
        },
        "id": "XENYtkj3327N",
        "outputId": "9bf3dd53-b01d-434d-9e1b-4f8e53f2d034"
      },
      "execution_count": null,
      "outputs": [
        {
          "output_type": "execute_result",
          "data": {
            "text/plain": [
              "0.06343701356950925"
            ]
          },
          "metadata": {},
          "execution_count": 192
        }
      ]
    },
    {
      "cell_type": "code",
      "source": [
        "P_e2 = P_e2 + 50*(0-Pr_e2e3)\n",
        "P_e3 = P_e3 + 50*(1-(1-Pr_e2e3))"
      ],
      "metadata": {
        "id": "EXKn87Aa4FVP"
      },
      "execution_count": null,
      "outputs": []
    },
    {
      "cell_type": "code",
      "source": [
        "# calculate a complete prediction for group F\n",
        "\n",
        "P_f1 = int(ratings_1806['total_points'][ratings_1806['country_full'] == 'Germany'])\n",
        "P_f2 = int(ratings_1806['total_points'][ratings_1806['country_full'] == 'Mexico'])\n",
        "diff_f1f2 = P_f1 - P_f2\n",
        "Pr_f1f2 = 1 / (10**(-diff_f1f2/600) + 1)\n",
        "Pr_f1f2"
      ],
      "metadata": {
        "colab": {
          "base_uri": "https://localhost:8080/"
        },
        "id": "nZNVIF9B53bq",
        "outputId": "c0add5e6-3ffd-421c-c6f4-dd8f6beb84b9"
      },
      "execution_count": null,
      "outputs": [
        {
          "output_type": "execute_result",
          "data": {
            "text/plain": [
              "0.8987687435446173"
            ]
          },
          "metadata": {},
          "execution_count": 194
        }
      ]
    },
    {
      "cell_type": "code",
      "source": [
        "P_f1 = P_f1 + 50*(1-Pr_f1f2)\n",
        "P_f2 = P_f2 + 50*(0-(1-Pr_f1f2))"
      ],
      "metadata": {
        "id": "xkUZ3qEA6fXh"
      },
      "execution_count": null,
      "outputs": []
    },
    {
      "cell_type": "code",
      "source": [
        "P_f3 = int(ratings_1806['total_points'][ratings_1806['country_full'] == 'Sweden'])\n",
        "P_f4 = int(ratings_1806['total_points'][ratings_1806['country_full'] == 'Korea Republic'])\n",
        "diff_f3f4 = P_f3 - P_f4\n",
        "Pr_f3f4 = 1 / (10**(-diff_f3f4/600) + 1)\n",
        "Pr_f3f4"
      ],
      "metadata": {
        "colab": {
          "base_uri": "https://localhost:8080/"
        },
        "id": "KTxGH8Cu7Sww",
        "outputId": "979ac120-c399-40ff-e267-438887d2eb35"
      },
      "execution_count": null,
      "outputs": [
        {
          "output_type": "execute_result",
          "data": {
            "text/plain": [
              "0.784053683887815"
            ]
          },
          "metadata": {},
          "execution_count": 196
        }
      ]
    },
    {
      "cell_type": "code",
      "source": [
        "P_f3 = P_f3 + 50*(1-Pr_f3f4)\n",
        "P_f4 = P_f4 + 50*(0-(1-Pr_f3f4))"
      ],
      "metadata": {
        "id": "MJw3a__U9Ocd"
      },
      "execution_count": null,
      "outputs": []
    },
    {
      "cell_type": "code",
      "source": [
        "diff_f1f3 = P_f1 - P_f3\n",
        "Pr_f1f3 = 1 / (10**(-diff_f1f3/600) + 1)\n",
        "Pr_f1f3"
      ],
      "metadata": {
        "colab": {
          "base_uri": "https://localhost:8080/"
        },
        "id": "qwUCVBT49csw",
        "outputId": "5de6c69f-3516-435d-f4f5-efbae9043c45"
      },
      "execution_count": null,
      "outputs": [
        {
          "output_type": "execute_result",
          "data": {
            "text/plain": [
              "0.9295573361214959"
            ]
          },
          "metadata": {},
          "execution_count": 198
        }
      ]
    },
    {
      "cell_type": "code",
      "source": [
        "P_f1 = P_f1 + 50*(1-Pr_f1f3)\n",
        "P_f3 = P_f3 + 50*(0-(1-Pr_f1f3))"
      ],
      "metadata": {
        "id": "ugznkiqg9uvR"
      },
      "execution_count": null,
      "outputs": []
    },
    {
      "cell_type": "code",
      "source": [
        "diff_f2f4 = P_f2 - P_f4\n",
        "Pr_f2f4 = 1 / (10**(-diff_f2f4/600) + 1)\n",
        "Pr_f2f4"
      ],
      "metadata": {
        "colab": {
          "base_uri": "https://localhost:8080/"
        },
        "id": "HriOH6U593sS",
        "outputId": "b2f69464-8fb6-49d8-f396-9873f5c8a854"
      },
      "execution_count": null,
      "outputs": [
        {
          "output_type": "execute_result",
          "data": {
            "text/plain": [
              "0.8493820230371976"
            ]
          },
          "metadata": {},
          "execution_count": 200
        }
      ]
    },
    {
      "cell_type": "code",
      "source": [
        "P_f2 = P_f2 + 50*(1-Pr_f2f4)\n",
        "P_f4 = P_f4 + 50*(0-(1-Pr_f2f4))"
      ],
      "metadata": {
        "id": "nDgLwKU8-GSI"
      },
      "execution_count": null,
      "outputs": []
    },
    {
      "cell_type": "code",
      "source": [
        "diff_f1f4 = P_f1 - P_f4\n",
        "Pr_f1f4 = 1 / (10**(-diff_f1f4/600) + 1)\n",
        "Pr_f1f4"
      ],
      "metadata": {
        "colab": {
          "base_uri": "https://localhost:8080/"
        },
        "id": "i7yroRJi-M-1",
        "outputId": "be18d876-8c76-418c-80c5-59d900dd56fc"
      },
      "execution_count": null,
      "outputs": [
        {
          "output_type": "execute_result",
          "data": {
            "text/plain": [
              "0.9819189986505334"
            ]
          },
          "metadata": {},
          "execution_count": 202
        }
      ]
    },
    {
      "cell_type": "code",
      "source": [
        "P_f1 = P_f1 + 50*(1-Pr_f1f4)\n",
        "P_f4 = P_f4 + 50*(0-(1-Pr_f1f4))"
      ],
      "metadata": {
        "id": "2gSw_WTuAntk"
      },
      "execution_count": null,
      "outputs": []
    },
    {
      "cell_type": "code",
      "source": [
        "diff_f2f3 = P_f2 - P_f3\n",
        "Pr_f2f3 = 1 / (10**(-diff_f2f3/600) + 1)\n",
        "Pr_f2f3"
      ],
      "metadata": {
        "colab": {
          "base_uri": "https://localhost:8080/"
        },
        "id": "EruLYgTQAtFq",
        "outputId": "5f6d376c-98f2-4260-96da-321088bc4e7b"
      },
      "execution_count": null,
      "outputs": [
        {
          "output_type": "execute_result",
          "data": {
            "text/plain": [
              "0.5986539848717702"
            ]
          },
          "metadata": {},
          "execution_count": 204
        }
      ]
    },
    {
      "cell_type": "code",
      "source": [
        "P_f2 = P_f2 + 50*(1-Pr_f2f3)\n",
        "P_f3 = P_f3 + 50*(0-(1-Pr_f2f3))"
      ],
      "metadata": {
        "id": "y8tmB5dbAzy3"
      },
      "execution_count": null,
      "outputs": []
    },
    {
      "cell_type": "code",
      "source": [
        "# calculate a complete prediction for group G\n",
        "\n",
        "P_g1 = int(ratings_1806['total_points'][ratings_1806['country_full'] == 'Belgium'])\n",
        "P_g2 = int(ratings_1806['total_points'][ratings_1806['country_full'] == 'Panama'])\n",
        "diff_g1g2 = P_g1 - P_g2\n",
        "Pr_g1g2 = 1 / (10**(-diff_g1g2/600) + 1)\n",
        "Pr_g1g2"
      ],
      "metadata": {
        "colab": {
          "base_uri": "https://localhost:8080/"
        },
        "id": "IYYe_U0xDA11",
        "outputId": "c5e3ac6e-a0c9-4618-9546-b5d656cf0778"
      },
      "execution_count": null,
      "outputs": [
        {
          "output_type": "execute_result",
          "data": {
            "text/plain": [
              "0.9421311695000198"
            ]
          },
          "metadata": {},
          "execution_count": 206
        }
      ]
    },
    {
      "cell_type": "code",
      "source": [
        "P_g1 = P_g1 + 50*(1-Pr_g1g2)\n",
        "P_g2 = P_g2 + 50*(0-(1-Pr_g1g2))"
      ],
      "metadata": {
        "id": "CVplPfU-DyKC"
      },
      "execution_count": null,
      "outputs": []
    },
    {
      "cell_type": "code",
      "source": [
        "P_g3 = int(ratings_1806['total_points'][ratings_1806['country_full'] == 'Tunisia'])\n",
        "P_g4 = int(ratings_1806['total_points'][ratings_1806['country_full'] == 'England'])\n",
        "diff_g3g4 = P_g3 - P_g4\n",
        "Pr_g3g4 = 1 / (10**(-diff_g3g4/600) + 1)\n",
        "Pr_g3g4"
      ],
      "metadata": {
        "colab": {
          "base_uri": "https://localhost:8080/"
        },
        "id": "q_kj9CwTD6bx",
        "outputId": "ff6cf281-9176-4736-f7d2-6ce6193e6396"
      },
      "execution_count": null,
      "outputs": [
        {
          "output_type": "execute_result",
          "data": {
            "text/plain": [
              "0.3679299878999264"
            ]
          },
          "metadata": {},
          "execution_count": 208
        }
      ]
    },
    {
      "cell_type": "code",
      "source": [
        "P_g3 = P_g3 + 50*(0.5-Pr_g3g4)\n",
        "P_g4 = P_g4 + 50*(0-(0.5-Pr_g3g4))"
      ],
      "metadata": {
        "id": "JDlOIsOuEwTb"
      },
      "execution_count": null,
      "outputs": []
    },
    {
      "cell_type": "code",
      "source": [
        "diff_g1g3 = P_g1 - P_g3\n",
        "Pr_g1g3 = 1 / (10**(-diff_g1g3/600) + 1)\n",
        "Pr_g1g3"
      ],
      "metadata": {
        "colab": {
          "base_uri": "https://localhost:8080/"
        },
        "id": "fdjlmZRjFK4W",
        "outputId": "5fb75bff-016a-4133-be82-557c2da0399f"
      },
      "execution_count": null,
      "outputs": [
        {
          "output_type": "execute_result",
          "data": {
            "text/plain": [
              "0.8137808880615515"
            ]
          },
          "metadata": {},
          "execution_count": 210
        }
      ]
    },
    {
      "cell_type": "code",
      "source": [
        "P_g1 = P_g1 + 50*(1-Pr_g1g3)\n",
        "P_g3 = P_g3 + 50*(0-(1-Pr_g1g3))"
      ],
      "metadata": {
        "id": "XdN7fAtmFcjr"
      },
      "execution_count": null,
      "outputs": []
    },
    {
      "cell_type": "code",
      "source": [
        "diff_g2g4 = P_g2 - P_g4\n",
        "Pr_g2g4 = 1 / (10**(-diff_g2g4/600) + 1)\n",
        "Pr_g2g4"
      ],
      "metadata": {
        "colab": {
          "base_uri": "https://localhost:8080/"
        },
        "id": "3ywMr3D5FjSP",
        "outputId": "79633d76-87b3-41a8-ccac-cc774bac2039"
      },
      "execution_count": null,
      "outputs": [
        {
          "output_type": "execute_result",
          "data": {
            "text/plain": [
              "0.13849696146205817"
            ]
          },
          "metadata": {},
          "execution_count": 212
        }
      ]
    },
    {
      "cell_type": "code",
      "source": [
        "P_g2 = P_g2 + 50*(0-Pr_g2g4)\n",
        "P_g4 = P_g4 + 50*(1-(1-Pr_g2g4))"
      ],
      "metadata": {
        "id": "WsoDDgdBF7I0"
      },
      "execution_count": null,
      "outputs": []
    },
    {
      "cell_type": "code",
      "source": [
        "diff_g1g4 = P_g1 - P_g4\n",
        "Pr_g1g4 = 1 / (10**(-diff_g1g4/600) + 1)\n",
        "Pr_g1g4"
      ],
      "metadata": {
        "colab": {
          "base_uri": "https://localhost:8080/"
        },
        "id": "bJRBOl3-GC97",
        "outputId": "8c4d5a21-aac8-41a7-854a-a08165ed0b0d"
      },
      "execution_count": null,
      "outputs": [
        {
          "output_type": "execute_result",
          "data": {
            "text/plain": [
              "0.7297787658035695"
            ]
          },
          "metadata": {},
          "execution_count": 214
        }
      ]
    },
    {
      "cell_type": "code",
      "source": [
        "P_g1 = P_g1 + 50*(1-Pr_g1g4)\n",
        "P_g4 = P_g4 + 50*(0-(1-Pr_g2g4))"
      ],
      "metadata": {
        "id": "8jnYVVjRGYpP"
      },
      "execution_count": null,
      "outputs": []
    },
    {
      "cell_type": "code",
      "source": [
        "diff_g2g3 = P_g2 - P_g3\n",
        "Pr_g2g3 = 1 / (10**(-diff_g2g3/600) + 1)\n",
        "Pr_g2g3"
      ],
      "metadata": {
        "colab": {
          "base_uri": "https://localhost:8080/"
        },
        "id": "N-L4EvdVGh5w",
        "outputId": "0109beb4-38cc-403a-e7c2-381f9a3bc941"
      },
      "execution_count": null,
      "outputs": [
        {
          "output_type": "execute_result",
          "data": {
            "text/plain": [
              "0.20944908012618263"
            ]
          },
          "metadata": {},
          "execution_count": 216
        }
      ]
    },
    {
      "cell_type": "code",
      "source": [
        "P_g2 = P_g2 + 50*(0-Pr_g2g3)\n",
        "P_g3 = P_g3 + 50*(1-(1-Pr_g2g3))"
      ],
      "metadata": {
        "id": "BGQPZzbWGvox"
      },
      "execution_count": null,
      "outputs": []
    },
    {
      "cell_type": "code",
      "source": [
        "# calculate a complete prediction for group H\n",
        "\n",
        "P_h1 = int(ratings_1806['total_points'][ratings_1806['country_full'] == 'Colombia'])\n",
        "P_h2 = int(ratings_1806['total_points'][ratings_1806['country_full'] == 'Japan'])\n",
        "diff_h1h2 = P_h1 - P_h2\n",
        "Pr_h1h2 = 1 / (10**(-diff_h1h2/600) + 1)\n",
        "Pr_h1h2"
      ],
      "metadata": {
        "colab": {
          "base_uri": "https://localhost:8080/"
        },
        "id": "TWCRSUHqHmor",
        "outputId": "d0b9d630-c97f-46a9-b539-869102e5b55c"
      },
      "execution_count": null,
      "outputs": [
        {
          "output_type": "execute_result",
          "data": {
            "text/plain": [
              "0.8562520600981506"
            ]
          },
          "metadata": {},
          "execution_count": 218
        }
      ]
    },
    {
      "cell_type": "code",
      "source": [
        "P_h1 = P_h1 + 50*(1-Pr_h1h2)\n",
        "P_h2 = P_h2 + 50*(0-(1-Pr_h1h2))"
      ],
      "metadata": {
        "id": "rB7yTVYEIHWQ"
      },
      "execution_count": null,
      "outputs": []
    },
    {
      "cell_type": "code",
      "source": [
        "P_h3 = int(ratings_1806['total_points'][ratings_1806['country_full'] == 'Poland'])\n",
        "P_h4 = int(ratings_1806['total_points'][ratings_1806['country_full'] == 'Senegal'])\n",
        "diff_h3h4 = P_h3 - P_h4\n",
        "Pr_h3h4 = 1 / (10**(-diff_h3h4/600) + 1)\n",
        "Pr_h3h4"
      ],
      "metadata": {
        "colab": {
          "base_uri": "https://localhost:8080/"
        },
        "id": "-kaHLJwZISoF",
        "outputId": "e75cb4d6-6173-44f7-d362-a4e55966eaa3"
      },
      "execution_count": null,
      "outputs": [
        {
          "output_type": "execute_result",
          "data": {
            "text/plain": [
              "0.7898441797581306"
            ]
          },
          "metadata": {},
          "execution_count": 220
        }
      ]
    },
    {
      "cell_type": "code",
      "source": [
        "P_h3 = P_h3 + 50*(1-Pr_h3h4)\n",
        "P_h4 = P_h4 + 50*(0-(1-Pr_h3h4))"
      ],
      "metadata": {
        "id": "Tz-FKDnLIxQZ"
      },
      "execution_count": null,
      "outputs": []
    },
    {
      "cell_type": "code",
      "source": [
        "diff_h1h3 = P_h1 - P_h3\n",
        "Pr_h1h3 = 1 / (10**(-diff_h1h3/600) + 1)\n",
        "Pr_h1h3"
      ],
      "metadata": {
        "colab": {
          "base_uri": "https://localhost:8080/"
        },
        "id": "MUOZs9i5JAA1",
        "outputId": "67e8fc16-744a-424d-85b5-3c3e0f0bfced"
      },
      "execution_count": null,
      "outputs": [
        {
          "output_type": "execute_result",
          "data": {
            "text/plain": [
              "0.31674785394472227"
            ]
          },
          "metadata": {},
          "execution_count": 222
        }
      ]
    },
    {
      "cell_type": "code",
      "source": [
        "P_h1 = P_h1 + 50*(0-Pr_h1h3)\n",
        "P_h3 = P_h3 + 50*(1-(1-Pr_h1h3))"
      ],
      "metadata": {
        "id": "O4EiJaoqJKqC"
      },
      "execution_count": null,
      "outputs": []
    },
    {
      "cell_type": "code",
      "source": [
        "diff_h2h4 = P_h2 - P_h4\n",
        "Pr_h2h4 = 1 / (10**(-diff_h2h4/600) + 1)\n",
        "Pr_h2h4"
      ],
      "metadata": {
        "colab": {
          "base_uri": "https://localhost:8080/"
        },
        "id": "yl1mNAAPJXnL",
        "outputId": "f9e6592d-4e43-44c6-a2b0-7110a7cbd691"
      },
      "execution_count": null,
      "outputs": [
        {
          "output_type": "execute_result",
          "data": {
            "text/plain": [
              "0.23080168736169407"
            ]
          },
          "metadata": {},
          "execution_count": 224
        }
      ]
    },
    {
      "cell_type": "code",
      "source": [
        "P_h2 = P_h2 + 50*(0-Pr_h2h4)\n",
        "P_h4 = P_h4 + 50*(1-(1-Pr_h2h4))"
      ],
      "metadata": {
        "id": "8iuV8ouLJnvj"
      },
      "execution_count": null,
      "outputs": []
    },
    {
      "cell_type": "code",
      "source": [
        "diff_h1h4 = P_h1 - P_h4\n",
        "Pr_h1h4 = 1 / (10**(-diff_h1h4/600) + 1)\n",
        "Pr_h1h4"
      ],
      "metadata": {
        "colab": {
          "base_uri": "https://localhost:8080/"
        },
        "id": "00NsPphzJ6qm",
        "outputId": "6f07a2e3-2a94-4167-db05-6deb7acaa5a2"
      },
      "execution_count": null,
      "outputs": [
        {
          "output_type": "execute_result",
          "data": {
            "text/plain": [
              "0.6296729053937881"
            ]
          },
          "metadata": {},
          "execution_count": 226
        }
      ]
    },
    {
      "cell_type": "code",
      "source": [
        "P_h1 = P_h1 + 50*(0-Pr_h1h4)\n",
        "P_h4 = P_h4 + 50*(1-(1-Pr_h1h4))"
      ],
      "metadata": {
        "id": "IQi8OtdLKJxJ"
      },
      "execution_count": null,
      "outputs": []
    },
    {
      "cell_type": "code",
      "source": [
        "diff_h2h3 = P_h2 - P_h3\n",
        "Pr_h2h3 = 1 / (10**(-diff_h2h3/600) + 1)\n",
        "Pr_h2h3"
      ],
      "metadata": {
        "colab": {
          "base_uri": "https://localhost:8080/"
        },
        "id": "cs0q5nJtKRfe",
        "outputId": "fc1b33ed-0584-4c65-af93-f75d46472ac2"
      },
      "execution_count": null,
      "outputs": [
        {
          "output_type": "execute_result",
          "data": {
            "text/plain": [
              "0.06218192425418284"
            ]
          },
          "metadata": {},
          "execution_count": 228
        }
      ]
    },
    {
      "cell_type": "code",
      "source": [
        "P_h2 = P_h2 + 50*(0-Pr_h2h3)\n",
        "P_h3 = P_h3 + 50*(1-(1-Pr_h2h3))"
      ],
      "metadata": {
        "id": "ncAP9K8gKZOk"
      },
      "execution_count": null,
      "outputs": []
    },
    {
      "cell_type": "code",
      "source": [
        "a_true = [1, 0, 1, 0, 0, 1]\n",
        "a_pred = [0.5, 0, 0.5, 0, 0, 0.5]"
      ],
      "metadata": {
        "id": "GnaNGiGAj7cy"
      },
      "execution_count": null,
      "outputs": []
    },
    {
      "cell_type": "code",
      "source": [
        "b_true = [0, 0.5, 0, 0, 0.5, 0.5]\n",
        "b_pred = [0.5, 0.5, 0, 0, 0, 0]"
      ],
      "metadata": {
        "id": "MGwsZUTFk3O3"
      },
      "execution_count": null,
      "outputs": []
    },
    {
      "cell_type": "code",
      "source": [
        "c_true = [1, 0, 1, 0.5, 0.5, 0]\n",
        "c_pred = [1, 0.5, 0.5, 0, 0.5, 0]"
      ],
      "metadata": {
        "id": "W3Vyg2c5lYge"
      },
      "execution_count": null,
      "outputs": []
    },
    {
      "cell_type": "code",
      "source": [
        "d_true = [0.5, 1, 0, 0, 1, 0]\n",
        "d_pred = [1, 1, 1, 1, 1, 0.5]"
      ],
      "metadata": {
        "id": "ZsKVP8Esl_Yz"
      },
      "execution_count": null,
      "outputs": []
    },
    {
      "cell_type": "code",
      "source": [
        "e_true = [0, 0.5, 0, 0, 0.5, 0]\n",
        "e_pred = [0.5, 1, 0, 0, 0, 0]"
      ],
      "metadata": {
        "id": "Op1xIOL91dl_"
      },
      "execution_count": null,
      "outputs": []
    },
    {
      "cell_type": "code",
      "source": [
        "f_true = [0, 1, 1, 1, 0, 0]\n",
        "f_pred = [1, 1, 1, 1, 1, 0.5]"
      ],
      "metadata": {
        "id": "12Gdkjfc7K-0"
      },
      "execution_count": null,
      "outputs": []
    },
    {
      "cell_type": "code",
      "source": [
        "g_true = [1, 0, 1, 0, 1, 0]\n",
        "g_pred = [1, 0.5, 1, 0, 1, 0]"
      ],
      "metadata": {
        "id": "VJ9II6uzDBH-"
      },
      "execution_count": null,
      "outputs": []
    },
    {
      "cell_type": "code",
      "source": [
        "h_true = [0, 0, 0.5, 1, 1, 0]\n",
        "h_pred = [1, 1, 0, 0, 0, 0]"
      ],
      "metadata": {
        "id": "Aj8kAgHTHeov"
      },
      "execution_count": null,
      "outputs": []
    },
    {
      "cell_type": "code",
      "source": [
        "# build a linear regression model for group stage prediction\n",
        "\n",
        "true_18 = [1, 0, 1, 0, 0, 1, 0, 0.5, 0, 0, 0.5, 0.5, 1, 0, 1, 0.5, 0.5, 0, 0.5, 1, 0, 0, 1, 0, 0, 0.5, 0, 0, 0.5, 0, 0, 1, 1, 1, 0, 0, \n",
        "           1, 0, 1, 0, 1, 0, 0, 0, 0.5, 1, 1, 0]\n",
        "pred_18 = [0.5, 0, 0.5, 0, 0, 0.5, 0.5, 0.5, 0, 0, 0, 0, 1, 0.5, 0.5, 0, 0.5, 0, 1, 1, 1, 1, 1, 0.5, 0.5, 1, 0, 0, 0, 0, 1, 1, 1, 1, 1, 0.5, \n",
        "           1, 0.5, 1, 0, 1, 0, 1, 1, 0, 0, 0, 0]\n",
        "# dummy: host country attended is 1\n",
        "host_18 = [1, 0, 1, 0, 1, 0, 0, 0, 0, 0, 0, 0, 0, 0, 0, 0, 0, 0, 0, 0, 0, 0, 0, 0, 0, 0, 0, 0, 0, 0, 0, 0, 0, 0, 0, 0, 0, 0, 0, 0, 0, 0, \n",
        "           0, 0, 0, 0, 0, 0]\n",
        "# dummy: asia, europa, africa, mid-north america, south america\n",
        "afc_18 = [0, 0, 0, 0, 0, 0, 1, 0, 0, 1, 0, 1, 1, 0, 0, 1, 0, 1, 0, 0, 0, 0, 0, 0, 0, 0, 0, 0, 0, 0, 0, 1, 0, 1, 1, 0, 0, 0, 0, 0, 0, 0, \n",
        "           1, 0, 0, 1, 0, 1]\n",
        "uefa_18 = [1, 0, 1, 0, 1, 0, 0, 1, 1, 1, 1, 1, 1, 1, 1, 1, 1, 0, 1, 1, 1, 1, 0, 1, 1, 1, 0, 1, 1, 1, 1, 1, 1, 0, 1, 1, 1, 1, 1, 1, 1, 0, \n",
        "           0, 1, 1, 0, 0, 1]\n",
        "caf_18 = [0, 1, 1, 0, 0, 1, 1, 0, 1, 0, 1, 0, 0, 0, 0, 0, 0, 0, 0, 1, 0, 1, 1, 0, 0, 0, 0, 0, 0, 0, 0, 0, 0, 0, 0, 0, 0, 1, 1, 0, 0, 1, \n",
        "           0, 1, 0, 1, 1, 0]\n",
        "concacaf_18 = [0, 0, 0, 0, 0, 0, 0, 0, 0, 0, 0, 0, 0, 0, 0, 0, 0, 0, 0, 0, 0, 0, 0, 0, 1, 0, 1, 0, 1, 0, 1, 0, 0, 1, 0, 1, 1, 0, 0, 1, 0, 1, \n",
        "           0, 0, 0, 0, 0, 0]\n",
        "conmebol_18 = [0, 1, 0, 1, 1, 0, 0, 0, 0, 0, 0, 0, 0, 1, 1, 0, 0, 1, 1, 0, 1, 0, 1, 0, 0, 1, 1, 0, 0, 1, 0, 0, 0, 0, 0, 0, 0, 0, 0, 0, 0, 0, \n",
        "           1, 0, 1, 0, 1, 0]\n",
        "\n",
        "from statsmodels.formula.api import ols\n",
        "dict = {'true_18': true_18, 'pred_18': pred_18, 'host_18': host_18, 'afc_18': afc_18, 'uefa_18': uefa_18, 'caf_18': caf_18, \n",
        "        'concacaf_18': concacaf_18, 'conmebol_18': conmebol_18} \n",
        "data_18 = pd.DataFrame(dict)\n",
        "data_18.head()"
      ],
      "metadata": {
        "id": "CIkpTdq0fhVU",
        "colab": {
          "base_uri": "https://localhost:8080/",
          "height": 206
        },
        "outputId": "ca17411f-ba70-432f-e02e-dbe8f4a5978c"
      },
      "execution_count": null,
      "outputs": [
        {
          "output_type": "execute_result",
          "data": {
            "text/plain": [
              "   true_18  pred_18  host_18  afc_18  uefa_18  caf_18  concacaf_18  \\\n",
              "0      1.0      0.5        1       0        1       0            0   \n",
              "1      0.0      0.0        0       0        0       1            0   \n",
              "2      1.0      0.5        1       0        1       1            0   \n",
              "3      0.0      0.0        0       0        0       0            0   \n",
              "4      0.0      0.0        1       0        1       0            0   \n",
              "\n",
              "   conmebol_18  \n",
              "0            0  \n",
              "1            1  \n",
              "2            0  \n",
              "3            1  \n",
              "4            1  "
            ],
            "text/html": [
              "\n",
              "  <div id=\"df-0ca70e77-237a-4f59-a99c-e1def40ba758\">\n",
              "    <div class=\"colab-df-container\">\n",
              "      <div>\n",
              "<style scoped>\n",
              "    .dataframe tbody tr th:only-of-type {\n",
              "        vertical-align: middle;\n",
              "    }\n",
              "\n",
              "    .dataframe tbody tr th {\n",
              "        vertical-align: top;\n",
              "    }\n",
              "\n",
              "    .dataframe thead th {\n",
              "        text-align: right;\n",
              "    }\n",
              "</style>\n",
              "<table border=\"1\" class=\"dataframe\">\n",
              "  <thead>\n",
              "    <tr style=\"text-align: right;\">\n",
              "      <th></th>\n",
              "      <th>true_18</th>\n",
              "      <th>pred_18</th>\n",
              "      <th>host_18</th>\n",
              "      <th>afc_18</th>\n",
              "      <th>uefa_18</th>\n",
              "      <th>caf_18</th>\n",
              "      <th>concacaf_18</th>\n",
              "      <th>conmebol_18</th>\n",
              "    </tr>\n",
              "  </thead>\n",
              "  <tbody>\n",
              "    <tr>\n",
              "      <th>0</th>\n",
              "      <td>1.0</td>\n",
              "      <td>0.5</td>\n",
              "      <td>1</td>\n",
              "      <td>0</td>\n",
              "      <td>1</td>\n",
              "      <td>0</td>\n",
              "      <td>0</td>\n",
              "      <td>0</td>\n",
              "    </tr>\n",
              "    <tr>\n",
              "      <th>1</th>\n",
              "      <td>0.0</td>\n",
              "      <td>0.0</td>\n",
              "      <td>0</td>\n",
              "      <td>0</td>\n",
              "      <td>0</td>\n",
              "      <td>1</td>\n",
              "      <td>0</td>\n",
              "      <td>1</td>\n",
              "    </tr>\n",
              "    <tr>\n",
              "      <th>2</th>\n",
              "      <td>1.0</td>\n",
              "      <td>0.5</td>\n",
              "      <td>1</td>\n",
              "      <td>0</td>\n",
              "      <td>1</td>\n",
              "      <td>1</td>\n",
              "      <td>0</td>\n",
              "      <td>0</td>\n",
              "    </tr>\n",
              "    <tr>\n",
              "      <th>3</th>\n",
              "      <td>0.0</td>\n",
              "      <td>0.0</td>\n",
              "      <td>0</td>\n",
              "      <td>0</td>\n",
              "      <td>0</td>\n",
              "      <td>0</td>\n",
              "      <td>0</td>\n",
              "      <td>1</td>\n",
              "    </tr>\n",
              "    <tr>\n",
              "      <th>4</th>\n",
              "      <td>0.0</td>\n",
              "      <td>0.0</td>\n",
              "      <td>1</td>\n",
              "      <td>0</td>\n",
              "      <td>1</td>\n",
              "      <td>0</td>\n",
              "      <td>0</td>\n",
              "      <td>1</td>\n",
              "    </tr>\n",
              "  </tbody>\n",
              "</table>\n",
              "</div>\n",
              "      <button class=\"colab-df-convert\" onclick=\"convertToInteractive('df-0ca70e77-237a-4f59-a99c-e1def40ba758')\"\n",
              "              title=\"Convert this dataframe to an interactive table.\"\n",
              "              style=\"display:none;\">\n",
              "        \n",
              "  <svg xmlns=\"http://www.w3.org/2000/svg\" height=\"24px\"viewBox=\"0 0 24 24\"\n",
              "       width=\"24px\">\n",
              "    <path d=\"M0 0h24v24H0V0z\" fill=\"none\"/>\n",
              "    <path d=\"M18.56 5.44l.94 2.06.94-2.06 2.06-.94-2.06-.94-.94-2.06-.94 2.06-2.06.94zm-11 1L8.5 8.5l.94-2.06 2.06-.94-2.06-.94L8.5 2.5l-.94 2.06-2.06.94zm10 10l.94 2.06.94-2.06 2.06-.94-2.06-.94-.94-2.06-.94 2.06-2.06.94z\"/><path d=\"M17.41 7.96l-1.37-1.37c-.4-.4-.92-.59-1.43-.59-.52 0-1.04.2-1.43.59L10.3 9.45l-7.72 7.72c-.78.78-.78 2.05 0 2.83L4 21.41c.39.39.9.59 1.41.59.51 0 1.02-.2 1.41-.59l7.78-7.78 2.81-2.81c.8-.78.8-2.07 0-2.86zM5.41 20L4 18.59l7.72-7.72 1.47 1.35L5.41 20z\"/>\n",
              "  </svg>\n",
              "      </button>\n",
              "      \n",
              "  <style>\n",
              "    .colab-df-container {\n",
              "      display:flex;\n",
              "      flex-wrap:wrap;\n",
              "      gap: 12px;\n",
              "    }\n",
              "\n",
              "    .colab-df-convert {\n",
              "      background-color: #E8F0FE;\n",
              "      border: none;\n",
              "      border-radius: 50%;\n",
              "      cursor: pointer;\n",
              "      display: none;\n",
              "      fill: #1967D2;\n",
              "      height: 32px;\n",
              "      padding: 0 0 0 0;\n",
              "      width: 32px;\n",
              "    }\n",
              "\n",
              "    .colab-df-convert:hover {\n",
              "      background-color: #E2EBFA;\n",
              "      box-shadow: 0px 1px 2px rgba(60, 64, 67, 0.3), 0px 1px 3px 1px rgba(60, 64, 67, 0.15);\n",
              "      fill: #174EA6;\n",
              "    }\n",
              "\n",
              "    [theme=dark] .colab-df-convert {\n",
              "      background-color: #3B4455;\n",
              "      fill: #D2E3FC;\n",
              "    }\n",
              "\n",
              "    [theme=dark] .colab-df-convert:hover {\n",
              "      background-color: #434B5C;\n",
              "      box-shadow: 0px 1px 3px 1px rgba(0, 0, 0, 0.15);\n",
              "      filter: drop-shadow(0px 1px 2px rgba(0, 0, 0, 0.3));\n",
              "      fill: #FFFFFF;\n",
              "    }\n",
              "  </style>\n",
              "\n",
              "      <script>\n",
              "        const buttonEl =\n",
              "          document.querySelector('#df-0ca70e77-237a-4f59-a99c-e1def40ba758 button.colab-df-convert');\n",
              "        buttonEl.style.display =\n",
              "          google.colab.kernel.accessAllowed ? 'block' : 'none';\n",
              "\n",
              "        async function convertToInteractive(key) {\n",
              "          const element = document.querySelector('#df-0ca70e77-237a-4f59-a99c-e1def40ba758');\n",
              "          const dataTable =\n",
              "            await google.colab.kernel.invokeFunction('convertToInteractive',\n",
              "                                                     [key], {});\n",
              "          if (!dataTable) return;\n",
              "\n",
              "          const docLinkHtml = 'Like what you see? Visit the ' +\n",
              "            '<a target=\"_blank\" href=https://colab.research.google.com/notebooks/data_table.ipynb>data table notebook</a>'\n",
              "            + ' to learn more about interactive tables.';\n",
              "          element.innerHTML = '';\n",
              "          dataTable['output_type'] = 'display_data';\n",
              "          await google.colab.output.renderOutput(dataTable, element);\n",
              "          const docLink = document.createElement('div');\n",
              "          docLink.innerHTML = docLinkHtml;\n",
              "          element.appendChild(docLink);\n",
              "        }\n",
              "      </script>\n",
              "    </div>\n",
              "  </div>\n",
              "  "
            ]
          },
          "metadata": {},
          "execution_count": 238
        }
      ]
    },
    {
      "cell_type": "code",
      "source": [
        "# convert w/l/d to dummy\n",
        "data_18['result'] = data_18.true_18.map({0:0, 1:1, 0.5:2})\n",
        "pred_dummies = pd.get_dummies(data_18.pred_18, prefix='pred')\n",
        "data_18 = pd.concat([data_18, pred_dummies], axis=1)\n",
        "data_18 = data_18.drop('pred_0.5', axis=1)\n",
        "data_18.head()"
      ],
      "metadata": {
        "colab": {
          "base_uri": "https://localhost:8080/",
          "height": 206
        },
        "id": "HCHu9Y2bKioc",
        "outputId": "0f932c8e-d00d-477b-8e98-bb44bdd7b749"
      },
      "execution_count": null,
      "outputs": [
        {
          "output_type": "execute_result",
          "data": {
            "text/plain": [
              "   true_18  pred_18  host_18  afc_18  uefa_18  caf_18  concacaf_18  \\\n",
              "0      1.0      0.5        1       0        1       0            0   \n",
              "1      0.0      0.0        0       0        0       1            0   \n",
              "2      1.0      0.5        1       0        1       1            0   \n",
              "3      0.0      0.0        0       0        0       0            0   \n",
              "4      0.0      0.0        1       0        1       0            0   \n",
              "\n",
              "   conmebol_18  result  pred_0.0  pred_1.0  \n",
              "0            0       1         0         0  \n",
              "1            1       0         1         0  \n",
              "2            0       1         0         0  \n",
              "3            1       0         1         0  \n",
              "4            1       0         1         0  "
            ],
            "text/html": [
              "\n",
              "  <div id=\"df-0cf17d2c-6af9-4a19-bd05-f20a555a3942\">\n",
              "    <div class=\"colab-df-container\">\n",
              "      <div>\n",
              "<style scoped>\n",
              "    .dataframe tbody tr th:only-of-type {\n",
              "        vertical-align: middle;\n",
              "    }\n",
              "\n",
              "    .dataframe tbody tr th {\n",
              "        vertical-align: top;\n",
              "    }\n",
              "\n",
              "    .dataframe thead th {\n",
              "        text-align: right;\n",
              "    }\n",
              "</style>\n",
              "<table border=\"1\" class=\"dataframe\">\n",
              "  <thead>\n",
              "    <tr style=\"text-align: right;\">\n",
              "      <th></th>\n",
              "      <th>true_18</th>\n",
              "      <th>pred_18</th>\n",
              "      <th>host_18</th>\n",
              "      <th>afc_18</th>\n",
              "      <th>uefa_18</th>\n",
              "      <th>caf_18</th>\n",
              "      <th>concacaf_18</th>\n",
              "      <th>conmebol_18</th>\n",
              "      <th>result</th>\n",
              "      <th>pred_0.0</th>\n",
              "      <th>pred_1.0</th>\n",
              "    </tr>\n",
              "  </thead>\n",
              "  <tbody>\n",
              "    <tr>\n",
              "      <th>0</th>\n",
              "      <td>1.0</td>\n",
              "      <td>0.5</td>\n",
              "      <td>1</td>\n",
              "      <td>0</td>\n",
              "      <td>1</td>\n",
              "      <td>0</td>\n",
              "      <td>0</td>\n",
              "      <td>0</td>\n",
              "      <td>1</td>\n",
              "      <td>0</td>\n",
              "      <td>0</td>\n",
              "    </tr>\n",
              "    <tr>\n",
              "      <th>1</th>\n",
              "      <td>0.0</td>\n",
              "      <td>0.0</td>\n",
              "      <td>0</td>\n",
              "      <td>0</td>\n",
              "      <td>0</td>\n",
              "      <td>1</td>\n",
              "      <td>0</td>\n",
              "      <td>1</td>\n",
              "      <td>0</td>\n",
              "      <td>1</td>\n",
              "      <td>0</td>\n",
              "    </tr>\n",
              "    <tr>\n",
              "      <th>2</th>\n",
              "      <td>1.0</td>\n",
              "      <td>0.5</td>\n",
              "      <td>1</td>\n",
              "      <td>0</td>\n",
              "      <td>1</td>\n",
              "      <td>1</td>\n",
              "      <td>0</td>\n",
              "      <td>0</td>\n",
              "      <td>1</td>\n",
              "      <td>0</td>\n",
              "      <td>0</td>\n",
              "    </tr>\n",
              "    <tr>\n",
              "      <th>3</th>\n",
              "      <td>0.0</td>\n",
              "      <td>0.0</td>\n",
              "      <td>0</td>\n",
              "      <td>0</td>\n",
              "      <td>0</td>\n",
              "      <td>0</td>\n",
              "      <td>0</td>\n",
              "      <td>1</td>\n",
              "      <td>0</td>\n",
              "      <td>1</td>\n",
              "      <td>0</td>\n",
              "    </tr>\n",
              "    <tr>\n",
              "      <th>4</th>\n",
              "      <td>0.0</td>\n",
              "      <td>0.0</td>\n",
              "      <td>1</td>\n",
              "      <td>0</td>\n",
              "      <td>1</td>\n",
              "      <td>0</td>\n",
              "      <td>0</td>\n",
              "      <td>1</td>\n",
              "      <td>0</td>\n",
              "      <td>1</td>\n",
              "      <td>0</td>\n",
              "    </tr>\n",
              "  </tbody>\n",
              "</table>\n",
              "</div>\n",
              "      <button class=\"colab-df-convert\" onclick=\"convertToInteractive('df-0cf17d2c-6af9-4a19-bd05-f20a555a3942')\"\n",
              "              title=\"Convert this dataframe to an interactive table.\"\n",
              "              style=\"display:none;\">\n",
              "        \n",
              "  <svg xmlns=\"http://www.w3.org/2000/svg\" height=\"24px\"viewBox=\"0 0 24 24\"\n",
              "       width=\"24px\">\n",
              "    <path d=\"M0 0h24v24H0V0z\" fill=\"none\"/>\n",
              "    <path d=\"M18.56 5.44l.94 2.06.94-2.06 2.06-.94-2.06-.94-.94-2.06-.94 2.06-2.06.94zm-11 1L8.5 8.5l.94-2.06 2.06-.94-2.06-.94L8.5 2.5l-.94 2.06-2.06.94zm10 10l.94 2.06.94-2.06 2.06-.94-2.06-.94-.94-2.06-.94 2.06-2.06.94z\"/><path d=\"M17.41 7.96l-1.37-1.37c-.4-.4-.92-.59-1.43-.59-.52 0-1.04.2-1.43.59L10.3 9.45l-7.72 7.72c-.78.78-.78 2.05 0 2.83L4 21.41c.39.39.9.59 1.41.59.51 0 1.02-.2 1.41-.59l7.78-7.78 2.81-2.81c.8-.78.8-2.07 0-2.86zM5.41 20L4 18.59l7.72-7.72 1.47 1.35L5.41 20z\"/>\n",
              "  </svg>\n",
              "      </button>\n",
              "      \n",
              "  <style>\n",
              "    .colab-df-container {\n",
              "      display:flex;\n",
              "      flex-wrap:wrap;\n",
              "      gap: 12px;\n",
              "    }\n",
              "\n",
              "    .colab-df-convert {\n",
              "      background-color: #E8F0FE;\n",
              "      border: none;\n",
              "      border-radius: 50%;\n",
              "      cursor: pointer;\n",
              "      display: none;\n",
              "      fill: #1967D2;\n",
              "      height: 32px;\n",
              "      padding: 0 0 0 0;\n",
              "      width: 32px;\n",
              "    }\n",
              "\n",
              "    .colab-df-convert:hover {\n",
              "      background-color: #E2EBFA;\n",
              "      box-shadow: 0px 1px 2px rgba(60, 64, 67, 0.3), 0px 1px 3px 1px rgba(60, 64, 67, 0.15);\n",
              "      fill: #174EA6;\n",
              "    }\n",
              "\n",
              "    [theme=dark] .colab-df-convert {\n",
              "      background-color: #3B4455;\n",
              "      fill: #D2E3FC;\n",
              "    }\n",
              "\n",
              "    [theme=dark] .colab-df-convert:hover {\n",
              "      background-color: #434B5C;\n",
              "      box-shadow: 0px 1px 3px 1px rgba(0, 0, 0, 0.15);\n",
              "      filter: drop-shadow(0px 1px 2px rgba(0, 0, 0, 0.3));\n",
              "      fill: #FFFFFF;\n",
              "    }\n",
              "  </style>\n",
              "\n",
              "      <script>\n",
              "        const buttonEl =\n",
              "          document.querySelector('#df-0cf17d2c-6af9-4a19-bd05-f20a555a3942 button.colab-df-convert');\n",
              "        buttonEl.style.display =\n",
              "          google.colab.kernel.accessAllowed ? 'block' : 'none';\n",
              "\n",
              "        async function convertToInteractive(key) {\n",
              "          const element = document.querySelector('#df-0cf17d2c-6af9-4a19-bd05-f20a555a3942');\n",
              "          const dataTable =\n",
              "            await google.colab.kernel.invokeFunction('convertToInteractive',\n",
              "                                                     [key], {});\n",
              "          if (!dataTable) return;\n",
              "\n",
              "          const docLinkHtml = 'Like what you see? Visit the ' +\n",
              "            '<a target=\"_blank\" href=https://colab.research.google.com/notebooks/data_table.ipynb>data table notebook</a>'\n",
              "            + ' to learn more about interactive tables.';\n",
              "          element.innerHTML = '';\n",
              "          dataTable['output_type'] = 'display_data';\n",
              "          await google.colab.output.renderOutput(dataTable, element);\n",
              "          const docLink = document.createElement('div');\n",
              "          docLink.innerHTML = docLinkHtml;\n",
              "          element.appendChild(docLink);\n",
              "        }\n",
              "      </script>\n",
              "    </div>\n",
              "  </div>\n",
              "  "
            ]
          },
          "metadata": {},
          "execution_count": 239
        }
      ]
    },
    {
      "cell_type": "code",
      "source": [
        "# delete a dummy col\n",
        "data_18 = data_18.drop('afc_18', axis=1)\n",
        "data_18.head()"
      ],
      "metadata": {
        "colab": {
          "base_uri": "https://localhost:8080/",
          "height": 206
        },
        "id": "F3A1H5QrCalt",
        "outputId": "df87033a-e5eb-4be0-f100-a140f8df5586"
      },
      "execution_count": null,
      "outputs": [
        {
          "output_type": "execute_result",
          "data": {
            "text/plain": [
              "   true_18  pred_18  host_18  uefa_18  caf_18  concacaf_18  conmebol_18  \\\n",
              "0      1.0      0.5        1        1       0            0            0   \n",
              "1      0.0      0.0        0        0       1            0            1   \n",
              "2      1.0      0.5        1        1       1            0            0   \n",
              "3      0.0      0.0        0        0       0            0            1   \n",
              "4      0.0      0.0        1        1       0            0            1   \n",
              "\n",
              "   result  pred_0.0  pred_1.0  \n",
              "0       1         0         0  \n",
              "1       0         1         0  \n",
              "2       1         0         0  \n",
              "3       0         1         0  \n",
              "4       0         1         0  "
            ],
            "text/html": [
              "\n",
              "  <div id=\"df-4fcacfef-9ae1-444e-808b-c9129c1f31be\">\n",
              "    <div class=\"colab-df-container\">\n",
              "      <div>\n",
              "<style scoped>\n",
              "    .dataframe tbody tr th:only-of-type {\n",
              "        vertical-align: middle;\n",
              "    }\n",
              "\n",
              "    .dataframe tbody tr th {\n",
              "        vertical-align: top;\n",
              "    }\n",
              "\n",
              "    .dataframe thead th {\n",
              "        text-align: right;\n",
              "    }\n",
              "</style>\n",
              "<table border=\"1\" class=\"dataframe\">\n",
              "  <thead>\n",
              "    <tr style=\"text-align: right;\">\n",
              "      <th></th>\n",
              "      <th>true_18</th>\n",
              "      <th>pred_18</th>\n",
              "      <th>host_18</th>\n",
              "      <th>uefa_18</th>\n",
              "      <th>caf_18</th>\n",
              "      <th>concacaf_18</th>\n",
              "      <th>conmebol_18</th>\n",
              "      <th>result</th>\n",
              "      <th>pred_0.0</th>\n",
              "      <th>pred_1.0</th>\n",
              "    </tr>\n",
              "  </thead>\n",
              "  <tbody>\n",
              "    <tr>\n",
              "      <th>0</th>\n",
              "      <td>1.0</td>\n",
              "      <td>0.5</td>\n",
              "      <td>1</td>\n",
              "      <td>1</td>\n",
              "      <td>0</td>\n",
              "      <td>0</td>\n",
              "      <td>0</td>\n",
              "      <td>1</td>\n",
              "      <td>0</td>\n",
              "      <td>0</td>\n",
              "    </tr>\n",
              "    <tr>\n",
              "      <th>1</th>\n",
              "      <td>0.0</td>\n",
              "      <td>0.0</td>\n",
              "      <td>0</td>\n",
              "      <td>0</td>\n",
              "      <td>1</td>\n",
              "      <td>0</td>\n",
              "      <td>1</td>\n",
              "      <td>0</td>\n",
              "      <td>1</td>\n",
              "      <td>0</td>\n",
              "    </tr>\n",
              "    <tr>\n",
              "      <th>2</th>\n",
              "      <td>1.0</td>\n",
              "      <td>0.5</td>\n",
              "      <td>1</td>\n",
              "      <td>1</td>\n",
              "      <td>1</td>\n",
              "      <td>0</td>\n",
              "      <td>0</td>\n",
              "      <td>1</td>\n",
              "      <td>0</td>\n",
              "      <td>0</td>\n",
              "    </tr>\n",
              "    <tr>\n",
              "      <th>3</th>\n",
              "      <td>0.0</td>\n",
              "      <td>0.0</td>\n",
              "      <td>0</td>\n",
              "      <td>0</td>\n",
              "      <td>0</td>\n",
              "      <td>0</td>\n",
              "      <td>1</td>\n",
              "      <td>0</td>\n",
              "      <td>1</td>\n",
              "      <td>0</td>\n",
              "    </tr>\n",
              "    <tr>\n",
              "      <th>4</th>\n",
              "      <td>0.0</td>\n",
              "      <td>0.0</td>\n",
              "      <td>1</td>\n",
              "      <td>1</td>\n",
              "      <td>0</td>\n",
              "      <td>0</td>\n",
              "      <td>1</td>\n",
              "      <td>0</td>\n",
              "      <td>1</td>\n",
              "      <td>0</td>\n",
              "    </tr>\n",
              "  </tbody>\n",
              "</table>\n",
              "</div>\n",
              "      <button class=\"colab-df-convert\" onclick=\"convertToInteractive('df-4fcacfef-9ae1-444e-808b-c9129c1f31be')\"\n",
              "              title=\"Convert this dataframe to an interactive table.\"\n",
              "              style=\"display:none;\">\n",
              "        \n",
              "  <svg xmlns=\"http://www.w3.org/2000/svg\" height=\"24px\"viewBox=\"0 0 24 24\"\n",
              "       width=\"24px\">\n",
              "    <path d=\"M0 0h24v24H0V0z\" fill=\"none\"/>\n",
              "    <path d=\"M18.56 5.44l.94 2.06.94-2.06 2.06-.94-2.06-.94-.94-2.06-.94 2.06-2.06.94zm-11 1L8.5 8.5l.94-2.06 2.06-.94-2.06-.94L8.5 2.5l-.94 2.06-2.06.94zm10 10l.94 2.06.94-2.06 2.06-.94-2.06-.94-.94-2.06-.94 2.06-2.06.94z\"/><path d=\"M17.41 7.96l-1.37-1.37c-.4-.4-.92-.59-1.43-.59-.52 0-1.04.2-1.43.59L10.3 9.45l-7.72 7.72c-.78.78-.78 2.05 0 2.83L4 21.41c.39.39.9.59 1.41.59.51 0 1.02-.2 1.41-.59l7.78-7.78 2.81-2.81c.8-.78.8-2.07 0-2.86zM5.41 20L4 18.59l7.72-7.72 1.47 1.35L5.41 20z\"/>\n",
              "  </svg>\n",
              "      </button>\n",
              "      \n",
              "  <style>\n",
              "    .colab-df-container {\n",
              "      display:flex;\n",
              "      flex-wrap:wrap;\n",
              "      gap: 12px;\n",
              "    }\n",
              "\n",
              "    .colab-df-convert {\n",
              "      background-color: #E8F0FE;\n",
              "      border: none;\n",
              "      border-radius: 50%;\n",
              "      cursor: pointer;\n",
              "      display: none;\n",
              "      fill: #1967D2;\n",
              "      height: 32px;\n",
              "      padding: 0 0 0 0;\n",
              "      width: 32px;\n",
              "    }\n",
              "\n",
              "    .colab-df-convert:hover {\n",
              "      background-color: #E2EBFA;\n",
              "      box-shadow: 0px 1px 2px rgba(60, 64, 67, 0.3), 0px 1px 3px 1px rgba(60, 64, 67, 0.15);\n",
              "      fill: #174EA6;\n",
              "    }\n",
              "\n",
              "    [theme=dark] .colab-df-convert {\n",
              "      background-color: #3B4455;\n",
              "      fill: #D2E3FC;\n",
              "    }\n",
              "\n",
              "    [theme=dark] .colab-df-convert:hover {\n",
              "      background-color: #434B5C;\n",
              "      box-shadow: 0px 1px 3px 1px rgba(0, 0, 0, 0.15);\n",
              "      filter: drop-shadow(0px 1px 2px rgba(0, 0, 0, 0.3));\n",
              "      fill: #FFFFFF;\n",
              "    }\n",
              "  </style>\n",
              "\n",
              "      <script>\n",
              "        const buttonEl =\n",
              "          document.querySelector('#df-4fcacfef-9ae1-444e-808b-c9129c1f31be button.colab-df-convert');\n",
              "        buttonEl.style.display =\n",
              "          google.colab.kernel.accessAllowed ? 'block' : 'none';\n",
              "\n",
              "        async function convertToInteractive(key) {\n",
              "          const element = document.querySelector('#df-4fcacfef-9ae1-444e-808b-c9129c1f31be');\n",
              "          const dataTable =\n",
              "            await google.colab.kernel.invokeFunction('convertToInteractive',\n",
              "                                                     [key], {});\n",
              "          if (!dataTable) return;\n",
              "\n",
              "          const docLinkHtml = 'Like what you see? Visit the ' +\n",
              "            '<a target=\"_blank\" href=https://colab.research.google.com/notebooks/data_table.ipynb>data table notebook</a>'\n",
              "            + ' to learn more about interactive tables.';\n",
              "          element.innerHTML = '';\n",
              "          dataTable['output_type'] = 'display_data';\n",
              "          await google.colab.output.renderOutput(dataTable, element);\n",
              "          const docLink = document.createElement('div');\n",
              "          docLink.innerHTML = docLinkHtml;\n",
              "          element.appendChild(docLink);\n",
              "        }\n",
              "      </script>\n",
              "    </div>\n",
              "  </div>\n",
              "  "
            ]
          },
          "metadata": {},
          "execution_count": 240
        }
      ]
    },
    {
      "cell_type": "code",
      "source": [
        "# feature selection\n",
        "feature_cols = ['pred_0.0', 'pred_1.0', 'host_18', 'uefa_18', 'caf_18', 'concacaf_18', 'conmebol_18']\n",
        "X_18 = data_18[feature_cols]\n",
        "y_18 = data_18.result\n",
        "\n",
        "# split dataset into training set and test set\n",
        "X_train, X_test, y_train, y_test = train_test_split(X_18, y_18, test_size=0.5, random_state=1) \n",
        "# create Decision Tree classifer object\n",
        "clf = DecisionTreeClassifier()\n",
        "# train Decision Tree Classifer\n",
        "clf = clf.fit(X_train,y_train)\n",
        "# predict the response for test dataset\n",
        "y_pred = clf.predict(X_test)\n",
        "\n",
        "# evaluate model\n",
        "print(\"Accuracy:\",metrics.accuracy_score(y_test, y_pred))"
      ],
      "metadata": {
        "colab": {
          "base_uri": "https://localhost:8080/"
        },
        "id": "XHSp4FTiEM_E",
        "outputId": "dbcf3c2c-e107-4216-9ef2-d38f7d3e0b4d"
      },
      "execution_count": null,
      "outputs": [
        {
          "output_type": "stream",
          "name": "stdout",
          "text": [
            "Accuracy: 0.375\n"
          ]
        }
      ]
    }
  ]
}